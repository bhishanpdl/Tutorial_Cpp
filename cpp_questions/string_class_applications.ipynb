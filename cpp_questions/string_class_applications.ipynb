{
 "cells": [
  {
   "cell_type": "markdown",
   "metadata": {
    "toc": true
   },
   "source": [
    "<h1>Table of Contents<span class=\"tocSkip\"></span></h1>\n",
    "<div class=\"toc\"><ul class=\"toc-item\"></ul></div>"
   ]
  },
  {
   "cell_type": "code",
   "execution_count": 2,
   "metadata": {
    "ExecuteTime": {
     "end_time": "2019-05-30T12:01:25.464014Z",
     "start_time": "2019-05-30T12:01:25.461891Z"
    }
   },
   "outputs": [],
   "source": [
    "/*\n",
    "Author: Bhishan Poudel\n",
    "Date: May 30, 2019\n",
    "Ref: https://www.geeksforgeeks.org/c-string-class-and-its-applications/\n",
    "*/\n",
    "#include <iostream>\n",
    "#include <string>\n",
    "#include <sstream>\n",
    "\n",
    "using namespace std;"
   ]
  },
  {
   "cell_type": "code",
   "execution_count": 3,
   "metadata": {
    "ExecuteTime": {
     "end_time": "2019-05-30T12:01:51.653039Z",
     "start_time": "2019-05-30T12:01:51.334929Z"
    }
   },
   "outputs": [
    {
     "data": {
      "text/plain": [
       "\"first string\""
      ]
     },
     "execution_count": 3,
     "metadata": {},
     "output_type": "execute_result"
    }
   ],
   "source": [
    "string str1(\"first string\");\n",
    "str1"
   ]
  },
  {
   "cell_type": "code",
   "execution_count": 4,
   "metadata": {
    "ExecuteTime": {
     "end_time": "2019-05-30T12:02:09.312777Z",
     "start_time": "2019-05-30T12:02:09.67610Z"
    }
   },
   "outputs": [
    {
     "data": {
      "text/plain": [
       "\"first string\""
      ]
     },
     "execution_count": 4,
     "metadata": {},
     "output_type": "execute_result"
    }
   ],
   "source": [
    "string str2(str1);\n",
    "str2"
   ]
  },
  {
   "cell_type": "code",
   "execution_count": 5,
   "metadata": {
    "ExecuteTime": {
     "end_time": "2019-05-30T12:02:27.802330Z",
     "start_time": "2019-05-30T12:02:27.547595Z"
    }
   },
   "outputs": [
    {
     "data": {
      "text/plain": [
       "\"#####\""
      ]
     },
     "execution_count": 5,
     "metadata": {},
     "output_type": "execute_result"
    }
   ],
   "source": [
    "string str3(5,'#');\n",
    "str3"
   ]
  },
  {
   "cell_type": "code",
   "execution_count": 7,
   "metadata": {
    "ExecuteTime": {
     "end_time": "2019-05-30T12:03:19.769921Z",
     "start_time": "2019-05-30T12:03:19.769280Z"
    }
   },
   "outputs": [],
   "source": [
    "//string str3a(5,'ab'); // fails\n",
    "//str3a"
   ]
  },
  {
   "cell_type": "code",
   "execution_count": 8,
   "metadata": {
    "ExecuteTime": {
     "end_time": "2019-05-30T12:05:26.743778Z",
     "start_time": "2019-05-30T12:05:26.483983Z"
    }
   },
   "outputs": [
    {
     "data": {
      "text/plain": [
       "\"first\""
      ]
     },
     "execution_count": 8,
     "metadata": {},
     "output_type": "execute_result"
    }
   ],
   "source": [
    "string str4(str2.begin(), str2.begin()+5);\n",
    "str4"
   ]
  },
  {
   "cell_type": "code",
   "execution_count": 10,
   "metadata": {
    "ExecuteTime": {
     "end_time": "2019-05-30T12:06:29.503525Z",
     "start_time": "2019-05-30T12:06:29.228382Z"
    }
   },
   "outputs": [
    {
     "data": {
      "text/plain": [
       "\"first\""
      ]
     },
     "execution_count": 10,
     "metadata": {},
     "output_type": "execute_result"
    }
   ],
   "source": [
    "string str6 = str4;\n",
    "str6"
   ]
  },
  {
   "cell_type": "code",
   "execution_count": 11,
   "metadata": {
    "ExecuteTime": {
     "end_time": "2019-05-30T12:06:43.630924Z",
     "start_time": "2019-05-30T12:06:43.380522Z"
    }
   },
   "outputs": [
    {
     "data": {
      "text/plain": [
       "\"\""
      ]
     },
     "execution_count": 11,
     "metadata": {},
     "output_type": "execute_result"
    }
   ],
   "source": [
    "str4.clear();\n",
    "str4"
   ]
  },
  {
   "cell_type": "code",
   "execution_count": 13,
   "metadata": {
    "ExecuteTime": {
     "end_time": "2019-05-30T12:07:20.279356Z",
     "start_time": "2019-05-30T12:07:20.275942Z"
    }
   },
   "outputs": [
    {
     "name": "stderr",
     "output_type": "stream",
     "text": [
      "\u001b[1minput_line_31:2:18: \u001b[0m\u001b[0;1;31merror: \u001b[0m\u001b[1mno member named 'length' in 'std::__1::basic_string<char>'\u001b[0m\n",
      " int len6 = str6.length();\n",
      "\u001b[0;1;32m            ~~~~ ^\n",
      "\u001b[0m"
     ]
    },
    {
     "ename": "Interpreter Error",
     "evalue": "",
     "output_type": "error",
     "traceback": [
      "Interpreter Error: "
     ]
    }
   ],
   "source": [
    "int len6 = str6.length();\n",
    "len6"
   ]
  },
  {
   "cell_type": "code",
   "execution_count": 16,
   "metadata": {
    "ExecuteTime": {
     "end_time": "2019-05-30T12:08:53.862663Z",
     "start_time": "2019-05-30T12:08:53.857989Z"
    }
   },
   "outputs": [
    {
     "name": "stderr",
     "output_type": "stream",
     "text": [
      "\u001b[1minput_line_34:2:6: \u001b[0m\u001b[0;1;31merror: \u001b[0m\u001b[1mredefinition of 'len6'\u001b[0m\n",
      " int len6 = str6.size(); \n",
      "\u001b[0;1;32m     ^\n",
      "\u001b[0m\u001b[1minput_line_33:2:6: \u001b[0m\u001b[0;1;30mnote: \u001b[0mprevious definition is here\u001b[0m\n",
      " int len6 = str6.size(); \n",
      "\u001b[0;1;32m     ^\n",
      "\u001b[0m"
     ]
    },
    {
     "ename": "Interpreter Error",
     "evalue": "",
     "output_type": "error",
     "traceback": [
      "Interpreter Error: "
     ]
    }
   ],
   "source": [
    "int len6 = str6.size(); \n",
    "len6"
   ]
  },
  {
   "cell_type": "code",
   "execution_count": 18,
   "metadata": {
    "ExecuteTime": {
     "end_time": "2019-05-30T12:10:20.645850Z",
     "start_time": "2019-05-30T12:10:20.366961Z"
    }
   },
   "outputs": [
    {
     "data": {
      "text/plain": [
       "'r'"
      ]
     },
     "execution_count": 18,
     "metadata": {},
     "output_type": "execute_result"
    }
   ],
   "source": [
    "char ch2 = str6.at(2);\n",
    "\n",
    "ch2"
   ]
  },
  {
   "cell_type": "code",
   "execution_count": 20,
   "metadata": {
    "ExecuteTime": {
     "end_time": "2019-05-30T12:10:36.168495Z",
     "start_time": "2019-05-30T12:10:35.894800Z"
    }
   },
   "outputs": [
    {
     "data": {
      "text/plain": [
       "'r'"
      ]
     },
     "execution_count": 20,
     "metadata": {},
     "output_type": "execute_result"
    }
   ],
   "source": [
    "str6[2]"
   ]
  },
  {
   "cell_type": "code",
   "execution_count": 21,
   "metadata": {
    "ExecuteTime": {
     "end_time": "2019-05-30T12:12:06.489235Z",
     "start_time": "2019-05-30T12:12:06.224457Z"
    }
   },
   "outputs": [
    {
     "data": {
      "text/plain": [
       "\"first\""
      ]
     },
     "execution_count": 21,
     "metadata": {},
     "output_type": "execute_result"
    }
   ],
   "source": [
    "string s = str6;\n",
    "s"
   ]
  },
  {
   "cell_type": "code",
   "execution_count": 22,
   "metadata": {
    "ExecuteTime": {
     "end_time": "2019-05-30T12:12:17.619947Z",
     "start_time": "2019-05-30T12:12:17.353123Z"
    }
   },
   "outputs": [
    {
     "data": {
      "text/plain": [
       "'f'"
      ]
     },
     "execution_count": 22,
     "metadata": {},
     "output_type": "execute_result"
    }
   ],
   "source": [
    "char c0 = s.front();\n",
    "c0"
   ]
  },
  {
   "cell_type": "code",
   "execution_count": 24,
   "metadata": {
    "ExecuteTime": {
     "end_time": "2019-05-30T12:12:28.282525Z",
     "start_time": "2019-05-30T12:12:27.861350Z"
    }
   },
   "outputs": [
    {
     "data": {
      "text/plain": [
       "'f'"
      ]
     },
     "execution_count": 24,
     "metadata": {},
     "output_type": "execute_result"
    }
   ],
   "source": [
    "s[0]"
   ]
  },
  {
   "cell_type": "code",
   "execution_count": 25,
   "metadata": {
    "ExecuteTime": {
     "end_time": "2019-05-30T12:12:52.924604Z",
     "start_time": "2019-05-30T12:12:52.611185Z"
    }
   },
   "outputs": [
    {
     "data": {
      "text/plain": [
       "'t'"
      ]
     },
     "execution_count": 25,
     "metadata": {},
     "output_type": "execute_result"
    }
   ],
   "source": [
    "char cb = s.back();\n",
    "cb"
   ]
  },
  {
   "cell_type": "code",
   "execution_count": 26,
   "metadata": {
    "ExecuteTime": {
     "end_time": "2019-05-30T12:13:17.346030Z",
     "start_time": "2019-05-30T12:13:16.692155Z"
    }
   },
   "outputs": [
    {
     "data": {
      "text/plain": [
       "'t'"
      ]
     },
     "execution_count": 26,
     "metadata": {},
     "output_type": "execute_result"
    }
   ],
   "source": [
    "s[s.size()-1]"
   ]
  },
  {
   "cell_type": "code",
   "execution_count": 27,
   "metadata": {
    "ExecuteTime": {
     "end_time": "2019-05-30T12:13:19.762618Z",
     "start_time": "2019-05-30T12:13:19.416580Z"
    }
   },
   "outputs": [
    {
     "data": {
      "text/plain": [
       "\"first\""
      ]
     },
     "execution_count": 27,
     "metadata": {},
     "output_type": "execute_result"
    }
   ],
   "source": [
    "s"
   ]
  },
  {
   "cell_type": "code",
   "execution_count": 29,
   "metadata": {
    "ExecuteTime": {
     "end_time": "2019-05-30T12:15:44.385008Z",
     "start_time": "2019-05-30T12:15:44.379345Z"
    }
   },
   "outputs": [],
   "source": [
    "// c_str returns null terminated char array version of string\n",
    "\n",
    "const char* charstr = s.c_str();\n",
    "\n",
    "printf(\"%s\\n\", charstr);"
   ]
  },
  {
   "cell_type": "code",
   "execution_count": 30,
   "metadata": {
    "ExecuteTime": {
     "end_time": "2019-05-30T12:15:54.317230Z",
     "start_time": "2019-05-30T12:15:53.712690Z"
    }
   },
   "outputs": [
    {
     "data": {
      "text/plain": [
       "\"first\""
      ]
     },
     "execution_count": 30,
     "metadata": {},
     "output_type": "execute_result"
    }
   ],
   "source": [
    "charstr"
   ]
  },
  {
   "cell_type": "code",
   "execution_count": 31,
   "metadata": {
    "ExecuteTime": {
     "end_time": "2019-05-30T12:17:03.510146Z",
     "start_time": "2019-05-30T12:17:03.193638Z"
    }
   },
   "outputs": [
    {
     "data": {
      "text/plain": [
       "\"first append\""
      ]
     },
     "execution_count": 31,
     "metadata": {},
     "output_type": "execute_result"
    }
   ],
   "source": [
    "s.append(\" append\");\n",
    "s"
   ]
  },
  {
   "cell_type": "code",
   "execution_count": 32,
   "metadata": {
    "ExecuteTime": {
     "end_time": "2019-05-30T12:17:16.981122Z",
     "start_time": "2019-05-30T12:17:16.644152Z"
    }
   },
   "outputs": [
    {
     "data": {
      "text/plain": [
       "\"first append append\""
      ]
     },
     "execution_count": 32,
     "metadata": {},
     "output_type": "execute_result"
    }
   ],
   "source": [
    "s+= \" append\";\n",
    "s"
   ]
  },
  {
   "cell_type": "code",
   "execution_count": 33,
   "metadata": {
    "ExecuteTime": {
     "end_time": "2019-05-30T12:18:23.139534Z",
     "start_time": "2019-05-30T12:18:22.853201Z"
    }
   },
   "outputs": [
    {
     "data": {
      "text/plain": [
       "\"first append appendprepend\""
      ]
     },
     "execution_count": 33,
     "metadata": {},
     "output_type": "execute_result"
    }
   ],
   "source": [
    "s.append(\"prepend\",0,7);\n",
    "s"
   ]
  },
  {
   "cell_type": "code",
   "execution_count": 34,
   "metadata": {
    "ExecuteTime": {
     "end_time": "2019-05-30T12:18:55.675479Z",
     "start_time": "2019-05-30T12:18:55.341965Z"
    }
   },
   "outputs": [
    {
     "data": {
      "text/plain": [
       "\"\""
      ]
     },
     "execution_count": 34,
     "metadata": {},
     "output_type": "execute_result"
    }
   ],
   "source": [
    "s.clear();\n",
    "s"
   ]
  },
  {
   "cell_type": "code",
   "execution_count": 35,
   "metadata": {
    "ExecuteTime": {
     "end_time": "2019-05-30T12:19:08.487410Z",
     "start_time": "2019-05-30T12:19:08.214218Z"
    }
   },
   "outputs": [
    {
     "data": {
      "text/plain": [
       "\"first\""
      ]
     },
     "execution_count": 35,
     "metadata": {},
     "output_type": "execute_result"
    }
   ],
   "source": [
    "s = str6;\n",
    "s"
   ]
  },
  {
   "cell_type": "code",
   "execution_count": 36,
   "metadata": {
    "ExecuteTime": {
     "end_time": "2019-05-30T12:19:28.783294Z",
     "start_time": "2019-05-30T12:19:28.502581Z"
    }
   },
   "outputs": [
    {
     "data": {
      "text/plain": [
       "\"firstfirst\""
      ]
     },
     "execution_count": 36,
     "metadata": {},
     "output_type": "execute_result"
    }
   ],
   "source": [
    "s.append(s);\n",
    "s"
   ]
  },
  {
   "cell_type": "code",
   "execution_count": 38,
   "metadata": {
    "ExecuteTime": {
     "end_time": "2019-05-30T12:21:35.718958Z",
     "start_time": "2019-05-30T12:21:35.428807Z"
    }
   },
   "outputs": [
    {
     "data": {
      "text/plain": [
       "\"rst\""
      ]
     },
     "execution_count": 38,
     "metadata": {},
     "output_type": "execute_result"
    }
   ],
   "source": [
    "string s2 = \"rst\";\n",
    "s2"
   ]
  },
  {
   "cell_type": "code",
   "execution_count": 39,
   "metadata": {
    "ExecuteTime": {
     "end_time": "2019-05-30T12:21:56.713288Z",
     "start_time": "2019-05-30T12:21:56.712389Z"
    }
   },
   "outputs": [],
   "source": [
    "//  find returns index where pattern is found. \n",
    "//  If pattern is not there it returns predefined \n",
    "//  constant npos whose value is -1"
   ]
  },
  {
   "cell_type": "code",
   "execution_count": 40,
   "metadata": {
    "ExecuteTime": {
     "end_time": "2019-05-30T12:23:45.905536Z",
     "start_time": "2019-05-30T12:23:45.894120Z"
    }
   },
   "outputs": [
    {
     "name": "stderr",
     "output_type": "stream",
     "text": [
      "\u001b[1minput_line_75:3:5: \u001b[0m\u001b[0;1;31merror: \u001b[0m\u001b[1mreference to 'cout' is ambiguous\u001b[0m\n",
      "    cout << \"position: \" << s.find(s2) << '\\n';\n",
      "\u001b[0;1;32m    ^\n",
      "\u001b[0m\u001b[1m/Users/poudel/miniconda3/envs/pyvz/include/c++/v1/iostream:54:33: \u001b[0m\u001b[0;1;30mnote: \u001b[0mcandidate found by name lookup is 'std::__1::cout'\u001b[0m\n",
      "extern _LIBCPP_FUNC_VIS ostream cout;\n",
      "\u001b[0;1;32m                                ^\n",
      "\u001b[0m\u001b[1m/Users/poudel/miniconda3/envs/pyvz/include/c++/v1/iostream:54:33: \u001b[0m\u001b[0;1;30mnote: \u001b[0mcandidate found by name lookup is 'std::__1::cout'\u001b[0m\n",
      "extern _LIBCPP_FUNC_VIS ostream cout;\n",
      "\u001b[0;1;32m                                ^\n",
      "\u001b[0m\u001b[1minput_line_75:5:5: \u001b[0m\u001b[0;1;31merror: \u001b[0m\u001b[1mreference to 'cout' is ambiguous\u001b[0m\n",
      "    cout << \"not found\" << '\\n';\n",
      "\u001b[0;1;32m    ^\n",
      "\u001b[0m\u001b[1m/Users/poudel/miniconda3/envs/pyvz/include/c++/v1/iostream:54:33: \u001b[0m\u001b[0;1;30mnote: \u001b[0mcandidate found by name lookup is 'std::__1::cout'\u001b[0m\n",
      "extern _LIBCPP_FUNC_VIS ostream cout;\n",
      "\u001b[0;1;32m                                ^\n",
      "\u001b[0m\u001b[1m/Users/poudel/miniconda3/envs/pyvz/include/c++/v1/iostream:54:33: \u001b[0m\u001b[0;1;30mnote: \u001b[0mcandidate found by name lookup is 'std::__1::cout'\u001b[0m\n",
      "extern _LIBCPP_FUNC_VIS ostream cout;\n",
      "\u001b[0;1;32m                                ^\n",
      "\u001b[0m"
     ]
    },
    {
     "ename": "Interpreter Error",
     "evalue": "",
     "output_type": "error",
     "traceback": [
      "Interpreter Error: "
     ]
    }
   ],
   "source": [
    "if (s.find(s2) != string::npos)\n",
    "    cout << \"position: \" << s.find(s2) << '\\n';\n",
    "else\n",
    "    cout << \"not found\" << '\\n';"
   ]
  },
  {
   "cell_type": "code",
   "execution_count": null,
   "metadata": {},
   "outputs": [],
   "source": []
  }
 ],
 "metadata": {
  "kernelspec": {
   "display_name": "C++17",
   "language": "C++17",
   "name": "xcpp17"
  },
  "language_info": {
   "codemirror_mode": "text/x-c++src",
   "file_extension": ".cpp",
   "mimetype": "text/x-c++src",
   "name": "c++",
   "version": "-std=c++17"
  },
  "toc": {
   "base_numbering": 1,
   "nav_menu": {},
   "number_sections": true,
   "sideBar": true,
   "skip_h1_title": false,
   "title_cell": "Table of Contents",
   "title_sidebar": "Contents",
   "toc_cell": true,
   "toc_position": {},
   "toc_section_display": true,
   "toc_window_display": true
  }
 },
 "nbformat": 4,
 "nbformat_minor": 2
}
