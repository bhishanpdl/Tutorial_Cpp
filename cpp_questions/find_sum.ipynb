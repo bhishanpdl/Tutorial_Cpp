{
 "cells": [
  {
   "cell_type": "markdown",
   "metadata": {
    "toc": true
   },
   "source": [
    "<h1>Table of Contents<span class=\"tocSkip\"></span></h1>\n",
    "<div class=\"toc\"><ul class=\"toc-item\"><li><span><a href=\"#Using-C-style\" data-toc-modified-id=\"Using-C-style-1\"><span class=\"toc-item-num\">1&nbsp;&nbsp;</span>Using C style</a></span></li><li><span><a href=\"#Using-c++-style-range-based-loop\" data-toc-modified-id=\"Using-c++-style-range-based-loop-2\"><span class=\"toc-item-num\">2&nbsp;&nbsp;</span>Using c++ style range-based loop</a></span></li><li><span><a href=\"#Using-c++11-for_each\" data-toc-modified-id=\"Using-c++11-for_each-3\"><span class=\"toc-item-num\">3&nbsp;&nbsp;</span>Using c++11 for_each</a></span></li><li><span><a href=\"#using-accumulate\" data-toc-modified-id=\"using-accumulate-4\"><span class=\"toc-item-num\">4&nbsp;&nbsp;</span>using accumulate</a></span></li><li><span><a href=\"#using-valarray\" data-toc-modified-id=\"using-valarray-5\"><span class=\"toc-item-num\">5&nbsp;&nbsp;</span>using valarray</a></span></li><li><span><a href=\"#using-user-defined-function\" data-toc-modified-id=\"using-user-defined-function-6\"><span class=\"toc-item-num\">6&nbsp;&nbsp;</span>using user defined function</a></span></li></ul></div>"
   ]
  },
  {
   "cell_type": "code",
   "execution_count": 1,
   "metadata": {
    "ExecuteTime": {
     "end_time": "2019-06-01T15:52:06.990206Z",
     "start_time": "2019-06-01T15:52:06.727068Z"
    }
   },
   "outputs": [],
   "source": [
    "/*\n",
    "Author: Bhishan Poudel\n",
    "Date: Jun 1, 2019\n",
    "Ref: \n",
    "*/\n",
    "#include <iostream>\n",
    "#include <list>\n",
    "#include <vector>\n",
    "#include <valarray>\n",
    "#include<bits/stdc++.h>\n",
    "\n",
    "using namespace std;"
   ]
  },
  {
   "cell_type": "markdown",
   "metadata": {},
   "source": [
    "# Using C style"
   ]
  },
  {
   "cell_type": "code",
   "execution_count": 2,
   "metadata": {
    "ExecuteTime": {
     "end_time": "2019-06-01T15:52:06.991255Z",
     "start_time": "2019-06-01T15:52:06.990534Z"
    }
   },
   "outputs": [],
   "source": [
    "int arr[] = {1,2,3};\n",
    "int mysum = 0;"
   ]
  },
  {
   "cell_type": "code",
   "execution_count": 3,
   "metadata": {
    "ExecuteTime": {
     "end_time": "2019-06-01T15:52:06.998742Z",
     "start_time": "2019-06-01T15:52:06.991707Z"
    }
   },
   "outputs": [
    {
     "name": "stdout",
     "output_type": "stream",
     "text": [
      "6\n"
     ]
    }
   ],
   "source": [
    "for (int i=0; i<3; i++){\n",
    "    mysum += arr[i];\n",
    "}\n",
    "\n",
    "std::cout << mysum << std::endl;"
   ]
  },
  {
   "cell_type": "markdown",
   "metadata": {},
   "source": [
    "# Using c++ style range-based loop"
   ]
  },
  {
   "cell_type": "code",
   "execution_count": 4,
   "metadata": {
    "ExecuteTime": {
     "end_time": "2019-06-01T15:52:07.179950Z",
     "start_time": "2019-06-01T15:52:06.998934Z"
    }
   },
   "outputs": [],
   "source": [
    "vector<int> v{1,2,3} ; \n",
    "mysum = 0;"
   ]
  },
  {
   "cell_type": "code",
   "execution_count": 5,
   "metadata": {
    "ExecuteTime": {
     "end_time": "2019-06-01T15:52:07.256160Z",
     "start_time": "2019-06-01T15:52:07.18203Z"
    }
   },
   "outputs": [
    {
     "name": "stdout",
     "output_type": "stream",
     "text": [
      "6\n"
     ]
    }
   ],
   "source": [
    "mysum = 0;\n",
    "for (auto& n : v)\n",
    "    mysum += n;\n",
    "cout << mysum << endl;"
   ]
  },
  {
   "cell_type": "markdown",
   "metadata": {},
   "source": [
    "# Using c++11 for_each"
   ]
  },
  {
   "cell_type": "code",
   "execution_count": 6,
   "metadata": {
    "ExecuteTime": {
     "end_time": "2019-06-01T15:52:07.334520Z",
     "start_time": "2019-06-01T15:52:07.25768Z"
    }
   },
   "outputs": [
    {
     "name": "stdout",
     "output_type": "stream",
     "text": [
      "6\n"
     ]
    }
   ],
   "source": [
    "mysum = 0;\n",
    "\n",
    "for_each(v.begin(), v.end(), [&] (int n) {\n",
    "    mysum += n;\n",
    "});\n",
    "\n",
    "cout << mysum << endl;"
   ]
  },
  {
   "cell_type": "markdown",
   "metadata": {},
   "source": [
    "# using accumulate"
   ]
  },
  {
   "cell_type": "code",
   "execution_count": 7,
   "metadata": {
    "ExecuteTime": {
     "end_time": "2019-06-01T15:52:07.397110Z",
     "start_time": "2019-06-01T15:52:07.33632Z"
    }
   },
   "outputs": [
    {
     "name": "stdout",
     "output_type": "stream",
     "text": [
      "6\n"
     ]
    }
   ],
   "source": [
    "// accumulate for array\n",
    "int a[] = {1,2,3};\n",
    "int total = accumulate(begin(a), end(a), 0); // also 0, plus<int>());\n",
    "\n",
    "cout << total << endl;"
   ]
  },
  {
   "cell_type": "code",
   "execution_count": 9,
   "metadata": {
    "ExecuteTime": {
     "end_time": "2019-06-01T15:52:40.497666Z",
     "start_time": "2019-06-01T15:52:40.489599Z"
    }
   },
   "outputs": [
    {
     "name": "stdout",
     "output_type": "stream",
     "text": [
      "6\n"
     ]
    }
   ],
   "source": [
    "//accumulate for vector\n",
    "total = accumulate(begin(v), end(v), 0);\n",
    "cout << total << endl;"
   ]
  },
  {
   "cell_type": "markdown",
   "metadata": {},
   "source": [
    "# using valarray"
   ]
  },
  {
   "cell_type": "code",
   "execution_count": 10,
   "metadata": {
    "ExecuteTime": {
     "end_time": "2019-06-01T15:52:44.752215Z",
     "start_time": "2019-06-01T15:52:44.751201Z"
    }
   },
   "outputs": [],
   "source": [
    "#include<valarray>"
   ]
  },
  {
   "cell_type": "code",
   "execution_count": 11,
   "metadata": {
    "ExecuteTime": {
     "end_time": "2019-06-01T15:52:45.595510Z",
     "start_time": "2019-06-01T15:52:45.568280Z"
    }
   },
   "outputs": [
    {
     "name": "stdout",
     "output_type": "stream",
     "text": [
      "The sum is 6\n"
     ]
    }
   ],
   "source": [
    "valarray<int> myvalarray(3);\n",
    "\n",
    "myvalarray[0] = 1;\n",
    "myvalarray[1] = 2;\n",
    "myvalarray[2] = 3;;\n",
    "std::cout << \"The sum is \" << myvalarray.sum() << '\\n';"
   ]
  },
  {
   "cell_type": "markdown",
   "metadata": {},
   "source": [
    "# using user defined function"
   ]
  },
  {
   "cell_type": "code",
   "execution_count": 12,
   "metadata": {
    "ExecuteTime": {
     "end_time": "2019-06-01T15:52:47.985458Z",
     "start_time": "2019-06-01T15:52:47.984049Z"
    }
   },
   "outputs": [],
   "source": [
    "int find_sum(int arr[], int n){\n",
    "    int mysum=0;\n",
    "    for(int i=0; i<n; i++){\n",
    "        mysum += arr[i];\n",
    "    }\n",
    "    return mysum;\n",
    "}"
   ]
  },
  {
   "cell_type": "code",
   "execution_count": 13,
   "metadata": {
    "ExecuteTime": {
     "end_time": "2019-06-01T15:52:48.663032Z",
     "start_time": "2019-06-01T15:52:48.656010Z"
    }
   },
   "outputs": [
    {
     "name": "stdout",
     "output_type": "stream",
     "text": [
      "6\n"
     ]
    }
   ],
   "source": [
    "int n = distance(begin(arr), end(arr));\n",
    "mysum = find_sum(arr,n);\n",
    "cout << mysum << endl;"
   ]
  }
 ],
 "metadata": {
  "kernelspec": {
   "display_name": "C++17",
   "language": "C++17",
   "name": "xcpp17"
  },
  "language_info": {
   "codemirror_mode": "text/x-c++src",
   "file_extension": ".cpp",
   "mimetype": "text/x-c++src",
   "name": "c++",
   "version": "-std=c++17"
  },
  "toc": {
   "base_numbering": 1,
   "nav_menu": {},
   "number_sections": true,
   "sideBar": true,
   "skip_h1_title": false,
   "title_cell": "Table of Contents",
   "title_sidebar": "Contents",
   "toc_cell": true,
   "toc_position": {},
   "toc_section_display": true,
   "toc_window_display": true
  }
 },
 "nbformat": 4,
 "nbformat_minor": 2
}
