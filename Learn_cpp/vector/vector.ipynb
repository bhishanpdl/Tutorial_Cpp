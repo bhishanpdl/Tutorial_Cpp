{
 "cells": [
  {
   "cell_type": "markdown",
   "metadata": {
    "toc": true
   },
   "source": [
    "<h1>Table of Contents<span class=\"tocSkip\"></span></h1>\n",
    "<div class=\"toc\"><ul class=\"toc-item\"><li><span><a href=\"#vector\" data-toc-modified-id=\"vector-1\"><span class=\"toc-item-num\">1&nbsp;&nbsp;</span>vector</a></span><ul class=\"toc-item\"><li><span><a href=\"#vector-begin-end-cbegin-cend\" data-toc-modified-id=\"vector-begin-end-cbegin-cend-1.1\"><span class=\"toc-item-num\">1.1&nbsp;&nbsp;</span>vector begin end cbegin cend</a></span></li><li><span><a href=\"#vector-rbegin-rend\" data-toc-modified-id=\"vector-rbegin-rend-1.2\"><span class=\"toc-item-num\">1.2&nbsp;&nbsp;</span>vector rbegin rend</a></span></li></ul></li><li><span><a href=\"#vector-capacity\" data-toc-modified-id=\"vector-capacity-2\"><span class=\"toc-item-num\">2&nbsp;&nbsp;</span>vector capacity</a></span></li><li><span><a href=\"#Element-access\" data-toc-modified-id=\"Element-access-3\"><span class=\"toc-item-num\">3&nbsp;&nbsp;</span>Element access</a></span></li><li><span><a href=\"#Modifiers\" data-toc-modified-id=\"Modifiers-4\"><span class=\"toc-item-num\">4&nbsp;&nbsp;</span>Modifiers</a></span></li></ul></div>"
   ]
  },
  {
   "cell_type": "code",
   "execution_count": null,
   "metadata": {
    "ExecuteTime": {
     "end_time": "2019-05-31T14:01:53.485283Z",
     "start_time": "2019-05-31T14:01:53.482454Z"
    }
   },
   "outputs": [],
   "source": [
    "/*\n",
    "Author: Bhishan Poudel\n",
    "Date: May 31, 2019\n",
    "Ref: https://www.geeksforgeeks.org/vector-in-cpp-stl/\n",
    "*/"
   ]
  },
  {
   "cell_type": "markdown",
   "metadata": {},
   "source": [
    "Certain functions associated with the vector are:\n",
    "Iterators\n",
    "\n",
    "- begin() – Returns an iterator pointing to the first element in the vector\n",
    "- end() – Returns an iterator pointing to the theoretical element that follows the last element in the vector\n",
    "- rbegin() – Returns a reverse iterator pointing to the last element in the vector (reverse beginning). It moves from last to first element\n",
    "- rend() – Returns a reverse iterator pointing to the theoretical element preceding the first element in the vector (considered as reverse end)\n",
    "- cbegin() – Returns a constant iterator pointing to the first element in the vector.\n",
    "- cend() – Returns a constant iterator pointing to the theoretical element that follows the last element in the vector.\n",
    "- crbegin() – Returns a constant reverse iterator pointing to the last element in the vector (reverse beginning). It moves from last to first element\n",
    "- crend() – Returns a constant reverse iterator pointing to the theoretical element preceding the first element in the vector (considered as reverse end)"
   ]
  },
  {
   "cell_type": "code",
   "execution_count": 1,
   "metadata": {
    "ExecuteTime": {
     "end_time": "2019-05-31T15:20:24.401790Z",
     "start_time": "2019-05-31T15:20:24.400280Z"
    }
   },
   "outputs": [],
   "source": [
    "#include<iostream>\n",
    "#include <vector>\n",
    "\n",
    "using namespace std;"
   ]
  },
  {
   "cell_type": "markdown",
   "metadata": {},
   "source": [
    "# vector "
   ]
  },
  {
   "cell_type": "code",
   "execution_count": 2,
   "metadata": {
    "ExecuteTime": {
     "end_time": "2019-05-31T15:20:25.845818Z",
     "start_time": "2019-05-31T15:20:25.823176Z"
    }
   },
   "outputs": [],
   "source": [
    "vector<int> myv1{1,2,3};"
   ]
  },
  {
   "cell_type": "code",
   "execution_count": 3,
   "metadata": {
    "ExecuteTime": {
     "end_time": "2019-05-31T15:20:26.537964Z",
     "start_time": "2019-05-31T15:20:26.519217Z"
    }
   },
   "outputs": [],
   "source": [
    "vector<int> myv2 {10,20,30};"
   ]
  },
  {
   "cell_type": "code",
   "execution_count": 4,
   "metadata": {
    "ExecuteTime": {
     "end_time": "2019-05-31T15:20:27.121059Z",
     "start_time": "2019-05-31T15:20:27.87717Z"
    }
   },
   "outputs": [],
   "source": [
    "myv1 = myv2;"
   ]
  },
  {
   "cell_type": "code",
   "execution_count": 5,
   "metadata": {
    "ExecuteTime": {
     "end_time": "2019-05-31T15:20:28.622810Z",
     "start_time": "2019-05-31T15:20:27.711335Z"
    }
   },
   "outputs": [
    {
     "data": {
      "text/plain": [
       "{ 10, 20, 30 }"
      ]
     },
     "execution_count": 5,
     "metadata": {},
     "output_type": "execute_result"
    }
   ],
   "source": [
    "myv1"
   ]
  },
  {
   "cell_type": "code",
   "execution_count": 6,
   "metadata": {
    "ExecuteTime": {
     "end_time": "2019-05-31T15:20:28.290275Z",
     "start_time": "2019-05-31T15:20:28.265435Z"
    }
   },
   "outputs": [
    {
     "name": "stdout",
     "output_type": "stream",
     "text": [
      "10 20 30 "
     ]
    }
   ],
   "source": [
    "for (auto it=myv1.begin(); it!=myv1.end(); ++it)\n",
    "    cout << *it << \" \";"
   ]
  },
  {
   "cell_type": "code",
   "execution_count": 7,
   "metadata": {
    "ExecuteTime": {
     "end_time": "2019-05-31T15:20:28.926538Z",
     "start_time": "2019-05-31T15:20:28.903200Z"
    }
   },
   "outputs": [
    {
     "name": "stdout",
     "output_type": "stream",
     "text": [
      "20 "
     ]
    }
   ],
   "source": [
    "//print elements 1,3,5,...\n",
    "for (int i=0; i<myv1.size(); i++){\n",
    "    if (i%2 !=0){\n",
    "        cout << myv1[i] << \" \";\n",
    "    }\n",
    "}"
   ]
  },
  {
   "cell_type": "code",
   "execution_count": 8,
   "metadata": {
    "ExecuteTime": {
     "end_time": "2019-05-31T15:20:29.824013Z",
     "start_time": "2019-05-31T15:20:29.535353Z"
    }
   },
   "outputs": [
    {
     "data": {
      "text/plain": [
       "{ 10, 20, 30 }"
      ]
     },
     "execution_count": 8,
     "metadata": {},
     "output_type": "execute_result"
    }
   ],
   "source": [
    "myv1"
   ]
  },
  {
   "cell_type": "code",
   "execution_count": 9,
   "metadata": {
    "ExecuteTime": {
     "end_time": "2019-05-31T15:20:30.144717Z",
     "start_time": "2019-05-31T15:20:30.133993Z"
    }
   },
   "outputs": [],
   "source": [
    "myv1.clear()"
   ]
  },
  {
   "cell_type": "code",
   "execution_count": 10,
   "metadata": {
    "ExecuteTime": {
     "end_time": "2019-05-31T15:20:31.997950Z",
     "start_time": "2019-05-31T15:20:30.791440Z"
    }
   },
   "outputs": [
    {
     "data": {
      "text/plain": [
       "{}"
      ]
     },
     "execution_count": 10,
     "metadata": {},
     "output_type": "execute_result"
    }
   ],
   "source": [
    "myv1"
   ]
  },
  {
   "cell_type": "code",
   "execution_count": 11,
   "metadata": {
    "ExecuteTime": {
     "end_time": "2019-05-31T15:20:31.447520Z",
     "start_time": "2019-05-31T15:20:31.412133Z"
    }
   },
   "outputs": [],
   "source": [
    "myv1.push_back(100);"
   ]
  },
  {
   "cell_type": "code",
   "execution_count": 12,
   "metadata": {
    "ExecuteTime": {
     "end_time": "2019-05-31T15:20:32.369762Z",
     "start_time": "2019-05-31T15:20:32.79803Z"
    }
   },
   "outputs": [
    {
     "data": {
      "text/plain": [
       "{ 100 }"
      ]
     },
     "execution_count": 12,
     "metadata": {},
     "output_type": "execute_result"
    }
   ],
   "source": [
    "myv1"
   ]
  },
  {
   "cell_type": "code",
   "execution_count": 13,
   "metadata": {
    "ExecuteTime": {
     "end_time": "2019-05-31T15:20:33.443230Z",
     "start_time": "2019-05-31T15:20:32.720246Z"
    }
   },
   "outputs": [
    {
     "data": {
      "text/plain": [
       "{ 100, 200, 300, 400 }"
      ]
     },
     "execution_count": 13,
     "metadata": {},
     "output_type": "execute_result"
    }
   ],
   "source": [
    "myv1.push_back(200);\n",
    "myv1.push_back(300);\n",
    "myv1.push_back(400);\n",
    "myv1"
   ]
  },
  {
   "cell_type": "code",
   "execution_count": 15,
   "metadata": {
    "ExecuteTime": {
     "end_time": "2019-05-31T15:20:44.373727Z",
     "start_time": "2019-05-31T15:20:44.371085Z"
    }
   },
   "outputs": [],
   "source": [
    "vector<int>::iterator it1, it2;"
   ]
  },
  {
   "cell_type": "code",
   "execution_count": 16,
   "metadata": {
    "ExecuteTime": {
     "end_time": "2019-05-31T15:20:51.896957Z",
     "start_time": "2019-05-31T15:20:51.883428Z"
    }
   },
   "outputs": [],
   "source": [
    "it1 = myv1.begin();\n",
    "myv1.erase(it1);"
   ]
  },
  {
   "cell_type": "code",
   "execution_count": 17,
   "metadata": {
    "ExecuteTime": {
     "end_time": "2019-05-31T15:20:58.652581Z",
     "start_time": "2019-05-31T15:20:58.283474Z"
    }
   },
   "outputs": [
    {
     "data": {
      "text/plain": [
       "{ 200, 300, 400 }"
      ]
     },
     "execution_count": 17,
     "metadata": {},
     "output_type": "execute_result"
    }
   ],
   "source": [
    "myv1"
   ]
  },
  {
   "cell_type": "code",
   "execution_count": 18,
   "metadata": {
    "ExecuteTime": {
     "end_time": "2019-05-31T15:22:18.510838Z",
     "start_time": "2019-05-31T15:22:18.494970Z"
    }
   },
   "outputs": [],
   "source": [
    "//erase 1st to 2nd values\n",
    "myv1.erase(myv1.begin()+1, myv1.begin()+2);"
   ]
  },
  {
   "cell_type": "code",
   "execution_count": 19,
   "metadata": {
    "ExecuteTime": {
     "end_time": "2019-05-31T15:22:22.424381Z",
     "start_time": "2019-05-31T15:22:22.45716Z"
    }
   },
   "outputs": [
    {
     "data": {
      "text/plain": [
       "{ 200, 400 }"
      ]
     },
     "execution_count": 19,
     "metadata": {},
     "output_type": "execute_result"
    }
   ],
   "source": [
    "myv1"
   ]
  },
  {
   "cell_type": "code",
   "execution_count": null,
   "metadata": {},
   "outputs": [],
   "source": []
  },
  {
   "cell_type": "code",
   "execution_count": null,
   "metadata": {},
   "outputs": [],
   "source": []
  },
  {
   "cell_type": "code",
   "execution_count": null,
   "metadata": {},
   "outputs": [],
   "source": []
  },
  {
   "cell_type": "markdown",
   "metadata": {},
   "source": [
    "## vector begin end cbegin cend"
   ]
  },
  {
   "cell_type": "code",
   "execution_count": 2,
   "metadata": {
    "ExecuteTime": {
     "end_time": "2019-05-31T14:06:44.704820Z",
     "start_time": "2019-05-31T14:06:44.57058Z"
    }
   },
   "outputs": [],
   "source": [
    "vector<int> g1;"
   ]
  },
  {
   "cell_type": "code",
   "execution_count": 3,
   "metadata": {
    "ExecuteTime": {
     "end_time": "2019-05-31T14:06:44.993902Z",
     "start_time": "2019-05-31T14:06:44.959931Z"
    }
   },
   "outputs": [],
   "source": [
    "for (int i=1; i<=5; i++)\n",
    "    g1.push_back(i);"
   ]
  },
  {
   "cell_type": "code",
   "execution_count": 4,
   "metadata": {
    "ExecuteTime": {
     "end_time": "2019-05-31T14:06:45.833174Z",
     "start_time": "2019-05-31T14:06:45.807862Z"
    }
   },
   "outputs": [
    {
     "name": "stdout",
     "output_type": "stream",
     "text": [
      "Output of begin and end\n"
     ]
    }
   ],
   "source": [
    "cout << \"Output of begin and end\" << endl;"
   ]
  },
  {
   "cell_type": "code",
   "execution_count": 5,
   "metadata": {
    "ExecuteTime": {
     "end_time": "2019-05-31T14:06:47.890961Z",
     "start_time": "2019-05-31T14:06:47.864314Z"
    }
   },
   "outputs": [
    {
     "name": "stdout",
     "output_type": "stream",
     "text": [
      "1 2 3 4 5 "
     ]
    }
   ],
   "source": [
    "for (auto it = g1.begin(); it != g1.end(); ++it) \n",
    "    cout << *it << \" \";"
   ]
  },
  {
   "cell_type": "code",
   "execution_count": 6,
   "metadata": {
    "ExecuteTime": {
     "end_time": "2019-05-31T14:06:48.801987Z",
     "start_time": "2019-05-31T14:06:48.775791Z"
    }
   },
   "outputs": [
    {
     "name": "stdout",
     "output_type": "stream",
     "text": [
      "1 2 3 4 5 "
     ]
    }
   ],
   "source": [
    "for (auto it = g1.cbegin(); it != g1.cend(); ++it) \n",
    "    cout << *it << \" \";"
   ]
  },
  {
   "cell_type": "markdown",
   "metadata": {},
   "source": [
    "## vector rbegin rend "
   ]
  },
  {
   "cell_type": "code",
   "execution_count": 7,
   "metadata": {
    "ExecuteTime": {
     "end_time": "2019-05-31T14:06:55.778137Z",
     "start_time": "2019-05-31T14:06:55.744290Z"
    }
   },
   "outputs": [],
   "source": [
    "vector<int> g2;\n",
    "\n",
    "for (int i=1; i<=5; i++)\n",
    "    g2.push_back(i)"
   ]
  },
  {
   "cell_type": "code",
   "execution_count": 8,
   "metadata": {
    "ExecuteTime": {
     "end_time": "2019-05-31T14:06:56.975340Z",
     "start_time": "2019-05-31T14:06:56.647849Z"
    }
   },
   "outputs": [
    {
     "data": {
      "text/plain": [
       "{ 1, 2, 3, 4, 5 }"
      ]
     },
     "execution_count": 8,
     "metadata": {},
     "output_type": "execute_result"
    }
   ],
   "source": [
    "g2"
   ]
  },
  {
   "cell_type": "code",
   "execution_count": 9,
   "metadata": {
    "ExecuteTime": {
     "end_time": "2019-05-31T14:07:55.765216Z",
     "start_time": "2019-05-31T14:07:55.736371Z"
    }
   },
   "outputs": [
    {
     "name": "stdout",
     "output_type": "stream",
     "text": [
      "5 4 3 2 1 "
     ]
    }
   ],
   "source": [
    "for (auto i=g2.rbegin(); i!=g2.rend(); ++i)\n",
    "    cout << *i << \" \";"
   ]
  },
  {
   "cell_type": "markdown",
   "metadata": {},
   "source": [
    "# vector capacity\n",
    "\n",
    "- size() – Returns the number of elements in the vector.\n",
    "- max_size() – Returns the maximum number of elements that the vector can hold.\n",
    "- capacity() – Returns the size of the storage space currently allocated to the vector expressed as number of elements.\n",
    "- resize() – Resizes the container so that it contains ‘g’ elements.\n",
    "- empty() – Returns whether the container is empty.\n",
    "- shrink_to_fit() – Reduces the capacity of the container to fit its size and destroys all elements beyond the capacity.\n",
    "- reserve() – Requests that the vector capacity be at least enough to contain n elements."
   ]
  },
  {
   "cell_type": "code",
   "execution_count": 10,
   "metadata": {
    "ExecuteTime": {
     "end_time": "2019-05-31T14:10:23.962871Z",
     "start_time": "2019-05-31T14:10:23.601390Z"
    }
   },
   "outputs": [
    {
     "data": {
      "text/plain": [
       "{ 1, 2, 3, 4, 5 }"
      ]
     },
     "execution_count": 10,
     "metadata": {},
     "output_type": "execute_result"
    }
   ],
   "source": [
    "vector<int> g3;\n",
    "\n",
    "for (int i=1; i<=5; i++)\n",
    "    g3.push_back(i);\n",
    "\n",
    "g3"
   ]
  },
  {
   "cell_type": "code",
   "execution_count": 20,
   "metadata": {
    "ExecuteTime": {
     "end_time": "2019-05-31T14:14:00.965688Z",
     "start_time": "2019-05-31T14:14:00.658091Z"
    }
   },
   "outputs": [
    {
     "data": {
      "text/plain": [
       "4"
      ]
     },
     "execution_count": 20,
     "metadata": {},
     "output_type": "execute_result"
    }
   ],
   "source": [
    "g3.size()"
   ]
  },
  {
   "cell_type": "code",
   "execution_count": 13,
   "metadata": {
    "ExecuteTime": {
     "end_time": "2019-05-31T14:10:50.259403Z",
     "start_time": "2019-05-31T14:10:49.906287Z"
    }
   },
   "outputs": [
    {
     "data": {
      "text/plain": [
       "8"
      ]
     },
     "execution_count": 13,
     "metadata": {},
     "output_type": "execute_result"
    }
   ],
   "source": [
    "g3.capacity()"
   ]
  },
  {
   "cell_type": "code",
   "execution_count": 14,
   "metadata": {
    "ExecuteTime": {
     "end_time": "2019-05-31T14:10:57.489046Z",
     "start_time": "2019-05-31T14:10:57.151591Z"
    }
   },
   "outputs": [
    {
     "data": {
      "text/plain": [
       "4611686018427387903"
      ]
     },
     "execution_count": 14,
     "metadata": {},
     "output_type": "execute_result"
    }
   ],
   "source": [
    "g3.max_size()"
   ]
  },
  {
   "cell_type": "code",
   "execution_count": 15,
   "metadata": {
    "ExecuteTime": {
     "end_time": "2019-05-31T14:11:12.893036Z",
     "start_time": "2019-05-31T14:11:12.856941Z"
    }
   },
   "outputs": [],
   "source": [
    "g3.resize(4);"
   ]
  },
  {
   "cell_type": "code",
   "execution_count": 16,
   "metadata": {
    "ExecuteTime": {
     "end_time": "2019-05-31T14:11:24.490964Z",
     "start_time": "2019-05-31T14:11:24.104681Z"
    }
   },
   "outputs": [
    {
     "data": {
      "text/plain": [
       "{ 1, 2, 3, 4 }"
      ]
     },
     "execution_count": 16,
     "metadata": {},
     "output_type": "execute_result"
    }
   ],
   "source": [
    "g3"
   ]
  },
  {
   "cell_type": "code",
   "execution_count": 17,
   "metadata": {
    "ExecuteTime": {
     "end_time": "2019-05-31T14:11:30.143862Z",
     "start_time": "2019-05-31T14:11:29.784730Z"
    }
   },
   "outputs": [
    {
     "data": {
      "text/plain": [
       "4"
      ]
     },
     "execution_count": 17,
     "metadata": {},
     "output_type": "execute_result"
    }
   ],
   "source": [
    "g3.size()"
   ]
  },
  {
   "cell_type": "code",
   "execution_count": 18,
   "metadata": {
    "ExecuteTime": {
     "end_time": "2019-05-31T14:12:55.960254Z",
     "start_time": "2019-05-31T14:12:55.937684Z"
    }
   },
   "outputs": [
    {
     "name": "stdout",
     "output_type": "stream",
     "text": [
      "non empty\n"
     ]
    }
   ],
   "source": [
    "if (g3.empty() == false)\n",
    "    cout << \"non empty\" << endl;\n",
    "else\n",
    "    cout << \"empty vector\" << endl;"
   ]
  },
  {
   "cell_type": "code",
   "execution_count": 21,
   "metadata": {
    "ExecuteTime": {
     "end_time": "2019-05-31T14:15:21.954421Z",
     "start_time": "2019-05-31T14:15:21.907837Z"
    }
   },
   "outputs": [
    {
     "name": "stdout",
     "output_type": "stream",
     "text": [
      "1 2 3 4 "
     ]
    }
   ],
   "source": [
    "//shrink the vector\n",
    "g3.shrink_to_fit();\n",
    "\n",
    "for (auto it=g3.begin(); it!=g3.end();it++ )\n",
    "    cout << *it << \" \";"
   ]
  },
  {
   "cell_type": "markdown",
   "metadata": {},
   "source": [
    "# Element access"
   ]
  },
  {
   "cell_type": "code",
   "execution_count": 23,
   "metadata": {
    "ExecuteTime": {
     "end_time": "2019-05-31T14:19:33.123418Z",
     "start_time": "2019-05-31T14:19:32.759394Z"
    }
   },
   "outputs": [
    {
     "data": {
      "text/plain": [
       "{ 1, 2, 3, 4, 5, 6, 7, 8, 9, 10 }"
      ]
     },
     "execution_count": 23,
     "metadata": {},
     "output_type": "execute_result"
    }
   ],
   "source": [
    "vector<int> g4;\n",
    "\n",
    "for (int i = 1; i<=10; i++)\n",
    "    g4.push_back(i);\n",
    "    \n",
    "g4"
   ]
  },
  {
   "cell_type": "code",
   "execution_count": 25,
   "metadata": {
    "ExecuteTime": {
     "end_time": "2019-05-31T14:19:56.565320Z",
     "start_time": "2019-05-31T14:19:55.728934Z"
    }
   },
   "outputs": [
    {
     "data": {
      "text/plain": [
       "5"
      ]
     },
     "execution_count": 25,
     "metadata": {},
     "output_type": "execute_result"
    }
   ],
   "source": [
    "g4.at(4)"
   ]
  },
  {
   "cell_type": "code",
   "execution_count": 26,
   "metadata": {
    "ExecuteTime": {
     "end_time": "2019-05-31T14:20:08.234809Z",
     "start_time": "2019-05-31T14:20:07.890229Z"
    }
   },
   "outputs": [
    {
     "data": {
      "text/plain": [
       "1"
      ]
     },
     "execution_count": 26,
     "metadata": {},
     "output_type": "execute_result"
    }
   ],
   "source": [
    "g4.front()"
   ]
  },
  {
   "cell_type": "code",
   "execution_count": 27,
   "metadata": {
    "ExecuteTime": {
     "end_time": "2019-05-31T14:20:12.741010Z",
     "start_time": "2019-05-31T14:20:12.385082Z"
    }
   },
   "outputs": [
    {
     "data": {
      "text/plain": [
       "10"
      ]
     },
     "execution_count": 27,
     "metadata": {},
     "output_type": "execute_result"
    }
   ],
   "source": [
    "g4.back()"
   ]
  },
  {
   "cell_type": "code",
   "execution_count": 28,
   "metadata": {
    "ExecuteTime": {
     "end_time": "2019-05-31T14:20:23.996074Z",
     "start_time": "2019-05-31T14:20:23.995356Z"
    }
   },
   "outputs": [],
   "source": [
    "//pointer to first element"
   ]
  },
  {
   "cell_type": "code",
   "execution_count": 29,
   "metadata": {
    "ExecuteTime": {
     "end_time": "2019-05-31T14:21:04.669012Z",
     "start_time": "2019-05-31T14:21:04.665825Z"
    }
   },
   "outputs": [],
   "source": [
    "int *p = g4.data();"
   ]
  },
  {
   "cell_type": "code",
   "execution_count": 30,
   "metadata": {
    "ExecuteTime": {
     "end_time": "2019-05-31T14:21:17.260688Z",
     "start_time": "2019-05-31T14:21:16.933020Z"
    }
   },
   "outputs": [
    {
     "data": {
      "text/plain": [
       "1"
      ]
     },
     "execution_count": 30,
     "metadata": {},
     "output_type": "execute_result"
    }
   ],
   "source": [
    "*p"
   ]
  },
  {
   "cell_type": "code",
   "execution_count": 31,
   "metadata": {
    "ExecuteTime": {
     "end_time": "2019-05-31T14:21:37.463344Z",
     "start_time": "2019-05-31T14:21:37.441642Z"
    }
   },
   "outputs": [
    {
     "name": "stdout",
     "output_type": "stream",
     "text": [
      "the first element is 1\n"
     ]
    }
   ],
   "source": [
    "cout << \"the first element is \" << *p << endl;"
   ]
  },
  {
   "cell_type": "markdown",
   "metadata": {},
   "source": [
    "# Modifiers\n",
    "\n",
    "- assign() – It assigns new value to the vector elements by replacing old ones\n",
    "- push_back() – It push the elements into a vector from the back\n",
    "- pop_back() – It is used to pop or remove elements from a vector from the back.\n",
    "- insert() – It inserts new elements before the element at the specified position\n",
    "- erase() – It is used to remove elements from a container from the specified position or range.\n",
    "- swap() – It is used to swap the contents of one vector with another vector of same type. Sizes may differ.\n",
    "- clear() – It is used to remove all the elements of the vector container\n",
    "- emplace() – It extends the container by inserting new element at position\n",
    "- emplace_back() – It is used to insert a new element into the vector container, the new element is added to the end of the vector"
   ]
  },
  {
   "cell_type": "markdown",
   "metadata": {},
   "source": [
    "|  modifier|    description|\n",
    "| :---| :---: |\n",
    "| assign() | It assigns new value to the vector elements by replacing old ones|\n",
    "| push_back() | It push the elements into a vector from the back|\n",
    "| pop_back() | It is used to pop or remove elements from a vector from the back.|\n",
    "| insert() | It inserts new elements before the element at the specified position|\n",
    "| erase() | It is used to remove elements from a container from the specified position or range.|\n",
    "| swap() | It is used to swap the contents of one vector with another vector of same type. Sizes may differ.|\n",
    "| clear() | It is used to remove all the elements of the vector container|\n",
    "| emplace() | It extends the container by inserting new element at position|\n",
    "| emplace_back() | It is used to insert a new element into the vector container, the new element is added to the end of the vector|\n"
   ]
  },
  {
   "cell_type": "code",
   "execution_count": 1,
   "metadata": {
    "ExecuteTime": {
     "end_time": "2019-05-31T14:45:00.774235Z",
     "start_time": "2019-05-31T14:45:00.772238Z"
    }
   },
   "outputs": [],
   "source": [
    "#include<iostream>\n",
    "#include <vector>\n",
    "\n",
    "using namespace std;"
   ]
  },
  {
   "cell_type": "code",
   "execution_count": 2,
   "metadata": {
    "ExecuteTime": {
     "end_time": "2019-05-31T14:45:02.102906Z",
     "start_time": "2019-05-31T14:45:01.652737Z"
    }
   },
   "outputs": [
    {
     "data": {
      "text/plain": [
       "{ 10, 10, 10, 10, 10 }"
      ]
     },
     "execution_count": 2,
     "metadata": {},
     "output_type": "execute_result"
    }
   ],
   "source": [
    "vector<int> v;\n",
    "\n",
    "//fill the array with 10 five times\n",
    "v.assign(5,10);\n",
    "\n",
    "v"
   ]
  },
  {
   "cell_type": "code",
   "execution_count": 3,
   "metadata": {
    "ExecuteTime": {
     "end_time": "2019-05-31T14:45:03.598447Z",
     "start_time": "2019-05-31T14:45:03.577522Z"
    }
   },
   "outputs": [
    {
     "name": "stdout",
     "output_type": "stream",
     "text": [
      "10 10 10 10 10 "
     ]
    }
   ],
   "source": [
    "for (int i=0; i<v.size(); i++)\n",
    "    cout << v[i] << \" \";"
   ]
  },
  {
   "cell_type": "code",
   "execution_count": 4,
   "metadata": {
    "ExecuteTime": {
     "end_time": "2019-05-31T14:45:04.906691Z",
     "start_time": "2019-05-31T14:45:04.536917Z"
    }
   },
   "outputs": [
    {
     "data": {
      "text/plain": [
       "{ 10, 10, 10, 10, 10, 15 }"
      ]
     },
     "execution_count": 4,
     "metadata": {},
     "output_type": "execute_result"
    }
   ],
   "source": [
    "//append new element 15 to end\n",
    "v.push_back(15);\n",
    "\n",
    "v"
   ]
  },
  {
   "cell_type": "code",
   "execution_count": 5,
   "metadata": {
    "ExecuteTime": {
     "end_time": "2019-05-31T14:45:05.729690Z",
     "start_time": "2019-05-31T14:45:05.704414Z"
    }
   },
   "outputs": [
    {
     "name": "stdout",
     "output_type": "stream",
     "text": [
      "last element is15\n"
     ]
    }
   ],
   "source": [
    "int n = v.size();\n",
    "cout << \"last element is\" << v[n-1] << endl;"
   ]
  },
  {
   "cell_type": "code",
   "execution_count": 6,
   "metadata": {
    "ExecuteTime": {
     "end_time": "2019-05-31T14:45:07.243637Z",
     "start_time": "2019-05-31T14:45:06.881388Z"
    }
   },
   "outputs": [
    {
     "data": {
      "text/plain": [
       "{ 10, 10, 10, 10, 10 }"
      ]
     },
     "execution_count": 6,
     "metadata": {},
     "output_type": "execute_result"
    }
   ],
   "source": [
    "//remmove last element\n",
    "v.pop_back();\n",
    "v"
   ]
  },
  {
   "cell_type": "code",
   "execution_count": 7,
   "metadata": {
    "ExecuteTime": {
     "end_time": "2019-05-31T14:45:08.470514Z",
     "start_time": "2019-05-31T14:45:08.137206Z"
    }
   },
   "outputs": [
    {
     "data": {
      "text/plain": [
       "{ 10, 10, 10, 10, 10 }"
      ]
     },
     "execution_count": 7,
     "metadata": {},
     "output_type": "execute_result"
    }
   ],
   "source": [
    "v"
   ]
  },
  {
   "cell_type": "code",
   "execution_count": 8,
   "metadata": {
    "ExecuteTime": {
     "end_time": "2019-05-31T14:45:10.136355Z",
     "start_time": "2019-05-31T14:45:10.120510Z"
    }
   },
   "outputs": [],
   "source": [
    "v.erase(v.begin());"
   ]
  },
  {
   "cell_type": "code",
   "execution_count": 9,
   "metadata": {
    "ExecuteTime": {
     "end_time": "2019-05-31T14:45:18.613621Z",
     "start_time": "2019-05-31T14:45:18.275737Z"
    }
   },
   "outputs": [
    {
     "data": {
      "text/plain": [
       "{ 10, 10, 10, 10 }"
      ]
     },
     "execution_count": 9,
     "metadata": {},
     "output_type": "execute_result"
    }
   ],
   "source": [
    "v"
   ]
  },
  {
   "cell_type": "code",
   "execution_count": 10,
   "metadata": {
    "ExecuteTime": {
     "end_time": "2019-05-31T14:45:40.964750Z",
     "start_time": "2019-05-31T14:45:40.921921Z"
    }
   },
   "outputs": [],
   "source": [
    "v.insert(v.begin(),5);"
   ]
  },
  {
   "cell_type": "code",
   "execution_count": 11,
   "metadata": {
    "ExecuteTime": {
     "end_time": "2019-05-31T14:45:43.245236Z",
     "start_time": "2019-05-31T14:45:42.902642Z"
    }
   },
   "outputs": [
    {
     "data": {
      "text/plain": [
       "{ 5, 10, 10, 10, 10 }"
      ]
     },
     "execution_count": 11,
     "metadata": {},
     "output_type": "execute_result"
    }
   ],
   "source": [
    "v"
   ]
  },
  {
   "cell_type": "code",
   "execution_count": 12,
   "metadata": {
    "ExecuteTime": {
     "end_time": "2019-05-31T14:46:35.554307Z",
     "start_time": "2019-05-31T14:46:35.513055Z"
    }
   },
   "outputs": [],
   "source": [
    "// insert 5 at the beginning \n",
    "v.emplace(v.begin(),5);"
   ]
  },
  {
   "cell_type": "code",
   "execution_count": 13,
   "metadata": {
    "ExecuteTime": {
     "end_time": "2019-05-31T14:46:37.777120Z",
     "start_time": "2019-05-31T14:46:37.402125Z"
    }
   },
   "outputs": [
    {
     "data": {
      "text/plain": [
       "{ 5, 5, 10, 10, 10, 10 }"
      ]
     },
     "execution_count": 13,
     "metadata": {},
     "output_type": "execute_result"
    }
   ],
   "source": [
    "v"
   ]
  },
  {
   "cell_type": "code",
   "execution_count": 14,
   "metadata": {
    "ExecuteTime": {
     "end_time": "2019-05-31T14:48:08.908789Z",
     "start_time": "2019-05-31T14:48:08.881885Z"
    }
   },
   "outputs": [],
   "source": [
    "//insert 20 at end\n",
    "v.emplace_back(20);"
   ]
  },
  {
   "cell_type": "code",
   "execution_count": 15,
   "metadata": {
    "ExecuteTime": {
     "end_time": "2019-05-31T14:48:10.846585Z",
     "start_time": "2019-05-31T14:48:10.479045Z"
    }
   },
   "outputs": [
    {
     "data": {
      "text/plain": [
       "{ 5, 5, 10, 10, 10, 10, 20 }"
      ]
     },
     "execution_count": 15,
     "metadata": {},
     "output_type": "execute_result"
    }
   ],
   "source": [
    "v"
   ]
  },
  {
   "cell_type": "code",
   "execution_count": 17,
   "metadata": {
    "ExecuteTime": {
     "end_time": "2019-05-31T14:52:50.799368Z",
     "start_time": "2019-05-31T14:52:50.791717Z"
    }
   },
   "outputs": [],
   "source": [
    "vector<int> v1,v2;"
   ]
  },
  {
   "cell_type": "code",
   "execution_count": 18,
   "metadata": {
    "ExecuteTime": {
     "end_time": "2019-05-31T14:53:58.453816Z",
     "start_time": "2019-05-31T14:53:58.420463Z"
    }
   },
   "outputs": [],
   "source": [
    "for (int i =1; i<=5; i++)\n",
    "{\n",
    "    v1.push_back(i);\n",
    "    v2.push_back(i*10);\n",
    "    \n",
    "}"
   ]
  },
  {
   "cell_type": "code",
   "execution_count": 19,
   "metadata": {
    "ExecuteTime": {
     "end_time": "2019-05-31T14:54:01.513692Z",
     "start_time": "2019-05-31T14:54:01.154207Z"
    }
   },
   "outputs": [
    {
     "data": {
      "text/plain": [
       "{ 1, 2, 3, 4, 5 }"
      ]
     },
     "execution_count": 19,
     "metadata": {},
     "output_type": "execute_result"
    }
   ],
   "source": [
    "v1"
   ]
  },
  {
   "cell_type": "code",
   "execution_count": 20,
   "metadata": {
    "ExecuteTime": {
     "end_time": "2019-05-31T14:54:03.512385Z",
     "start_time": "2019-05-31T14:54:03.107731Z"
    }
   },
   "outputs": [
    {
     "data": {
      "text/plain": [
       "{ 10, 20, 30, 40, 50 }"
      ]
     },
     "execution_count": 20,
     "metadata": {},
     "output_type": "execute_result"
    }
   ],
   "source": [
    "v2"
   ]
  },
  {
   "cell_type": "code",
   "execution_count": 21,
   "metadata": {
    "ExecuteTime": {
     "end_time": "2019-05-31T14:54:23.107867Z",
     "start_time": "2019-05-31T14:54:23.101333Z"
    }
   },
   "outputs": [],
   "source": [
    "v1.swap(v2);"
   ]
  },
  {
   "cell_type": "code",
   "execution_count": 22,
   "metadata": {
    "ExecuteTime": {
     "end_time": "2019-05-31T14:54:25.570659Z",
     "start_time": "2019-05-31T14:54:25.204260Z"
    }
   },
   "outputs": [
    {
     "data": {
      "text/plain": [
       "{ 10, 20, 30, 40, 50 }"
      ]
     },
     "execution_count": 22,
     "metadata": {},
     "output_type": "execute_result"
    }
   ],
   "source": [
    "v1"
   ]
  },
  {
   "cell_type": "code",
   "execution_count": 23,
   "metadata": {
    "ExecuteTime": {
     "end_time": "2019-05-31T14:54:28.852558Z",
     "start_time": "2019-05-31T14:54:28.461252Z"
    }
   },
   "outputs": [
    {
     "data": {
      "text/plain": [
       "{ 1, 2, 3, 4, 5 }"
      ]
     },
     "execution_count": 23,
     "metadata": {},
     "output_type": "execute_result"
    }
   ],
   "source": [
    "v2"
   ]
  },
  {
   "cell_type": "code",
   "execution_count": null,
   "metadata": {},
   "outputs": [],
   "source": []
  }
 ],
 "metadata": {
  "kernelspec": {
   "display_name": "C++17",
   "language": "C++17",
   "name": "xcpp17"
  },
  "language_info": {
   "codemirror_mode": "text/x-c++src",
   "file_extension": ".cpp",
   "mimetype": "text/x-c++src",
   "name": "c++",
   "version": "-std=c++17"
  },
  "toc": {
   "base_numbering": 1,
   "nav_menu": {},
   "number_sections": true,
   "sideBar": true,
   "skip_h1_title": false,
   "title_cell": "Table of Contents",
   "title_sidebar": "Contents",
   "toc_cell": true,
   "toc_position": {},
   "toc_section_display": true,
   "toc_window_display": true
  }
 },
 "nbformat": 4,
 "nbformat_minor": 2
}
