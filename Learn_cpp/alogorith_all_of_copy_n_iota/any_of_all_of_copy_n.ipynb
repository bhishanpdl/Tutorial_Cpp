{
 "cells": [
  {
   "cell_type": "markdown",
   "metadata": {
    "toc": true
   },
   "source": [
    "<h1>Table of Contents<span class=\"tocSkip\"></span></h1>\n",
    "<div class=\"toc\"><ul class=\"toc-item\"><li><span><a href=\"#algorithm:-all_of-any_of-none_of-copy_n-iota\" data-toc-modified-id=\"algorithm:-all_of-any_of-none_of-copy_n-iota-1\"><span class=\"toc-item-num\">1&nbsp;&nbsp;</span>algorithm: <code>all_of</code> <code>any_of</code> <code>none_of</code> <code>copy_n</code> <code>iota</code></a></span><ul class=\"toc-item\"><li><span><a href=\"#all_of\" data-toc-modified-id=\"all_of-1.1\"><span class=\"toc-item-num\">1.1&nbsp;&nbsp;</span>all_of</a></span></li><li><span><a href=\"#any_of\" data-toc-modified-id=\"any_of-1.2\"><span class=\"toc-item-num\">1.2&nbsp;&nbsp;</span>any_of</a></span></li><li><span><a href=\"#copy_n\" data-toc-modified-id=\"copy_n-1.3\"><span class=\"toc-item-num\">1.3&nbsp;&nbsp;</span>copy_n</a></span></li><li><span><a href=\"#iota\" data-toc-modified-id=\"iota-1.4\"><span class=\"toc-item-num\">1.4&nbsp;&nbsp;</span>iota</a></span></li></ul></li><li><span><a href=\"#Anoter-example\" data-toc-modified-id=\"Anoter-example-2\"><span class=\"toc-item-num\">2&nbsp;&nbsp;</span>Anoter example</a></span></li></ul></div>"
   ]
  },
  {
   "cell_type": "code",
   "execution_count": 1,
   "metadata": {
    "ExecuteTime": {
     "end_time": "2019-06-01T13:34:18.855002Z",
     "start_time": "2019-06-01T13:34:18.852579Z"
    }
   },
   "outputs": [],
   "source": [
    "/*\n",
    "Author: Bhishan Poudel\n",
    "Date: Jun 1, 2019\n",
    "Ref: https://www.geeksforgeeks.org/useful-array-algorithms-in-c-stl/\n",
    "*/\n",
    "#include <iostream>\n",
    "#include<algorithm> // for all_of() any_of()\n",
    "\n",
    "using namespace std;"
   ]
  },
  {
   "cell_type": "code",
   "execution_count": 2,
   "metadata": {
    "ExecuteTime": {
     "end_time": "2019-06-01T13:34:18.859818Z",
     "start_time": "2019-06-01T13:34:18.858473Z"
    }
   },
   "outputs": [],
   "source": [
    "int ar[5] = {1,2,3,-4,5};"
   ]
  },
  {
   "cell_type": "markdown",
   "metadata": {},
   "source": [
    "# algorithm: `all_of` `any_of` `none_of` `copy_n` `iota`"
   ]
  },
  {
   "cell_type": "markdown",
   "metadata": {},
   "source": [
    "## all_of"
   ]
  },
  {
   "cell_type": "code",
   "execution_count": 3,
   "metadata": {
    "ExecuteTime": {
     "end_time": "2019-06-01T13:34:18.889434Z",
     "start_time": "2019-06-01T13:34:18.860117Z"
    }
   },
   "outputs": [
    {
     "name": "stdout",
     "output_type": "stream",
     "text": [
      "not all +ve.\n"
     ]
    }
   ],
   "source": [
    "all_of(ar,ar+5,[] (int x) {return x>0;})?\n",
    "    cout << \"all +ve\":\n",
    "    cout << \"not all +ve.\\n\";"
   ]
  },
  {
   "cell_type": "markdown",
   "metadata": {},
   "source": [
    "## any_of"
   ]
  },
  {
   "cell_type": "code",
   "execution_count": 4,
   "metadata": {
    "ExecuteTime": {
     "end_time": "2019-06-01T13:34:18.914490Z",
     "start_time": "2019-06-01T13:34:18.889718Z"
    }
   },
   "outputs": [
    {
     "name": "stdout",
     "output_type": "stream",
     "text": [
      "There exists negative number."
     ]
    }
   ],
   "source": [
    "any_of(ar, ar+5, [] (int x) {return x<0;}) ?\n",
    "    cout << \"There exists negative number.\" :\n",
    "    cout << \"All numbers are +ve\\n\"; "
   ]
  },
  {
   "cell_type": "markdown",
   "metadata": {},
   "source": [
    "## copy_n"
   ]
  },
  {
   "cell_type": "code",
   "execution_count": 5,
   "metadata": {
    "ExecuteTime": {
     "end_time": "2019-06-01T13:34:18.915706Z",
     "start_time": "2019-06-01T13:34:18.914732Z"
    }
   },
   "outputs": [],
   "source": [
    "int ar1[5];"
   ]
  },
  {
   "cell_type": "code",
   "execution_count": 6,
   "metadata": {
    "ExecuteTime": {
     "end_time": "2019-06-01T13:34:18.920684Z",
     "start_time": "2019-06-01T13:34:18.915953Z"
    }
   },
   "outputs": [],
   "source": [
    "//using copy_n() to copy elements\n",
    "copy_n(ar,5,ar1);"
   ]
  },
  {
   "cell_type": "code",
   "execution_count": 7,
   "metadata": {
    "ExecuteTime": {
     "end_time": "2019-06-01T13:34:18.944846Z",
     "start_time": "2019-06-01T13:34:18.921012Z"
    }
   },
   "outputs": [
    {
     "name": "stdout",
     "output_type": "stream",
     "text": [
      "1 2 3 -4 5 \n"
     ]
    }
   ],
   "source": [
    "for (int &x: ar1) cout << x << \" \";\n",
    "cout << endl;"
   ]
  },
  {
   "cell_type": "markdown",
   "metadata": {},
   "source": [
    "## iota"
   ]
  },
  {
   "cell_type": "code",
   "execution_count": 8,
   "metadata": {
    "ExecuteTime": {
     "end_time": "2019-06-01T13:34:18.946093Z",
     "start_time": "2019-06-01T13:34:18.945063Z"
    }
   },
   "outputs": [],
   "source": [
    "int ar2[10] = {0};"
   ]
  },
  {
   "cell_type": "code",
   "execution_count": 9,
   "metadata": {
    "ExecuteTime": {
     "end_time": "2019-06-01T13:34:18.949736Z",
     "start_time": "2019-06-01T13:34:18.946348Z"
    }
   },
   "outputs": [],
   "source": [
    "// using iota to assign values\n",
    "iota(ar2, ar2+10,20);"
   ]
  },
  {
   "cell_type": "code",
   "execution_count": 10,
   "metadata": {
    "ExecuteTime": {
     "end_time": "2019-06-01T13:34:18.976258Z",
     "start_time": "2019-06-01T13:34:18.949998Z"
    }
   },
   "outputs": [
    {
     "name": "stdout",
     "output_type": "stream",
     "text": [
      "20 21 22 23 24 25 26 27 28 29 \n"
     ]
    }
   ],
   "source": [
    "for (int &x: ar2) cout << x << \" \";\n",
    "cout << endl;"
   ]
  },
  {
   "cell_type": "code",
   "execution_count": 11,
   "metadata": {
    "ExecuteTime": {
     "end_time": "2019-06-01T13:34:19.316951Z",
     "start_time": "2019-06-01T13:34:18.976784Z"
    }
   },
   "outputs": [
    {
     "data": {
      "text/plain": [
       "{ 0, 1, 2, 0, 0, 0, 0, 0, 0, 0 }"
      ]
     },
     "execution_count": 11,
     "metadata": {},
     "output_type": "execute_result"
    }
   ],
   "source": [
    "int ar3[10] = {};\n",
    "iota(ar3, ar3+3,0);\n",
    "\n",
    "ar3"
   ]
  },
  {
   "cell_type": "markdown",
   "metadata": {},
   "source": [
    "# Anoter example\n",
    "https://en.cppreference.com/w/cpp/algorithm/all_any_none_of"
   ]
  },
  {
   "cell_type": "code",
   "execution_count": 12,
   "metadata": {
    "ExecuteTime": {
     "end_time": "2019-06-01T13:34:19.318034Z",
     "start_time": "2019-06-01T13:34:19.317197Z"
    }
   },
   "outputs": [],
   "source": [
    "#include <vector>\n",
    "#include <numeric>\n",
    "#include <algorithm>\n",
    "#include <iterator>\n",
    "#include <iostream>\n",
    "#include <functional>\n",
    "\n",
    "using namespace std;"
   ]
  },
  {
   "cell_type": "code",
   "execution_count": 13,
   "metadata": {
    "ExecuteTime": {
     "end_time": "2019-06-01T13:34:19.358277Z",
     "start_time": "2019-06-01T13:34:19.318230Z"
    }
   },
   "outputs": [
    {
     "name": "stdout",
     "output_type": "stream",
     "text": [
      "2 2 2 2 2 2 2 2 2 2 "
     ]
    }
   ],
   "source": [
    "vector<int> v(10, 2);\n",
    "\n",
    "for (int &x: v) cout << x << \" \";"
   ]
  },
  {
   "cell_type": "code",
   "execution_count": 14,
   "metadata": {
    "ExecuteTime": {
     "end_time": "2019-06-01T13:34:19.367575Z",
     "start_time": "2019-06-01T13:34:19.358461Z"
    }
   },
   "outputs": [],
   "source": [
    "partial_sum(v.cbegin(), v.cend(), v.begin());"
   ]
  },
  {
   "cell_type": "code",
   "execution_count": 15,
   "metadata": {
    "ExecuteTime": {
     "end_time": "2019-06-01T13:34:19.393288Z",
     "start_time": "2019-06-01T13:34:19.367807Z"
    }
   },
   "outputs": [
    {
     "name": "stdout",
     "output_type": "stream",
     "text": [
      "Among the numbers: 2 4 6 8 10 12 14 16 18 20 \n"
     ]
    }
   ],
   "source": [
    "std::cout << \"Among the numbers: \";\n",
    "copy(v.cbegin(), v.cend(), ostream_iterator<int>(cout, \" \"));\n",
    "std::cout << '\\n';"
   ]
  },
  {
   "cell_type": "code",
   "execution_count": 16,
   "metadata": {
    "ExecuteTime": {
     "end_time": "2019-06-01T13:34:19.710024Z",
     "start_time": "2019-06-01T13:34:19.393555Z"
    }
   },
   "outputs": [
    {
     "data": {
      "text/plain": [
       "{ 2, 4, 6, 8, 10, 12, 14, 16, 18, 20 }"
      ]
     },
     "execution_count": 16,
     "metadata": {},
     "output_type": "execute_result"
    }
   ],
   "source": [
    "v"
   ]
  },
  {
   "cell_type": "code",
   "execution_count": 17,
   "metadata": {
    "ExecuteTime": {
     "end_time": "2019-06-01T13:34:19.729434Z",
     "start_time": "2019-06-01T13:34:19.710193Z"
    }
   },
   "outputs": [
    {
     "name": "stdout",
     "output_type": "stream",
     "text": [
      "All numbers are even\n"
     ]
    }
   ],
   "source": [
    "if (all_of(v.cbegin(), v.cend(), [](int i) {return i%2==0;}   )){\n",
    "    cout << \"All numbers are even\\n\";\n",
    "}"
   ]
  },
  {
   "cell_type": "code",
   "execution_count": 18,
   "metadata": {
    "ExecuteTime": {
     "end_time": "2019-06-01T13:34:19.730052Z",
     "start_time": "2019-06-01T13:34:19.729628Z"
    }
   },
   "outputs": [],
   "source": [
    "// divisible by any number"
   ]
  },
  {
   "cell_type": "code",
   "execution_count": 19,
   "metadata": {
    "ExecuteTime": {
     "end_time": "2019-06-01T13:34:19.730977Z",
     "start_time": "2019-06-01T13:34:19.730252Z"
    }
   },
   "outputs": [],
   "source": [
    "struct DivisibleBy{\n",
    "    const int d; // divisor\n",
    "    DivisibleBy(int n): d(n) {}\n",
    "    bool operator() (int n) const {return n%d ==0;}\n",
    "}"
   ]
  },
  {
   "cell_type": "code",
   "execution_count": 20,
   "metadata": {
    "ExecuteTime": {
     "end_time": "2019-06-01T13:34:19.750448Z",
     "start_time": "2019-06-01T13:34:19.731182Z"
    }
   },
   "outputs": [
    {
     "name": "stdout",
     "output_type": "stream",
     "text": [
      "At least one number is divisible by 7\n"
     ]
    }
   ],
   "source": [
    "if (std::any_of(v.cbegin(), v.cend(), DivisibleBy(7))) {\n",
    "        std::cout << \"At least one number is divisible by 7\\n\";\n",
    "    }"
   ]
  },
  {
   "cell_type": "code",
   "execution_count": 21,
   "metadata": {
    "ExecuteTime": {
     "end_time": "2019-06-01T13:34:20.166950Z",
     "start_time": "2019-06-01T13:34:19.750682Z"
    }
   },
   "outputs": [
    {
     "data": {
      "text/plain": [
       "{ 2, 4, 6, 8, 10, 12, 14, 16, 18, 20 }"
      ]
     },
     "execution_count": 21,
     "metadata": {},
     "output_type": "execute_result"
    }
   ],
   "source": [
    "v"
   ]
  },
  {
   "cell_type": "code",
   "execution_count": null,
   "metadata": {},
   "outputs": [],
   "source": []
  }
 ],
 "metadata": {
  "kernelspec": {
   "display_name": "C++17",
   "language": "C++17",
   "name": "xcpp17"
  },
  "language_info": {
   "codemirror_mode": "text/x-c++src",
   "file_extension": ".cpp",
   "mimetype": "text/x-c++src",
   "name": "c++",
   "version": "-std=c++17"
  },
  "toc": {
   "base_numbering": 1,
   "nav_menu": {},
   "number_sections": true,
   "sideBar": true,
   "skip_h1_title": false,
   "title_cell": "Table of Contents",
   "title_sidebar": "Contents",
   "toc_cell": true,
   "toc_position": {},
   "toc_section_display": true,
   "toc_window_display": true
  }
 },
 "nbformat": 4,
 "nbformat_minor": 2
}
