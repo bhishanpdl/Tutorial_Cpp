{
 "cells": [
  {
   "cell_type": "markdown",
   "metadata": {
    "toc": true
   },
   "source": [
    "<h1>Table of Contents<span class=\"tocSkip\"></span></h1>\n",
    "<div class=\"toc\"><ul class=\"toc-item\"><li><span><a href=\"#Template-function\" data-toc-modified-id=\"Template-function-1\"><span class=\"toc-item-num\">1&nbsp;&nbsp;</span>Template function</a></span></li><li><span><a href=\"#Template-class\" data-toc-modified-id=\"Template-class-2\"><span class=\"toc-item-num\">2&nbsp;&nbsp;</span>Template class</a></span></li></ul></div>"
   ]
  },
  {
   "cell_type": "code",
   "execution_count": 1,
   "metadata": {
    "ExecuteTime": {
     "end_time": "2019-06-02T14:02:00.890884Z",
     "start_time": "2019-06-02T14:02:00.888428Z"
    }
   },
   "outputs": [],
   "source": [
    "/*\n",
    "Author: Bhishan Poudel\n",
    "Date: Jun 2, 2019\n",
    "Ref: \n",
    "https://www.tutorialspoint.com/cplusplus/cpp_templates.htm\n",
    "http://www.cplusplus.com/doc/oldtutorial/templates/\n",
    "*/\n",
    "#include <iostream>\n",
    "#include <string>\n",
    "\n",
    "\n",
    "using namespace std;"
   ]
  },
  {
   "cell_type": "markdown",
   "metadata": {},
   "source": [
    "# Template function "
   ]
  },
  {
   "cell_type": "code",
   "execution_count": 2,
   "metadata": {
    "ExecuteTime": {
     "end_time": "2019-06-02T14:02:00.894575Z",
     "start_time": "2019-06-02T14:02:00.893738Z"
    }
   },
   "outputs": [],
   "source": [
    "template <typename T>\n",
    "inline T const& Max (T const& a, T const& b) { \n",
    "   return a < b ? b:a; \n",
    "}"
   ]
  },
  {
   "cell_type": "code",
   "execution_count": 3,
   "metadata": {
    "ExecuteTime": {
     "end_time": "2019-06-02T14:02:00.895662Z",
     "start_time": "2019-06-02T14:02:00.894848Z"
    }
   },
   "outputs": [],
   "source": [
    "int i=10, j=20;"
   ]
  },
  {
   "cell_type": "code",
   "execution_count": 4,
   "metadata": {
    "ExecuteTime": {
     "end_time": "2019-06-02T14:02:00.914386Z",
     "start_time": "2019-06-02T14:02:00.905816Z"
    }
   },
   "outputs": [
    {
     "name": "stdout",
     "output_type": "stream",
     "text": [
      "20\n"
     ]
    }
   ],
   "source": [
    "cout << Max(i,j) << endl;"
   ]
  },
  {
   "cell_type": "code",
   "execution_count": 5,
   "metadata": {
    "ExecuteTime": {
     "end_time": "2019-06-02T14:02:00.922881Z",
     "start_time": "2019-06-02T14:02:00.914591Z"
    }
   },
   "outputs": [
    {
     "name": "stdout",
     "output_type": "stream",
     "text": [
      "20.4\n"
     ]
    }
   ],
   "source": [
    "double f1 = 10.2, f2=20.4;\n",
    "cout << Max(f1,f2) << endl;"
   ]
  },
  {
   "cell_type": "code",
   "execution_count": 6,
   "metadata": {
    "ExecuteTime": {
     "end_time": "2019-06-02T14:02:00.967545Z",
     "start_time": "2019-06-02T14:02:00.923257Z"
    }
   },
   "outputs": [
    {
     "name": "stdout",
     "output_type": "stream",
     "text": [
      "World\n"
     ]
    }
   ],
   "source": [
    "string s1 = \"Hello\", s2= \"World\";\n",
    "cout << Max(s1,s2) << endl;"
   ]
  },
  {
   "cell_type": "markdown",
   "metadata": {},
   "source": [
    "# Template class"
   ]
  },
  {
   "cell_type": "code",
   "execution_count": 7,
   "metadata": {
    "ExecuteTime": {
     "end_time": "2019-06-02T14:02:01.506910Z",
     "start_time": "2019-06-02T14:02:00.967897Z"
    }
   },
   "outputs": [
    {
     "name": "stderr",
     "output_type": "stream",
     "text": [
      "\u001b[1minput_line_17:4:1: \u001b[0m\u001b[0;1;31merror: \u001b[0m\u001b[1mexpected expression\u001b[0m\n",
      "template <class T>\n",
      "\u001b[0;1;32m^\n",
      "\u001b[0m\u001b[1minput_line_17:12:1: \u001b[0m\u001b[0;1;31merror: \u001b[0m\u001b[1mexpected expression\u001b[0m\n",
      "template <>\n",
      "\u001b[0;1;32m^\n",
      "\u001b[0m\u001b[1minput_line_17:24:1: \u001b[0m\u001b[0;1;31merror: \u001b[0m\u001b[1muse of undeclared identifier 'mycontainer'\u001b[0m\n",
      "mycontainer<int> myint (7);\n",
      "\u001b[0;1;32m^\n",
      "\u001b[0m\u001b[1minput_line_17:24:16: \u001b[0m\u001b[0;1;31merror: \u001b[0m\u001b[1mexpected '(' for function-style cast or type construction\u001b[0m\n",
      "mycontainer<int> myint (7);\n",
      "\u001b[0;1;32m            ~~~^\n",
      "\u001b[0m\u001b[1minput_line_17:24:18: \u001b[0m\u001b[0;1;31merror: \u001b[0m\u001b[1muse of undeclared identifier 'myint'\u001b[0m\n",
      "mycontainer<int> myint (7);\n",
      "\u001b[0;1;32m                 ^\n",
      "\u001b[0m\u001b[1minput_line_17:25:1: \u001b[0m\u001b[0;1;31merror: \u001b[0m\u001b[1muse of undeclared identifier 'mycontainer'\u001b[0m\n",
      "mycontainer<char> mychar ('j');\n",
      "\u001b[0;1;32m^\n",
      "\u001b[0m\u001b[1minput_line_17:25:17: \u001b[0m\u001b[0;1;31merror: \u001b[0m\u001b[1mexpected '(' for function-style cast or type construction\u001b[0m\n",
      "mycontainer<char> mychar ('j');\n",
      "\u001b[0;1;32m            ~~~~^\n",
      "\u001b[0m\u001b[1minput_line_17:25:19: \u001b[0m\u001b[0;1;31merror: \u001b[0m\u001b[1muse of undeclared identifier 'mychar'; did you mean 'char'?\u001b[0m\n",
      "mycontainer<char> mychar ('j');\n",
      "\u001b[0;1;32m                  ^\n",
      "\u001b[0m\u001b[1minput_line_17:26:9: \u001b[0m\u001b[0;1;31merror: \u001b[0m\u001b[1muse of undeclared identifier 'myint'\u001b[0m\n",
      "cout << myint.increase() << endl;\n",
      "\u001b[0;1;32m        ^\n",
      "\u001b[0m\u001b[1minput_line_17:27:9: \u001b[0m\u001b[0;1;31merror: \u001b[0m\u001b[1muse of undeclared identifier 'mychar'\u001b[0m\n",
      "cout << mychar.uppercase() << endl;\n",
      "\u001b[0;1;32m        ^\n",
      "\u001b[0m"
     ]
    },
    {
     "ename": "Interpreter Error",
     "evalue": "",
     "output_type": "error",
     "traceback": [
      "Interpreter Error: "
     ]
    }
   ],
   "source": [
    "// template specialization\n",
    "#include <iostream>\n",
    "using namespace std;\n",
    "\n",
    "// class template:\n",
    "template <class T>\n",
    "class mycontainer {\n",
    "    T element;\n",
    "  public:\n",
    "    mycontainer (T arg) {element=arg;}\n",
    "    T increase () {return ++element;}\n",
    "};\n",
    "\n",
    "// class template specialization:\n",
    "template <>\n",
    "class mycontainer <char> {\n",
    "    char element;\n",
    "  public:\n",
    "    mycontainer (char arg) {element=arg;}\n",
    "    char uppercase ()\n",
    "    {\n",
    "      if ((element>='a')&&(element<='z'))\n",
    "      element+='A'-'a';\n",
    "      return element;\n",
    "    }\n",
    "};\n",
    "\n",
    "\n",
    "mycontainer<int> myint (7);\n",
    "mycontainer<char> mychar ('j');\n",
    "cout << myint.increase() << endl;\n",
    "cout << mychar.uppercase() << endl;\n"
   ]
  },
  {
   "cell_type": "code",
   "execution_count": null,
   "metadata": {},
   "outputs": [],
   "source": []
  }
 ],
 "metadata": {
  "kernelspec": {
   "display_name": "C++17",
   "language": "C++17",
   "name": "xcpp17"
  },
  "language_info": {
   "codemirror_mode": "text/x-c++src",
   "file_extension": ".cpp",
   "mimetype": "text/x-c++src",
   "name": "c++",
   "version": "-std=c++17"
  },
  "toc": {
   "base_numbering": 1,
   "nav_menu": {},
   "number_sections": true,
   "sideBar": true,
   "skip_h1_title": false,
   "title_cell": "Table of Contents",
   "title_sidebar": "Contents",
   "toc_cell": true,
   "toc_position": {},
   "toc_section_display": true,
   "toc_window_display": true
  }
 },
 "nbformat": 4,
 "nbformat_minor": 2
}
