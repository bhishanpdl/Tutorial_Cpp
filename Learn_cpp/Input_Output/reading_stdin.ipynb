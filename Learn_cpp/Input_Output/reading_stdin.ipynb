{
 "cells": [
  {
   "cell_type": "code",
   "execution_count": 8,
   "metadata": {},
   "outputs": [],
   "source": [
    "/*\n",
    "Author: Bhishan Poudel\n",
    "Date: May 29, 2019\n",
    "Ref: \n",
    "*/\n",
    "#include <iostream>\n",
    "#include <string>\n",
    "#include <sstream>\n",
    "\n",
    "using namespace std;"
   ]
  },
  {
   "cell_type": "markdown",
   "metadata": {},
   "source": [
    "# Read a single character"
   ]
  },
  {
   "cell_type": "code",
   "execution_count": 2,
   "metadata": {},
   "outputs": [],
   "source": [
    "string mystr = \"\";"
   ]
  },
  {
   "cell_type": "code",
   "execution_count": 9,
   "metadata": {},
   "outputs": [
    {
     "name": "stdout",
     "output_type": "stream",
     "text": [
      "Please enter 1 char:\n",
      "f\n",
      "Your single character is: f\n"
     ]
    }
   ],
   "source": [
    "char mychar = {0};\n",
    "\n",
    "while (true)\n",
    "{\n",
    "    cout << \"Please enter 1 char:\" << '\\n';\n",
    "    getline(cin, mystr);\n",
    "    \n",
    "    if (mystr.length() == 1){\n",
    "        mychar = mystr[0];\n",
    "        break;\n",
    "    }\n",
    "    cout << \"Invalid character, try again:\" << '\\n';\n",
    "}\n",
    "cout << \"Your single character is: \" << mychar << endl;"
   ]
  },
  {
   "cell_type": "markdown",
   "metadata": {},
   "source": [
    "# Read in string"
   ]
  },
  {
   "cell_type": "code",
   "execution_count": 3,
   "metadata": {},
   "outputs": [
    {
     "name": "stdout",
     "output_type": "stream",
     "text": [
      "Please enter a valid sentence\n",
      ">hello world\n",
      "You entered: hello world\n"
     ]
    }
   ],
   "source": [
    "cout << \"Please enter a valid sentence\\n>\";\n",
    "getline(cin,mystr);\n",
    "cout << \"You entered: \" << mystr << endl;"
   ]
  },
  {
   "cell_type": "markdown",
   "metadata": {},
   "source": [
    "# Get a number"
   ]
  },
  {
   "cell_type": "code",
   "execution_count": 6,
   "metadata": {},
   "outputs": [
    {
     "name": "stderr",
     "output_type": "stream",
     "text": [
      "input_line_16:2:6: error: redefinition of 'num'\n",
      " int num=0;\n",
      "     ^\n",
      "input_line_15:2:6: note: previous definition is here\n",
      " int num=0;\n",
      "     ^\n"
     ]
    },
    {
     "ename": "Interpreter Error",
     "evalue": "",
     "output_type": "error",
     "traceback": [
      "Interpreter Error: "
     ]
    }
   ],
   "source": [
    "int num=0;\n",
    "\n",
    "while (true)\n",
    "{\n",
    "    cout << \"Please enter a valid number: \";\n",
    "    getline(cin, mystr);\n",
    "    \n",
    "    //convert string to number\n",
    "    stringstream mystream(mystr);\n",
    "    if (mystream >> num)\n",
    "        break;\n",
    "    cout << \"invalid number, try again\" << endl;\n",
    "    \n",
    "}\n",
    "\n",
    "cout << \"You entered: \" << num << '\\n';"
   ]
  },
  {
   "cell_type": "code",
   "execution_count": 7,
   "metadata": {},
   "outputs": [
    {
     "name": "stderr",
     "output_type": "stream",
     "text": [
      "input_line_17:2:2: error: cannot delete expression of type 'int'\n",
      " delete num;\n",
      " ^      ~~~\n"
     ]
    },
    {
     "ename": "Interpreter Error",
     "evalue": "",
     "output_type": "error",
     "traceback": [
      "Interpreter Error: "
     ]
    }
   ],
   "source": []
  },
  {
   "cell_type": "code",
   "execution_count": null,
   "metadata": {},
   "outputs": [],
   "source": []
  }
 ],
 "metadata": {
  "kernelspec": {
   "display_name": "C++14",
   "language": "C++14",
   "name": "xcpp14"
  },
  "language_info": {
   "codemirror_mode": "text/x-c++src",
   "file_extension": ".cpp",
   "mimetype": "text/x-c++src",
   "name": "c++",
   "version": "-std=c++14"
  },
  "toc": {
   "base_numbering": 1,
   "nav_menu": {},
   "number_sections": true,
   "sideBar": true,
   "skip_h1_title": false,
   "title_cell": "Table of Contents",
   "title_sidebar": "Contents",
   "toc_cell": true,
   "toc_position": {},
   "toc_section_display": true,
   "toc_window_display": true
  }
 },
 "nbformat": 4,
 "nbformat_minor": 2
}
