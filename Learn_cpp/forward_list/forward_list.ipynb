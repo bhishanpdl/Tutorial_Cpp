{
 "cells": [
  {
   "cell_type": "code",
   "execution_count": 1,
   "metadata": {},
   "outputs": [],
   "source": [
    "/*\n",
    "Author: Bhishan Poudel\n",
    "Date: Jun 2, 2019\n",
    "Ref: https://www.thecrazyprogrammer.com/2017/08/stl-forward-list.html\n",
    "*/\n",
    "#include<iostream>\n",
    "#include<forward_list>\n",
    "\n",
    "using namespace std;"
   ]
  },
  {
   "cell_type": "markdown",
   "metadata": {},
   "source": [
    "# Forward List\n",
    "\n",
    "C++ STL Forward List Container – std::forward_list\n",
    "In this tutorial you will learn about C++ STL forward list i.e.,\n",
    "std::forward_list and operations, methods applicable on it.\n",
    "\n",
    "Forward Lists come under sequence containers. Forward List implements singly linked list.\n",
    "    Insertion, removal and moving operations are very fast than other containers.\n",
    "    Every element of forward list contains its next element address.\n",
    "    Main disadvantage of forward list is that cannot be iterated backwards and\n",
    "    its individual elements cannot be accessed directly.\n",
    "    When singly linked list preferred over double linked list,\n",
    "Forward list is better than List. Because list behaves a like double linked list.\n",
    "    Example for where we can use forward list is chaining in hashing,\n",
    "adjacency list representation of graph etc."
   ]
  },
  {
   "cell_type": "code",
   "execution_count": 2,
   "metadata": {},
   "outputs": [],
   "source": [
    "forward_list<int> fl1;\n",
    "forward_list<int>::iterator it;"
   ]
  },
  {
   "cell_type": "code",
   "execution_count": 3,
   "metadata": {},
   "outputs": [],
   "source": [
    "//assign values\n",
    "fl1.assign({10,20,30});"
   ]
  },
  {
   "cell_type": "code",
   "execution_count": 4,
   "metadata": {},
   "outputs": [
    {
     "data": {
      "text/plain": [
       "{ 10, 20, 30 }"
      ]
     },
     "execution_count": 4,
     "metadata": {},
     "output_type": "execute_result"
    }
   ],
   "source": [
    "fl1"
   ]
  },
  {
   "cell_type": "code",
   "execution_count": 5,
   "metadata": {},
   "outputs": [
    {
     "name": "stdout",
     "output_type": "stream",
     "text": [
      "10 20 30 "
     ]
    }
   ],
   "source": [
    "for (auto &x: fl1) cout << x << \" \";"
   ]
  },
  {
   "cell_type": "code",
   "execution_count": 6,
   "metadata": {},
   "outputs": [
    {
     "name": "stdout",
     "output_type": "stream",
     "text": [
      "10 20 30 "
     ]
    }
   ],
   "source": [
    "for (it = fl1.begin(); it!=fl1.end(); it++)\n",
    "    cout << *it << \" \";"
   ]
  },
  {
   "cell_type": "code",
   "execution_count": 7,
   "metadata": {},
   "outputs": [],
   "source": [
    "//assing values another way, this will overwrite old values\n",
    "fl1.assign(3,99);"
   ]
  },
  {
   "cell_type": "code",
   "execution_count": 8,
   "metadata": {},
   "outputs": [
    {
     "name": "stdout",
     "output_type": "stream",
     "text": [
      "99 99 99 "
     ]
    }
   ],
   "source": [
    "for (auto &x: fl1) cout << x << \" \";"
   ]
  },
  {
   "cell_type": "markdown",
   "metadata": {},
   "source": [
    "# Insert Functions\n",
    "- push_front(): This function used to insert new value at beginning of the list.\n",
    "The value from this function copied to the address before to the current first\n",
    "element of container.\n",
    "\n",
    "- emplace_front(): This function also used to insert elements at beginning of the container but there no copy operation. Here element directly inserts at the address before to the first element.\n",
    "\n",
    "- insert_after(): Using this function we can insert element at any position of the forward list. The arguments which we pass to this function will be copied to particular location.\n",
    "\n",
    "- emplace_after(): This also works same as insert_after() function. But element directly insert without any copy operation."
   ]
  },
  {
   "cell_type": "code",
   "execution_count": 10,
   "metadata": {},
   "outputs": [
    {
     "data": {
      "text/plain": [
       "{ 99, 99, 99 }"
      ]
     },
     "execution_count": 10,
     "metadata": {},
     "output_type": "execute_result"
    }
   ],
   "source": [
    "fl1"
   ]
  },
  {
   "cell_type": "code",
   "execution_count": 11,
   "metadata": {},
   "outputs": [
    {
     "data": {
      "text/plain": [
       "{ 5, 99, 99, 99 }"
      ]
     },
     "execution_count": 11,
     "metadata": {},
     "output_type": "execute_result"
    }
   ],
   "source": [
    "fl1.push_front(5);\n",
    "fl1"
   ]
  },
  {
   "cell_type": "code",
   "execution_count": 12,
   "metadata": {},
   "outputs": [
    {
     "data": {
      "text/plain": [
       "{ 4, 5, 99, 99, 99 }"
      ]
     },
     "execution_count": 12,
     "metadata": {},
     "output_type": "execute_result"
    }
   ],
   "source": [
    "fl1.emplace_front(4); // emplace_front is better than push_front since it is in-place.\n",
    "fl1"
   ]
  },
  {
   "cell_type": "code",
   "execution_count": 14,
   "metadata": {},
   "outputs": [
    {
     "data": {
      "text/plain": [
       "{ 4, 11, 99, 5, 99, 99, 99 }"
      ]
     },
     "execution_count": 14,
     "metadata": {},
     "output_type": "execute_result"
    }
   ],
   "source": [
    "fl1.insert_after(fl1.begin(), 11); // 11 after 1st element\n",
    "fl1"
   ]
  },
  {
   "cell_type": "code",
   "execution_count": 16,
   "metadata": {},
   "outputs": [
    {
     "data": {
      "text/plain": [
       "{ 4, 11, 11, 99, 5, 99, 99, 99 }"
      ]
     },
     "execution_count": 16,
     "metadata": {},
     "output_type": "execute_result"
    }
   ],
   "source": [
    "it = fl1.insert_after(fl1.begin(),11);\n",
    "fl1"
   ]
  },
  {
   "cell_type": "code",
   "execution_count": 17,
   "metadata": {},
   "outputs": [
    {
     "data": {
      "text/plain": [
       "{ 4, 11, 0, 11, 99, 5, 99, 99, 99 }"
      ]
     },
     "execution_count": 17,
     "metadata": {},
     "output_type": "execute_result"
    }
   ],
   "source": [
    "//using above iterator to insert a number\n",
    "fl1.emplace_after(it,0);\n",
    "fl1"
   ]
  },
  {
   "cell_type": "markdown",
   "metadata": {},
   "source": [
    "# Delete Functions\n",
    "- pop_front(): This function removes the first element of the forward list.\n",
    "\n",
    "- erase_after(): This function used to delete the element at particular position of forward list.\n",
    "\n",
    "- remove(): This function removes the specific element which we pass as an argument to this function\n",
    "\n",
    "- remove_if(): This function removes the element we specified only the condition which we gives is true."
   ]
  },
  {
   "cell_type": "code",
   "execution_count": 18,
   "metadata": {},
   "outputs": [
    {
     "data": {
      "text/plain": [
       "{ 4, 11, 0, 11, 99, 5, 99, 99, 99 }"
      ]
     },
     "execution_count": 18,
     "metadata": {},
     "output_type": "execute_result"
    }
   ],
   "source": [
    "fl1"
   ]
  },
  {
   "cell_type": "code",
   "execution_count": 19,
   "metadata": {},
   "outputs": [
    {
     "data": {
      "text/plain": [
       "{ 11, 0, 11, 99, 5, 99, 99, 99 }"
      ]
     },
     "execution_count": 19,
     "metadata": {},
     "output_type": "execute_result"
    }
   ],
   "source": [
    "fl1.pop_front();\n",
    "fl1"
   ]
  },
  {
   "cell_type": "code",
   "execution_count": 20,
   "metadata": {},
   "outputs": [
    {
     "data": {
      "text/plain": [
       "{ 11, 11, 99, 5, 99, 99, 99 }"
      ]
     },
     "execution_count": 20,
     "metadata": {},
     "output_type": "execute_result"
    }
   ],
   "source": [
    "fl1.erase_after(fl1.begin());\n",
    "fl1"
   ]
  },
  {
   "cell_type": "code",
   "execution_count": 21,
   "metadata": {},
   "outputs": [
    {
     "data": {
      "text/plain": [
       "{ 11, 11, 5 }"
      ]
     },
     "execution_count": 21,
     "metadata": {},
     "output_type": "execute_result"
    }
   ],
   "source": [
    "fl1.remove(99); // remove all 99\n",
    "fl1"
   ]
  },
  {
   "cell_type": "code",
   "execution_count": 24,
   "metadata": {},
   "outputs": [
    {
     "data": {
      "text/plain": [
       "{ 11, 11 }"
      ]
     },
     "execution_count": 24,
     "metadata": {},
     "output_type": "execute_result"
    }
   ],
   "source": [
    "fl1.remove_if([](int n) {return n<6;});\n",
    "fl1"
   ]
  },
  {
   "cell_type": "markdown",
   "metadata": {},
   "source": [
    "# Some more functions are:\n",
    "\n",
    "- splice_after(): This function used to transfer one forward list elements to other forward list. It places the elements after specified position only.\n",
    "\n",
    "- reverse(): This function reverse all elements of the forward list.\n",
    "\n",
    "- sort(): This function sorts the elements in the forward list.\n",
    "\n"
   ]
  },
  {
   "cell_type": "code",
   "execution_count": 25,
   "metadata": {},
   "outputs": [],
   "source": [
    "//create another forward list\n",
    "forward_list<int> fl2;"
   ]
  },
  {
   "cell_type": "code",
   "execution_count": 29,
   "metadata": {},
   "outputs": [
    {
     "data": {
      "text/plain": [
       "{ 1, 2, 3 }"
      ]
     },
     "execution_count": 29,
     "metadata": {},
     "output_type": "execute_result"
    }
   ],
   "source": [
    "fl2.assign({1,2,3});\n",
    "fl2"
   ]
  },
  {
   "cell_type": "code",
   "execution_count": 30,
   "metadata": {},
   "outputs": [
    {
     "data": {
      "text/plain": [
       "{ 100, 200, 300 }"
      ]
     },
     "execution_count": 30,
     "metadata": {},
     "output_type": "execute_result"
    }
   ],
   "source": [
    "fl1.assign({100,200,300});\n",
    "fl1"
   ]
  },
  {
   "cell_type": "code",
   "execution_count": 31,
   "metadata": {},
   "outputs": [
    {
     "data": {
      "text/plain": [
       "{ 1, 100, 200, 300, 2, 3 }"
      ]
     },
     "execution_count": 31,
     "metadata": {},
     "output_type": "execute_result"
    }
   ],
   "source": [
    "fl2.splice_after(fl2.begin(), fl1);//insert all elements of fl1 after first element of fl2\n",
    "fl2 // fl1 is vanished."
   ]
  },
  {
   "cell_type": "code",
   "execution_count": 34,
   "metadata": {},
   "outputs": [
    {
     "data": {
      "text/plain": [
       "{ 3, 2, 300, 200, 100, 1 }"
      ]
     },
     "execution_count": 34,
     "metadata": {},
     "output_type": "execute_result"
    }
   ],
   "source": [
    "fl2.reverse();\n",
    "fl2"
   ]
  },
  {
   "cell_type": "code",
   "execution_count": 35,
   "metadata": {},
   "outputs": [
    {
     "data": {
      "text/plain": [
       "{ 3, 2, 1 }"
      ]
     },
     "execution_count": 35,
     "metadata": {},
     "output_type": "execute_result"
    }
   ],
   "source": [
    "fl1.assign({1,2,3});\n",
    "fl1.reverse();\n",
    "fl1"
   ]
  },
  {
   "cell_type": "code",
   "execution_count": 36,
   "metadata": {},
   "outputs": [
    {
     "data": {
      "text/plain": [
       "{ 1, 2, 3 }"
      ]
     },
     "execution_count": 36,
     "metadata": {},
     "output_type": "execute_result"
    }
   ],
   "source": [
    "fl1.sort();\n",
    "fl1"
   ]
  },
  {
   "cell_type": "code",
   "execution_count": null,
   "metadata": {},
   "outputs": [],
   "source": []
  },
  {
   "cell_type": "code",
   "execution_count": null,
   "metadata": {},
   "outputs": [],
   "source": []
  },
  {
   "cell_type": "code",
   "execution_count": null,
   "metadata": {},
   "outputs": [],
   "source": []
  }
 ],
 "metadata": {
  "kernelspec": {
   "display_name": "C++17",
   "language": "C++17",
   "name": "xcpp17"
  },
  "language_info": {
   "codemirror_mode": "text/x-c++src",
   "file_extension": ".cpp",
   "mimetype": "text/x-c++src",
   "name": "c++",
   "version": "-std=c++17"
  }
 },
 "nbformat": 4,
 "nbformat_minor": 2
}
