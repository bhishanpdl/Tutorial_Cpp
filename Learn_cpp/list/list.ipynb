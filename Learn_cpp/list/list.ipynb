{
 "cells": [
  {
   "cell_type": "markdown",
   "metadata": {
    "toc": true
   },
   "source": [
    "<h1>Table of Contents<span class=\"tocSkip\"></span></h1>\n",
    "<div class=\"toc\"><ul class=\"toc-item\"></ul></div>"
   ]
  },
  {
   "cell_type": "code",
   "execution_count": 1,
   "metadata": {
    "ExecuteTime": {
     "end_time": "2019-05-31T23:28:16.869156Z",
     "start_time": "2019-05-31T23:28:16.576415Z"
    }
   },
   "outputs": [],
   "source": [
    "/*\n",
    "Author: Bhishan Poudel\n",
    "Date: May 31, 2019\n",
    "Ref: \n",
    "*/\n",
    "#include <iostream>\n",
    "#include <list>\n",
    "#include <bits/stdc++.h> \n",
    "using namespace std;"
   ]
  },
  {
   "cell_type": "code",
   "execution_count": 2,
   "metadata": {
    "ExecuteTime": {
     "end_time": "2019-05-31T23:28:16.890798Z",
     "start_time": "2019-05-31T23:28:16.869429Z"
    }
   },
   "outputs": [],
   "source": [
    "void print_list_int(list<int> mylist){\n",
    "    list<int>::iterator it;\n",
    "    \n",
    "    for (it=mylist.begin(); it!=mylist.end(); it++)\n",
    "        cout << *it << \" \";\n",
    "    cout << endl;\n",
    "    \n",
    "}"
   ]
  },
  {
   "cell_type": "code",
   "execution_count": 3,
   "metadata": {
    "ExecuteTime": {
     "end_time": "2019-05-31T23:28:16.938037Z",
     "start_time": "2019-05-31T23:28:16.891118Z"
    }
   },
   "outputs": [
    {
     "name": "stdout",
     "output_type": "stream",
     "text": [
      "100 100 100 100 100 100 100 100 100 100 \n"
     ]
    }
   ],
   "source": [
    "list<int> mylist(10,100);\n",
    "print_list_int(mylist);"
   ]
  },
  {
   "cell_type": "code",
   "execution_count": 4,
   "metadata": {
    "ExecuteTime": {
     "end_time": "2019-05-31T23:28:16.939013Z",
     "start_time": "2019-05-31T23:28:16.938298Z"
    }
   },
   "outputs": [],
   "source": [
    "// This does not work, list does nothave subscript operator.\n",
    "// for (int i=0; i<mylist.size(); i++)\n",
    "//     cout << mylist[i] << \" \";\n",
    "// cout << endl;"
   ]
  },
  {
   "cell_type": "code",
   "execution_count": 5,
   "metadata": {
    "ExecuteTime": {
     "end_time": "2019-05-31T23:28:16.939713Z",
     "start_time": "2019-05-31T23:28:16.939201Z"
    }
   },
   "outputs": [],
   "source": [
    "// mylist[0]"
   ]
  },
  {
   "cell_type": "code",
   "execution_count": 6,
   "metadata": {
    "ExecuteTime": {
     "end_time": "2019-05-31T23:28:16.975296Z",
     "start_time": "2019-05-31T23:28:16.940150Z"
    }
   },
   "outputs": [],
   "source": [
    "list<string> mylist2(5,\"Geeks\");"
   ]
  },
  {
   "cell_type": "code",
   "execution_count": 7,
   "metadata": {
    "ExecuteTime": {
     "end_time": "2019-05-31T23:28:16.987466Z",
     "start_time": "2019-05-31T23:28:16.975552Z"
    }
   },
   "outputs": [],
   "source": [
    "void print_list_str(list<string> mylist){\n",
    "    list<string>::iterator it;\n",
    "    \n",
    "    for (it=mylist.begin(); it!=mylist.end(); it++)\n",
    "        cout << *it << \" \";\n",
    "    cout << endl;\n",
    "    \n",
    "}"
   ]
  },
  {
   "cell_type": "code",
   "execution_count": 8,
   "metadata": {
    "ExecuteTime": {
     "end_time": "2019-05-31T23:28:17.227020Z",
     "start_time": "2019-05-31T23:28:16.987732Z"
    }
   },
   "outputs": [
    {
     "name": "stdout",
     "output_type": "stream",
     "text": [
      "Geeks Geeks Geeks Geeks Geeks \n"
     ]
    }
   ],
   "source": [
    "print_list_str(mylist2);"
   ]
  },
  {
   "cell_type": "code",
   "execution_count": null,
   "metadata": {},
   "outputs": [],
   "source": []
  }
 ],
 "metadata": {
  "kernelspec": {
   "display_name": "C++17",
   "language": "C++17",
   "name": "xcpp17"
  },
  "language_info": {
   "codemirror_mode": "text/x-c++src",
   "file_extension": ".cpp",
   "mimetype": "text/x-c++src",
   "name": "c++",
   "version": "-std=c++17"
  },
  "toc": {
   "base_numbering": 1,
   "nav_menu": {},
   "number_sections": true,
   "sideBar": true,
   "skip_h1_title": false,
   "title_cell": "Table of Contents",
   "title_sidebar": "Contents",
   "toc_cell": true,
   "toc_position": {},
   "toc_section_display": true,
   "toc_window_display": true
  }
 },
 "nbformat": 4,
 "nbformat_minor": 2
}
