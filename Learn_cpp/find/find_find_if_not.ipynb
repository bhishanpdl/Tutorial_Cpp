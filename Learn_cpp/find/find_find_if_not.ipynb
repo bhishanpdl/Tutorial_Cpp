{
 "cells": [
  {
   "cell_type": "markdown",
   "metadata": {
    "toc": true
   },
   "source": [
    "<h1>Table of Contents<span class=\"tocSkip\"></span></h1>\n",
    "<div class=\"toc\"><ul class=\"toc-item\"><li><span><a href=\"#Find-element-in-an-array\" data-toc-modified-id=\"Find-element-in-an-array-1\"><span class=\"toc-item-num\">1&nbsp;&nbsp;</span>Find element in an array</a></span></li><li><span><a href=\"#Find-element-in-vector\" data-toc-modified-id=\"Find-element-in-vector-2\"><span class=\"toc-item-num\">2&nbsp;&nbsp;</span>Find element in vector</a></span></li><li><span><a href=\"#find_if-find_if_not\" data-toc-modified-id=\"find_if-find_if_not-3\"><span class=\"toc-item-num\">3&nbsp;&nbsp;</span>find_if find_if_not</a></span></li><li><span><a href=\"#find_end\" data-toc-modified-id=\"find_end-4\"><span class=\"toc-item-num\">4&nbsp;&nbsp;</span>find_end</a></span></li><li><span><a href=\"#search\" data-toc-modified-id=\"search-5\"><span class=\"toc-item-num\">5&nbsp;&nbsp;</span>search</a></span></li></ul></div>"
   ]
  },
  {
   "cell_type": "code",
   "execution_count": 1,
   "metadata": {
    "ExecuteTime": {
     "end_time": "2019-06-01T22:46:30.339665Z",
     "start_time": "2019-06-01T22:46:30.337365Z"
    }
   },
   "outputs": [],
   "source": [
    "/*\n",
    "Author: Bhishan Poudel\n",
    "Date: Jun 1, 2019\n",
    "Ref: https://www.geeksforgeeks.org/std-find-in-cpp/\n",
    "*/\n",
    "#include <iostream> // std::cout\n",
    "#include <algorithm> // std::find\n",
    "#include <vector> // std::vector\n",
    "\n",
    "using namespace std;"
   ]
  },
  {
   "cell_type": "markdown",
   "metadata": {},
   "source": [
    "# Find element in an array"
   ]
  },
  {
   "cell_type": "code",
   "execution_count": 2,
   "metadata": {
    "ExecuteTime": {
     "end_time": "2019-06-01T22:46:30.348677Z",
     "start_time": "2019-06-01T22:46:30.347668Z"
    }
   },
   "outputs": [],
   "source": [
    "int myints[] = {10,20,30,40};\n",
    "int *p;\n",
    "int ser;"
   ]
  },
  {
   "cell_type": "code",
   "execution_count": 3,
   "metadata": {
    "ExecuteTime": {
     "end_time": "2019-06-01T22:46:30.385388Z",
     "start_time": "2019-06-01T22:46:30.348916Z"
    }
   },
   "outputs": [
    {
     "name": "stdout",
     "output_type": "stream",
     "text": [
      "Element found in myints: 30\n"
     ]
    }
   ],
   "source": [
    "ser = 30;\n",
    "p = find(myints, myints+4, ser);\n",
    "if (p != myints+4)\n",
    "    cout << \"Element found in myints: \" << *p << endl;\n",
    "else\n",
    "    cout << ser << \"not found in \" << \"myints.\""
   ]
  },
  {
   "cell_type": "code",
   "execution_count": 4,
   "metadata": {
    "ExecuteTime": {
     "end_time": "2019-06-01T22:46:30.418533Z",
     "start_time": "2019-06-01T22:46:30.385634Z"
    }
   },
   "outputs": [
    {
     "name": "stdout",
     "output_type": "stream",
     "text": [
      "50 not found in myints."
     ]
    }
   ],
   "source": [
    "ser = 50;\n",
    "p = find(myints, myints+4, ser);\n",
    "if (p != myints+4)\n",
    "    cout << \"Element found in myints: \" << *p << endl;\n",
    "else\n",
    "    cout << ser << \" not found in \" << \"myints.\""
   ]
  },
  {
   "cell_type": "markdown",
   "metadata": {},
   "source": [
    "# Find element in vector"
   ]
  },
  {
   "cell_type": "code",
   "execution_count": 5,
   "metadata": {
    "ExecuteTime": {
     "end_time": "2019-06-01T22:46:30.456352Z",
     "start_time": "2019-06-01T22:46:30.418779Z"
    }
   },
   "outputs": [],
   "source": [
    "vector<int> vec {10,20,30,40,30};\n",
    "vector<int>::iterator it;"
   ]
  },
  {
   "cell_type": "code",
   "execution_count": 6,
   "metadata": {
    "ExecuteTime": {
     "end_time": "2019-06-01T22:46:30.496665Z",
     "start_time": "2019-06-01T22:46:30.456775Z"
    }
   },
   "outputs": [
    {
     "name": "stdout",
     "output_type": "stream",
     "text": [
      "Element found in myints: 30\n"
     ]
    }
   ],
   "source": [
    "ser = 30;\n",
    "it = find(vec.begin(), vec.end(), ser);\n",
    "\n",
    "if (it != vec.end())\n",
    "    cout << \"Element found in myints: \" << *it << endl;\n",
    "else\n",
    "    cout << ser << \" not found in \" << \"myints.\""
   ]
  },
  {
   "cell_type": "code",
   "execution_count": 7,
   "metadata": {
    "ExecuteTime": {
     "end_time": "2019-06-01T22:46:30.502887Z",
     "start_time": "2019-06-01T22:46:30.501770Z"
    }
   },
   "outputs": [],
   "source": [
    "//Find postion of searched element."
   ]
  },
  {
   "cell_type": "code",
   "execution_count": 8,
   "metadata": {
    "ExecuteTime": {
     "end_time": "2019-06-01T22:46:30.536048Z",
     "start_time": "2019-06-01T22:46:30.503283Z"
    }
   },
   "outputs": [
    {
     "name": "stdout",
     "output_type": "stream",
     "text": [
      "Element not found\n"
     ]
    }
   ],
   "source": [
    "ser = 50;\n",
    "it = find(vec.begin(), vec.end(), ser);\n",
    "\n",
    "if (it != vec.end()){\n",
    "    cout << \"Element \" << ser << \" found at position: \";\n",
    "    cout << it - vec.begin() + 1 <<  endl;\n",
    "}\n",
    "else\n",
    "    cout << \"Element not found\\n\";"
   ]
  },
  {
   "cell_type": "code",
   "execution_count": 9,
   "metadata": {
    "ExecuteTime": {
     "end_time": "2019-06-01T22:46:30.862545Z",
     "start_time": "2019-06-01T22:46:30.536393Z"
    }
   },
   "outputs": [
    {
     "data": {
      "text/plain": [
       "30"
      ]
     },
     "execution_count": 9,
     "metadata": {},
     "output_type": "execute_result"
    }
   ],
   "source": [
    "vec[2]"
   ]
  },
  {
   "cell_type": "markdown",
   "metadata": {},
   "source": [
    "# find_if find_if_not"
   ]
  },
  {
   "cell_type": "code",
   "execution_count": 10,
   "metadata": {
    "ExecuteTime": {
     "end_time": "2019-06-01T22:46:30.863780Z",
     "start_time": "2019-06-01T22:46:30.862782Z"
    }
   },
   "outputs": [],
   "source": [
    "bool is_odd(int i){ return i%2;}"
   ]
  },
  {
   "cell_type": "code",
   "execution_count": 11,
   "metadata": {
    "ExecuteTime": {
     "end_time": "2019-06-01T22:46:30.919483Z",
     "start_time": "2019-06-01T22:46:30.864230Z"
    }
   },
   "outputs": [
    {
     "name": "stdout",
     "output_type": "stream",
     "text": [
      "The first odd values is 31\n"
     ]
    }
   ],
   "source": [
    "// get the vector\n",
    "for (int i=1;i<=5;i++)\n",
    "    vec.push_back(i+30);\n",
    "\n",
    "it = find_if(vec.begin(), vec.end(), is_odd);\n",
    "\n",
    "cout << \"The first odd values is \" << *it << endl;"
   ]
  },
  {
   "cell_type": "code",
   "execution_count": 12,
   "metadata": {
    "ExecuteTime": {
     "end_time": "2019-06-01T22:46:31.263784Z",
     "start_time": "2019-06-01T22:46:30.919711Z"
    }
   },
   "outputs": [
    {
     "data": {
      "text/plain": [
       "{ 10, 20, 30, 40, 30, 31, 32, 33, 34, 35 }"
      ]
     },
     "execution_count": 12,
     "metadata": {},
     "output_type": "execute_result"
    }
   ],
   "source": [
    "vec"
   ]
  },
  {
   "cell_type": "code",
   "execution_count": 13,
   "metadata": {
    "ExecuteTime": {
     "end_time": "2019-06-01T22:46:31.286073Z",
     "start_time": "2019-06-01T22:46:31.263961Z"
    }
   },
   "outputs": [
    {
     "name": "stdout",
     "output_type": "stream",
     "text": [
      "The first non-odd (even) values is 10\n"
     ]
    }
   ],
   "source": [
    "it = find_if_not(vec.begin(), vec.end(), is_odd);\n",
    "\n",
    "cout << \"The first non-odd (even) values is \" << *it << endl;"
   ]
  },
  {
   "cell_type": "markdown",
   "metadata": {},
   "source": [
    "# find_end"
   ]
  },
  {
   "cell_type": "code",
   "execution_count": 14,
   "metadata": {
    "ExecuteTime": {
     "end_time": "2019-06-01T22:46:31.302462Z",
     "start_time": "2019-06-01T22:46:31.286275Z"
    }
   },
   "outputs": [],
   "source": [
    "// Defining first container \n",
    "vector<int>v = {10, 20, 30, 4, 5, 6, 7, 8, 9, 10, 11,  \n",
    "                10, 20, 30}; \n",
    "\n",
    "// Defining second container \n",
    "vector<int>v1 = {10, 20, 30};  "
   ]
  },
  {
   "cell_type": "code",
   "execution_count": 15,
   "metadata": {
    "ExecuteTime": {
     "end_time": "2019-06-01T22:46:31.327361Z",
     "start_time": "2019-06-01T22:46:31.302676Z"
    }
   },
   "outputs": [
    {
     "name": "stdout",
     "output_type": "stream",
     "text": [
      "11\n"
     ]
    }
   ],
   "source": [
    "// Using std::find_end \n",
    "it = find_end(v.begin(), v.end(),\n",
    "              v1.begin(),v1.end()); \n",
    "\n",
    "// Displaying the index where the last common occurrence begins \n",
    "cout << (it - v.begin()) << \"\\n\"; "
   ]
  },
  {
   "cell_type": "code",
   "execution_count": 16,
   "metadata": {
    "ExecuteTime": {
     "end_time": "2019-06-01T22:46:31.328158Z",
     "start_time": "2019-06-01T22:46:31.327575Z"
    }
   },
   "outputs": [],
   "source": [
    "// using user defined function for find_end"
   ]
  },
  {
   "cell_type": "code",
   "execution_count": 17,
   "metadata": {
    "ExecuteTime": {
     "end_time": "2019-06-01T22:46:31.329303Z",
     "start_time": "2019-06-01T22:46:31.328469Z"
    }
   },
   "outputs": [],
   "source": [
    "bool is_equal(int a, int b) {return a == b;}"
   ]
  },
  {
   "cell_type": "code",
   "execution_count": 18,
   "metadata": {
    "ExecuteTime": {
     "end_time": "2019-06-01T22:46:31.357330Z",
     "start_time": "2019-06-01T22:46:31.329562Z"
    }
   },
   "outputs": [
    {
     "name": "stdout",
     "output_type": "stream",
     "text": [
      "11\n"
     ]
    }
   ],
   "source": [
    "// Using std::find_end \n",
    "it = std::find_end(v.begin(), v.end(),\n",
    "                   v1.begin(), v1.end(), is_equal); \n",
    "  \n",
    "// Displaying the index where the last common occurrence begins \n",
    "cout << (it - v.begin()) << \"\\n\";"
   ]
  },
  {
   "cell_type": "code",
   "execution_count": 19,
   "metadata": {
    "ExecuteTime": {
     "end_time": "2019-06-01T22:46:31.670671Z",
     "start_time": "2019-06-01T22:46:31.357569Z"
    }
   },
   "outputs": [
    {
     "data": {
      "text/plain": [
       "{ 10, 20, 30, 4, 5, 6, 7, 8, 9, 10, 11, 10, 20, 30 }"
      ]
     },
     "execution_count": 19,
     "metadata": {},
     "output_type": "execute_result"
    }
   ],
   "source": [
    "v"
   ]
  },
  {
   "cell_type": "markdown",
   "metadata": {},
   "source": [
    "# search"
   ]
  },
  {
   "cell_type": "code",
   "execution_count": 34,
   "metadata": {
    "ExecuteTime": {
     "end_time": "2019-06-01T23:21:33.277222Z",
     "start_time": "2019-06-01T23:21:33.221561Z"
    }
   },
   "outputs": [
    {
     "name": "stdout",
     "output_type": "stream",
     "text": [
      "1 2 3 4 5 6 7 3 4 5 "
     ]
    }
   ],
   "source": [
    "v1.clear();\n",
    "\n",
    "for (int i=1;i<=7;i++)\n",
    "    v1.push_back(i);\n",
    "\n",
    "v1.push_back(3);\n",
    "v1.push_back(4);\n",
    "v1.push_back(5);\n",
    "\n",
    "for (int &x: v1) cout << x << \" \";"
   ]
  },
  {
   "cell_type": "code",
   "execution_count": 30,
   "metadata": {
    "ExecuteTime": {
     "end_time": "2019-06-01T23:08:28.396230Z",
     "start_time": "2019-06-01T23:08:28.23205Z"
    }
   },
   "outputs": [],
   "source": [
    "vector<int> v2 = {3,4};"
   ]
  },
  {
   "cell_type": "code",
   "execution_count": 32,
   "metadata": {
    "ExecuteTime": {
     "end_time": "2019-06-01T23:09:39.366924Z",
     "start_time": "2019-06-01T23:09:39.336023Z"
    }
   },
   "outputs": [
    {
     "name": "stdout",
     "output_type": "stream",
     "text": [
      "vector2 is present firstly at index 2"
     ]
    }
   ],
   "source": [
    "it = std::search(v1.begin(), v1.end(),\n",
    "                 v2.begin(), v2.end());\n",
    "\n",
    "// checking if iterator it contains end pointer of v1 or not \n",
    "if (it != v1.end()) { \n",
    "    cout << \"vector2 is present firstly at index \" \n",
    "         << (it - v1.begin()); \n",
    "} else { \n",
    "    cout << \"vector2 is not present in vector1\"; \n",
    "} "
   ]
  },
  {
   "cell_type": "code",
   "execution_count": 33,
   "metadata": {
    "ExecuteTime": {
     "end_time": "2019-06-01T23:10:57.967161Z",
     "start_time": "2019-06-01T23:10:57.934001Z"
    }
   },
   "outputs": [
    {
     "name": "stdout",
     "output_type": "stream",
     "text": [
      "\n",
      "vector2 is present lastly at index 7"
     ]
    }
   ],
   "source": [
    "// Using std::find_end to find the last occurrence of v2 \n",
    "it = std::find_end(v1.begin(), v1.end(),\n",
    "                   v2.begin(), v2.end()); \n",
    "   \n",
    "// checking if iterator i1 contains end pointer of v1 or not \n",
    "if (it != v1.end()) { \n",
    "    cout << \"\\nvector2 is present lastly at index \" \n",
    "         << (it - v1.begin()); \n",
    "} else { \n",
    "    cout << \"vector2 is not present in vector1\"; \n",
    "} "
   ]
  },
  {
   "cell_type": "code",
   "execution_count": null,
   "metadata": {},
   "outputs": [],
   "source": []
  }
 ],
 "metadata": {
  "kernelspec": {
   "display_name": "C++17",
   "language": "C++17",
   "name": "xcpp17"
  },
  "language_info": {
   "codemirror_mode": "text/x-c++src",
   "file_extension": ".cpp",
   "mimetype": "text/x-c++src",
   "name": "c++",
   "version": "-std=c++17"
  },
  "toc": {
   "base_numbering": 1,
   "nav_menu": {},
   "number_sections": true,
   "sideBar": true,
   "skip_h1_title": false,
   "title_cell": "Table of Contents",
   "title_sidebar": "Contents",
   "toc_cell": true,
   "toc_position": {},
   "toc_section_display": true,
   "toc_window_display": true
  }
 },
 "nbformat": 4,
 "nbformat_minor": 2
}
