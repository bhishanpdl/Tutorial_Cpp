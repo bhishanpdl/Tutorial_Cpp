{
 "cells": [
  {
   "cell_type": "markdown",
   "metadata": {
    "toc": true
   },
   "source": [
    "<h1>Table of Contents<span class=\"tocSkip\"></span></h1>\n",
    "<div class=\"toc\"><ul class=\"toc-item\"><li><span><a href=\"#sort\" data-toc-modified-id=\"sort-1\"><span class=\"toc-item-num\">1&nbsp;&nbsp;</span>sort</a></span></li><li><span><a href=\"#nth_element-for-array\" data-toc-modified-id=\"nth_element-for-array-2\"><span class=\"toc-item-num\">2&nbsp;&nbsp;</span>nth_element for array</a></span></li><li><span><a href=\"#nth_element-of-array-using-function\" data-toc-modified-id=\"nth_element-of-array-using-function-3\"><span class=\"toc-item-num\">3&nbsp;&nbsp;</span>nth_element of array using function</a></span></li><li><span><a href=\"#Find-median-of-vector-using-nth_element-without-full-sorting\" data-toc-modified-id=\"Find-median-of-vector-using-nth_element-without-full-sorting-4\"><span class=\"toc-item-num\">4&nbsp;&nbsp;</span>Find median of vector using nth_element without full sorting</a></span></li><li><span><a href=\"#Find-median-of-an-array-with-full-sorting\" data-toc-modified-id=\"Find-median-of-an-array-with-full-sorting-5\"><span class=\"toc-item-num\">5&nbsp;&nbsp;</span>Find median of an array with full sorting</a></span></li><li><span><a href=\"#algorithm::partition\" data-toc-modified-id=\"algorithm::partition-6\"><span class=\"toc-item-num\">6&nbsp;&nbsp;</span>algorithm::partition</a></span></li><li><span><a href=\"#algorithm-stable_partition\" data-toc-modified-id=\"algorithm-stable_partition-7\"><span class=\"toc-item-num\">7&nbsp;&nbsp;</span>algorithm stable_partition</a></span></li></ul></div>"
   ]
  },
  {
   "cell_type": "code",
   "execution_count": 1,
   "metadata": {
    "ExecuteTime": {
     "end_time": "2019-06-02T02:41:43.746296Z",
     "start_time": "2019-06-02T02:41:43.653850Z"
    }
   },
   "outputs": [],
   "source": [
    "/*\n",
    "Author: Bhishan Poudel\n",
    "Date: Jun 1, 2019\n",
    "Ref: https://www.geeksforgeeks.org/stdnth_element-in-cpp/\n",
    "*/\n",
    "#include <iostream>\n",
    "#include <algorithm>    // std::shuffle\n",
    "#include <array>        // std::array\n",
    "#include <random>       // std::default_random_engine\n",
    "#include <chrono>       // std::chrono::system_clock\n",
    "using namespace std;"
   ]
  },
  {
   "cell_type": "code",
   "execution_count": 2,
   "metadata": {
    "ExecuteTime": {
     "end_time": "2019-06-02T02:41:43.747666Z",
     "start_time": "2019-06-02T02:41:43.746609Z"
    }
   },
   "outputs": [],
   "source": [
    "int arr[] = { 3, 2, 10, 45, 33, 56, 23, 47 };\n",
    "int n;\n",
    "int length;"
   ]
  },
  {
   "cell_type": "code",
   "execution_count": 3,
   "metadata": {
    "ExecuteTime": {
     "end_time": "2019-06-02T02:41:44.985810Z",
     "start_time": "2019-06-02T02:41:43.747915Z"
    }
   },
   "outputs": [
    {
     "data": {
      "text/plain": [
       "8"
      ]
     },
     "execution_count": 3,
     "metadata": {},
     "output_type": "execute_result"
    }
   ],
   "source": [
    "n = sizeof(arr)/sizeof(arr[0]);\n",
    "n"
   ]
  },
  {
   "cell_type": "markdown",
   "metadata": {},
   "source": [
    "# sort"
   ]
  },
  {
   "cell_type": "code",
   "execution_count": 4,
   "metadata": {
    "ExecuteTime": {
     "end_time": "2019-06-02T02:41:44.100899Z",
     "start_time": "2019-06-02T02:41:44.98824Z"
    }
   },
   "outputs": [],
   "source": [
    "sort(arr, arr+n);"
   ]
  },
  {
   "cell_type": "code",
   "execution_count": 5,
   "metadata": {
    "ExecuteTime": {
     "end_time": "2019-06-02T02:41:44.120051Z",
     "start_time": "2019-06-02T02:41:44.101135Z"
    }
   },
   "outputs": [
    {
     "name": "stdout",
     "output_type": "stream",
     "text": [
      "2 3 10 23 33 45 47 56 "
     ]
    }
   ],
   "source": [
    "for (int &x: arr) cout << x << \" \";"
   ]
  },
  {
   "cell_type": "code",
   "execution_count": 6,
   "metadata": {
    "ExecuteTime": {
     "end_time": "2019-06-02T02:41:44.120611Z",
     "start_time": "2019-06-02T02:41:44.120215Z"
    }
   },
   "outputs": [],
   "source": [
    "// shuffle sorted array"
   ]
  },
  {
   "cell_type": "code",
   "execution_count": 7,
   "metadata": {
    "ExecuteTime": {
     "end_time": "2019-06-02T02:41:44.421888Z",
     "start_time": "2019-06-02T02:41:44.120773Z"
    }
   },
   "outputs": [
    {
     "data": {
      "text/plain": [
       "{ 45, 47, 2, 3, 56, 10, 33, 23 }"
      ]
     },
     "execution_count": 7,
     "metadata": {},
     "output_type": "execute_result"
    }
   ],
   "source": [
    "unsigned seed = std::chrono::system_clock::now().time_since_epoch().count();\n",
    "\n",
    "int seed2 = 0;\n",
    "shuffle(arr, arr+n,std::default_random_engine(seed));\n",
    "\n",
    "arr"
   ]
  },
  {
   "cell_type": "code",
   "execution_count": 8,
   "metadata": {
    "ExecuteTime": {
     "end_time": "2019-06-02T02:41:44.738672Z",
     "start_time": "2019-06-02T02:41:44.422096Z"
    }
   },
   "outputs": [
    {
     "data": {
      "text/plain": [
       "{ 56, 47, 45, 33, 23, 10, 3, 2 }"
      ]
     },
     "execution_count": 8,
     "metadata": {},
     "output_type": "execute_result"
    }
   ],
   "source": [
    "n = sizeof(arr) / sizeof(arr[0]);\n",
    "sort(arr, arr+n, greater<int>());\n",
    "arr"
   ]
  },
  {
   "cell_type": "code",
   "execution_count": 9,
   "metadata": {
    "ExecuteTime": {
     "end_time": "2019-06-02T02:41:44.739480Z",
     "start_time": "2019-06-02T02:41:44.738845Z"
    }
   },
   "outputs": [],
   "source": [
    "// sorting the interval\n",
    "struct Interval{ int start, end;};"
   ]
  },
  {
   "cell_type": "code",
   "execution_count": 10,
   "metadata": {
    "ExecuteTime": {
     "end_time": "2019-06-02T02:41:44.740445Z",
     "start_time": "2019-06-02T02:41:44.739717Z"
    }
   },
   "outputs": [],
   "source": [
    "bool compare_interval(Interval i1, Interval i2) {\n",
    "    return (i1.start < i2.start);\n",
    "}"
   ]
  },
  {
   "cell_type": "code",
   "execution_count": 11,
   "metadata": {
    "ExecuteTime": {
     "end_time": "2019-06-02T02:41:44.742322Z",
     "start_time": "2019-06-02T02:41:44.740649Z"
    }
   },
   "outputs": [],
   "source": [
    "Interval arr3[] =  { {6,8}, {1,9}, {2,4}, {4,7} }; \n",
    "n = sizeof(arr3)/sizeof(arr3[0]); "
   ]
  },
  {
   "cell_type": "code",
   "execution_count": 12,
   "metadata": {
    "ExecuteTime": {
     "end_time": "2019-06-02T02:41:44.782211Z",
     "start_time": "2019-06-02T02:41:44.742545Z"
    }
   },
   "outputs": [
    {
     "name": "stdout",
     "output_type": "stream",
     "text": [
      "Intervals sorted by start time : \n",
      "[1,9] [2,4] [4,7] [6,8] "
     ]
    }
   ],
   "source": [
    "// sort the intervals in increasing order of \n",
    "// start time \n",
    "sort(arr3, arr3+n, compare_interval); \n",
    "\n",
    "cout << \"Intervals sorted by start time : \\n\"; \n",
    "for (int i=0; i<n; i++) \n",
    "   cout << \"[\" << arr3[i].start << \",\" << arr3[i].end \n",
    "        << \"] \";"
   ]
  },
  {
   "cell_type": "markdown",
   "metadata": {},
   "source": [
    "# nth_element for array"
   ]
  },
  {
   "cell_type": "code",
   "execution_count": 13,
   "metadata": {
    "ExecuteTime": {
     "end_time": "2019-06-02T02:41:45.814610Z",
     "start_time": "2019-06-02T02:41:44.782377Z"
    }
   },
   "outputs": [
    {
     "data": {
      "text/plain": [
       "{ 56, 47, 45, 33, 23, 10, 3, 2 }"
      ]
     },
     "execution_count": 13,
     "metadata": {},
     "output_type": "execute_result"
    }
   ],
   "source": [
    "arr"
   ]
  },
  {
   "cell_type": "code",
   "execution_count": 14,
   "metadata": {
    "ExecuteTime": {
     "end_time": "2019-06-02T02:41:45.112888Z",
     "start_time": "2019-06-02T02:41:45.81678Z"
    }
   },
   "outputs": [
    {
     "name": "stdout",
     "output_type": "stream",
     "text": [
      "2 3 10 23 33 45 47 56 "
     ]
    }
   ],
   "source": [
    "n = 4; // partition two parts at index 4, i.e. at 5th element.\n",
    "length = sizeof(arr3)/sizeof(arr[0]); \n",
    "\n",
    "std::nth_element(arr, arr + n, arr + length); \n",
    "for (int &x: arr) cout << x << \" \";\n",
    "\n",
    "// Here, the fifth element is 33, and all elements to its left are smaller\n",
    "// than it and all elements to its right are greater than it."
   ]
  },
  {
   "cell_type": "markdown",
   "metadata": {},
   "source": [
    "# nth_element of array using function"
   ]
  },
  {
   "cell_type": "code",
   "execution_count": 15,
   "metadata": {
    "ExecuteTime": {
     "end_time": "2019-06-02T02:41:45.113810Z",
     "start_time": "2019-06-02T02:41:45.113062Z"
    }
   },
   "outputs": [],
   "source": [
    "bool is_smaller(int a, int b) {return a<b;}"
   ]
  },
  {
   "cell_type": "code",
   "execution_count": 16,
   "metadata": {
    "ExecuteTime": {
     "end_time": "2019-06-02T02:41:45.143609Z",
     "start_time": "2019-06-02T02:41:45.114030Z"
    }
   },
   "outputs": [
    {
     "name": "stdout",
     "output_type": "stream",
     "text": [
      "2 3 10 23 33 45 47 56 "
     ]
    }
   ],
   "source": [
    "n = 4; // partition two parts at index 4, i.e. at 5th element.\n",
    "\n",
    "std::nth_element(arr, arr + n, arr + length, is_smaller); \n",
    "for (int &x: arr) cout << x << \" \";\n",
    "\n",
    "// here n = 4, so 5th element must be same as if it were sorted.\n",
    "// sorted is: 2,3,10,23,33,45,47,56\n",
    "// index is:  0 1 2  3  4  5  6  7   and lenght = 8"
   ]
  },
  {
   "cell_type": "code",
   "execution_count": 17,
   "metadata": {
    "ExecuteTime": {
     "end_time": "2019-06-02T02:41:45.165424Z",
     "start_time": "2019-06-02T02:41:45.143870Z"
    }
   },
   "outputs": [
    {
     "name": "stdout",
     "output_type": "stream",
     "text": [
      "2 3 10 23 33 "
     ]
    }
   ],
   "source": [
    "// usage: find first n smallest numbers without sorting\n",
    "for (int i=0; i<=n; i++)\n",
    "    cout << arr[i] << \" \";"
   ]
  },
  {
   "cell_type": "code",
   "execution_count": 18,
   "metadata": {
    "ExecuteTime": {
     "end_time": "2019-06-02T02:41:45.192546Z",
     "start_time": "2019-06-02T02:41:45.165793Z"
    }
   },
   "outputs": [
    {
     "name": "stdout",
     "output_type": "stream",
     "text": [
      "56 47 45 "
     ]
    }
   ],
   "source": [
    "// usage: find first n largest numbers without sorting\n",
    "n = 2;\n",
    "length = 8;\n",
    "std::nth_element(arr, arr+n, arr+length, std::greater<int>());\n",
    "\n",
    "for (int i=0; i<=n; i++)\n",
    "    cout << arr[i] << \" \";"
   ]
  },
  {
   "cell_type": "markdown",
   "metadata": {},
   "source": [
    "# Find median of vector using nth_element without full sorting"
   ]
  },
  {
   "cell_type": "code",
   "execution_count": 19,
   "metadata": {
    "ExecuteTime": {
     "end_time": "2019-06-02T02:41:45.211884Z",
     "start_time": "2019-06-02T02:41:45.192717Z"
    }
   },
   "outputs": [],
   "source": [
    "vector<int> v = { 3, 2, 10, 45, 33, 56, 23, 47, 60 };"
   ]
  },
  {
   "cell_type": "code",
   "execution_count": 20,
   "metadata": {
    "ExecuteTime": {
     "end_time": "2019-06-02T02:41:45.259356Z",
     "start_time": "2019-06-02T02:41:45.212095Z"
    }
   },
   "outputs": [
    {
     "name": "stdout",
     "output_type": "stream",
     "text": [
      "The median of the array is 33"
     ]
    }
   ],
   "source": [
    "// Using std::nth_element with n as v.size()/2 + 1 \n",
    "std::nth_element(v.begin(), v.begin() + v.size() / 2, v.end()); \n",
    "\n",
    "cout << \"The median of the array is \" << v[v.size() / 2]; "
   ]
  },
  {
   "cell_type": "code",
   "execution_count": 21,
   "metadata": {
    "ExecuteTime": {
     "end_time": "2019-06-02T02:41:45.532343Z",
     "start_time": "2019-06-02T02:41:45.259523Z"
    }
   },
   "outputs": [
    {
     "data": {
      "text/plain": [
       "{ 3, 2, 10, 23, 33, 56, 45, 47, 60 }"
      ]
     },
     "execution_count": 21,
     "metadata": {},
     "output_type": "execute_result"
    }
   ],
   "source": [
    "v"
   ]
  },
  {
   "cell_type": "markdown",
   "metadata": {},
   "source": [
    "# Find median of an array with full sorting"
   ]
  },
  {
   "cell_type": "code",
   "execution_count": 22,
   "metadata": {
    "ExecuteTime": {
     "end_time": "2019-06-02T02:41:45.534376Z",
     "start_time": "2019-06-02T02:41:45.532518Z"
    }
   },
   "outputs": [],
   "source": [
    "int a[] = {3, 2,5};\n",
    "length = sizeof(a)/sizeof(int);\n",
    "double median;"
   ]
  },
  {
   "cell_type": "code",
   "execution_count": 23,
   "metadata": {
    "ExecuteTime": {
     "end_time": "2019-06-02T02:41:45.874596Z",
     "start_time": "2019-06-02T02:41:45.534581Z"
    }
   },
   "outputs": [
    {
     "data": {
      "text/plain": [
       "3"
      ]
     },
     "execution_count": 23,
     "metadata": {},
     "output_type": "execute_result"
    }
   ],
   "source": [
    "std::sort(&a[0], &a[length]);\n",
    "median = length % 2 ? a[length / 2] : (a[length / 2 - 1] + a[length / 2]) / 2;\n",
    "median"
   ]
  },
  {
   "cell_type": "code",
   "execution_count": 24,
   "metadata": {
    "ExecuteTime": {
     "end_time": "2019-06-02T02:41:46.178802Z",
     "start_time": "2019-06-02T02:41:45.874849Z"
    }
   },
   "outputs": [
    {
     "data": {
      "text/plain": [
       "4"
      ]
     },
     "execution_count": 24,
     "metadata": {},
     "output_type": "execute_result"
    }
   ],
   "source": [
    "int a2[] = {3,2,6,5};\n",
    "length = sizeof(a2)/sizeof(int);\n",
    "\n",
    "std::sort(&a2[0], &a2[length]);\n",
    "median = length % 2 ? a2[length / 2] : (a2[length / 2 - 1] + a2[length / 2]) / 2;\n",
    "median"
   ]
  },
  {
   "cell_type": "code",
   "execution_count": 25,
   "metadata": {
    "ExecuteTime": {
     "end_time": "2019-06-02T02:41:46.485773Z",
     "start_time": "2019-06-02T02:41:46.179042Z"
    }
   },
   "outputs": [
    {
     "data": {
      "text/plain": [
       "{ 2, 3, 5 }"
      ]
     },
     "execution_count": 25,
     "metadata": {},
     "output_type": "execute_result"
    }
   ],
   "source": [
    "a"
   ]
  },
  {
   "cell_type": "code",
   "execution_count": 26,
   "metadata": {
    "ExecuteTime": {
     "end_time": "2019-06-02T02:41:46.779061Z",
     "start_time": "2019-06-02T02:41:46.485966Z"
    }
   },
   "outputs": [
    {
     "data": {
      "text/plain": [
       "{ 2, 3, 5, 6 }"
      ]
     },
     "execution_count": 26,
     "metadata": {},
     "output_type": "execute_result"
    }
   ],
   "source": [
    "a2"
   ]
  },
  {
   "cell_type": "code",
   "execution_count": 27,
   "metadata": {
    "ExecuteTime": {
     "end_time": "2019-06-02T02:41:47.834460Z",
     "start_time": "2019-06-02T02:41:46.779367Z"
    }
   },
   "outputs": [
    {
     "data": {
      "text/plain": [
       "{ 56, 47, 45, 33, 23, 10, 3, 2 }"
      ]
     },
     "execution_count": 27,
     "metadata": {},
     "output_type": "execute_result"
    }
   ],
   "source": [
    "arr"
   ]
  },
  {
   "cell_type": "code",
   "execution_count": 28,
   "metadata": {
    "ExecuteTime": {
     "end_time": "2019-06-02T02:41:47.392746Z",
     "start_time": "2019-06-02T02:41:47.83635Z"
    }
   },
   "outputs": [
    {
     "data": {
      "text/plain": [
       "{ 560, 47, 45, 33, 23, 10, 3, 2 }"
      ]
     },
     "execution_count": 28,
     "metadata": {},
     "output_type": "execute_result"
    }
   ],
   "source": [
    "arr[0] = 560;\n",
    "arr"
   ]
  },
  {
   "cell_type": "markdown",
   "metadata": {},
   "source": [
    "# algorithm stable_partition"
   ]
  },
  {
   "cell_type": "code",
   "execution_count": 29,
   "metadata": {
    "ExecuteTime": {
     "end_time": "2019-06-02T02:51:34.326693Z",
     "start_time": "2019-06-02T02:51:34.15215Z"
    }
   },
   "outputs": [
    {
     "data": {
      "text/plain": [
       "{ 3, 2, 10, 23, 33, 56, 45, 47, 60 }"
      ]
     },
     "execution_count": 29,
     "metadata": {},
     "output_type": "execute_result"
    }
   ],
   "source": [
    "v"
   ]
  },
  {
   "cell_type": "code",
   "execution_count": 30,
   "metadata": {
    "ExecuteTime": {
     "end_time": "2019-06-02T02:52:03.238447Z",
     "start_time": "2019-06-02T02:52:03.190432Z"
    }
   },
   "outputs": [],
   "source": [
    "std::stable_partition(v.begin(), v.end(), [](int n){return n>20;});"
   ]
  },
  {
   "cell_type": "code",
   "execution_count": 31,
   "metadata": {
    "ExecuteTime": {
     "end_time": "2019-06-02T02:52:07.681362Z",
     "start_time": "2019-06-02T02:52:07.396289Z"
    }
   },
   "outputs": [
    {
     "data": {
      "text/plain": [
       "{ 23, 33, 56, 45, 47, 60, 3, 2, 10 }"
      ]
     },
     "execution_count": 31,
     "metadata": {},
     "output_type": "execute_result"
    }
   ],
   "source": [
    "v"
   ]
  },
  {
   "cell_type": "code",
   "execution_count": null,
   "metadata": {},
   "outputs": [],
   "source": []
  }
 ],
 "metadata": {
  "kernelspec": {
   "display_name": "C++17",
   "language": "C++17",
   "name": "xcpp17"
  },
  "language_info": {
   "codemirror_mode": "text/x-c++src",
   "file_extension": ".cpp",
   "mimetype": "text/x-c++src",
   "name": "c++",
   "version": "-std=c++17"
  },
  "toc": {
   "base_numbering": 1,
   "nav_menu": {},
   "number_sections": true,
   "sideBar": true,
   "skip_h1_title": false,
   "title_cell": "Table of Contents",
   "title_sidebar": "Contents",
   "toc_cell": true,
   "toc_position": {},
   "toc_section_display": true,
   "toc_window_display": true
  }
 },
 "nbformat": 4,
 "nbformat_minor": 2
}
