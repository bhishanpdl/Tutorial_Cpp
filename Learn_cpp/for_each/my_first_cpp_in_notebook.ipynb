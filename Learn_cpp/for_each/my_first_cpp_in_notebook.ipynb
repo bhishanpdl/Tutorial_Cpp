{
 "cells": [
  {
   "cell_type": "markdown",
   "metadata": {
    "toc": true
   },
   "source": [
    "<h1>Table of Contents<span class=\"tocSkip\"></span></h1>\n",
    "<div class=\"toc\"><ul class=\"toc-item\"></ul></div>"
   ]
  },
  {
   "cell_type": "code",
   "execution_count": 1,
   "metadata": {
    "ExecuteTime": {
     "end_time": "2019-05-29T00:19:26.933196Z",
     "start_time": "2019-05-29T00:19:26.928437Z"
    }
   },
   "outputs": [
    {
     "name": "stdout",
     "output_type": "stream",
     "text": [
      "Untitled.ipynb\n",
      "a.out\n",
      "a00_for_loop.cpp\n",
      "a01_for_each.cpp\n",
      "a02_for_each_auto.cpp\n",
      "a03_for_each_reference.cpp\n",
      "a04_for_each_good.cpp\n"
     ]
    }
   ],
   "source": [
    "!ls"
   ]
  },
  {
   "cell_type": "code",
   "execution_count": 3,
   "metadata": {
    "ExecuteTime": {
     "end_time": "2019-05-29T00:19:53.710004Z",
     "start_time": "2019-05-29T00:19:53.681824Z"
    }
   },
   "outputs": [],
   "source": [
    "!pbcopy < a00_for_loop.cpp"
   ]
  },
  {
   "cell_type": "code",
   "execution_count": 5,
   "metadata": {
    "ExecuteTime": {
     "end_time": "2019-05-29T00:20:18.613083Z",
     "start_time": "2019-05-29T00:20:18.586633Z"
    }
   },
   "outputs": [
    {
     "name": "stdout",
     "output_type": "stream",
     "text": [
      "The best score was 92\n"
     ]
    }
   ],
   "source": [
    "#include<iostream>\n",
    "#include<string>\n",
    "using namespace std;\n",
    "\n",
    "\n",
    "const int numStudents = 5;\n",
    "int scores[numStudents] = { 84, 92, 76, 81, 56 };\n",
    "int maxScore = 0; // keep track of our largest score\n",
    "for (int student = 0; student < numStudents; ++student)\n",
    "    if (scores[student] > maxScore)\n",
    "        maxScore = scores[student];\n",
    "\n",
    "std::cout << \"The best score was \" << maxScore << '\\n';\n"
   ]
  },
  {
   "cell_type": "code",
   "execution_count": null,
   "metadata": {},
   "outputs": [],
   "source": []
  }
 ],
 "metadata": {
  "kernelspec": {
   "display_name": "C++17",
   "language": "C++17",
   "name": "xcpp17"
  },
  "language_info": {
   "codemirror_mode": "text/x-c++src",
   "file_extension": ".cpp",
   "mimetype": "text/x-c++src",
   "name": "c++",
   "version": "-std=c++17"
  },
  "toc": {
   "base_numbering": 1,
   "nav_menu": {},
   "number_sections": true,
   "sideBar": true,
   "skip_h1_title": false,
   "title_cell": "Table of Contents",
   "title_sidebar": "Contents",
   "toc_cell": true,
   "toc_position": {},
   "toc_section_display": true,
   "toc_window_display": true
  }
 },
 "nbformat": 4,
 "nbformat_minor": 2
}
