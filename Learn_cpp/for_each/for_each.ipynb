{
 "cells": [
  {
   "cell_type": "markdown",
   "metadata": {
    "toc": true
   },
   "source": [
    "<h1>Table of Contents<span class=\"tocSkip\"></span></h1>\n",
    "<div class=\"toc\"><ul class=\"toc-item\"></ul></div>"
   ]
  },
  {
   "cell_type": "code",
   "execution_count": 3,
   "metadata": {
    "ExecuteTime": {
     "end_time": "2019-06-01T18:02:47.171763Z",
     "start_time": "2019-06-01T18:02:47.170139Z"
    }
   },
   "outputs": [],
   "source": [
    "#include <iostream>\n",
    "#include <vector>\n",
    "\n",
    "using namespace std;"
   ]
  },
  {
   "cell_type": "code",
   "execution_count": 4,
   "metadata": {
    "ExecuteTime": {
     "end_time": "2019-06-01T18:02:47.213273Z",
     "start_time": "2019-06-01T18:02:47.176258Z"
    }
   },
   "outputs": [],
   "source": [
    "int arr[4] = {10,20,30,40};\n",
    "vector<int> v = {10,20,30,40};"
   ]
  },
  {
   "cell_type": "code",
   "execution_count": 11,
   "metadata": {},
   "outputs": [
    {
     "data": {
      "text/plain": [
       "{ 20, 40, 60, 80 }"
      ]
     },
     "execution_count": 11,
     "metadata": {},
     "output_type": "execute_result"
    }
   ],
   "source": [
    "v"
   ]
  },
  {
   "cell_type": "code",
   "execution_count": 5,
   "metadata": {
    "ExecuteTime": {
     "end_time": "2019-06-01T18:02:47.250208Z",
     "start_time": "2019-06-01T18:02:47.213560Z"
    }
   },
   "outputs": [
    {
     "name": "stdout",
     "output_type": "stream",
     "text": [
      "11 21 31 41 "
     ]
    }
   ],
   "source": [
    "//increase by 1\n",
    "std::for_each(v.begin(), v.end(), [](int &n){ n++; });\n",
    "for (auto &x: v) cout << x << \" \";"
   ]
  },
  {
   "cell_type": "code",
   "execution_count": 6,
   "metadata": {
    "ExecuteTime": {
     "end_time": "2019-06-01T18:02:47.290758Z",
     "start_time": "2019-06-01T18:02:47.250453Z"
    }
   },
   "outputs": [
    {
     "name": "stdout",
     "output_type": "stream",
     "text": [
      "10 20 30 40 "
     ]
    }
   ],
   "source": [
    "//decrease by 1\n",
    "std::for_each(begin(v), end(v), [](int &n){ n--; });\n",
    "for (auto &x: v) cout << x << \" \";"
   ]
  },
  {
   "cell_type": "code",
   "execution_count": 7,
   "metadata": {
    "ExecuteTime": {
     "end_time": "2019-06-01T18:02:47.323356Z",
     "start_time": "2019-06-01T18:02:47.291093Z"
    }
   },
   "outputs": [
    {
     "name": "stdout",
     "output_type": "stream",
     "text": [
      "20 40 60 80 "
     ]
    }
   ],
   "source": [
    "//multiply by 2\n",
    "std::for_each(v.begin(), v.end(), [](int &n){ n=n*2; });\n",
    "for (auto &x: v) cout << x << \" \";"
   ]
  },
  {
   "cell_type": "code",
   "execution_count": 8,
   "metadata": {},
   "outputs": [
    {
     "name": "stdout",
     "output_type": "stream",
     "text": [
      "40 80 120 160 "
     ]
    }
   ],
   "source": [
    "//multiply by 2 using cout\n",
    "std::for_each(v.begin(), v.end(), [](int &n){ cout << n*2 << \" \"; });"
   ]
  },
  {
   "cell_type": "code",
   "execution_count": 9,
   "metadata": {
    "ExecuteTime": {
     "end_time": "2019-06-01T18:02:47.374749Z",
     "start_time": "2019-06-01T18:02:47.323609Z"
    }
   },
   "outputs": [
    {
     "name": "stdout",
     "output_type": "stream",
     "text": [
      "20 40 60 80 "
     ]
    }
   ],
   "source": [
    "//for_each with user function\n",
    "void printx2(int x) { cout << x * 2 << \" \"; }\n",
    "\n",
    "vector<int> vec = {10,20,30,40};\n",
    "for_each(vec.begin(), vec.end(), printx2); "
   ]
  },
  {
   "cell_type": "code",
   "execution_count": 10,
   "metadata": {
    "ExecuteTime": {
     "end_time": "2019-06-01T18:02:47.377375Z",
     "start_time": "2019-06-01T18:02:47.375026Z"
    }
   },
   "outputs": [
    {
     "name": "stdout",
     "output_type": "stream",
     "text": [
      "20 40 60 80 "
     ]
    }
   ],
   "source": [
    "//for_each with array\n",
    "for_each(arr, arr+4, printx2); "
   ]
  },
  {
   "cell_type": "code",
   "execution_count": 8,
   "metadata": {
    "ExecuteTime": {
     "end_time": "2019-06-01T18:02:47.418668Z",
     "start_time": "2019-06-01T18:02:47.377599Z"
    }
   },
   "outputs": [
    {
     "name": "stdout",
     "output_type": "stream",
     "text": [
      "30 60 90 120 "
     ]
    }
   ],
   "source": [
    "//for_each with struct object\n",
    "struct MultiplyBy3 { \n",
    "    void operator() (int a){ \n",
    "        cout << a * 3 << \" \"; \n",
    "    } \n",
    "};\n",
    "\n",
    "vector<int> myvec = {10,20,30,40};\n",
    "MultiplyBy3 m3;\n",
    "\n",
    "for_each(myvec.begin(), myvec.end(), m3);"
   ]
  },
  {
   "cell_type": "code",
   "execution_count": 9,
   "metadata": {
    "ExecuteTime": {
     "end_time": "2019-06-01T18:02:47.471581Z",
     "start_time": "2019-06-01T18:02:47.419090Z"
    }
   },
   "outputs": [
    {
     "name": "stdout",
     "output_type": "stream",
     "text": [
      "3 6 9 12 "
     ]
    }
   ],
   "source": [
    "// new vector\n",
    "vector<int> myvec2;\n",
    "for (int i=1; i<=4; i++)\n",
    "    myvec2.push_back(i*3);\n",
    "\n",
    "for (auto &x: myvec2) cout << x << \" \";"
   ]
  },
  {
   "cell_type": "code",
   "execution_count": 10,
   "metadata": {
    "ExecuteTime": {
     "end_time": "2019-06-01T18:02:47.481377Z",
     "start_time": "2019-06-01T18:02:47.471795Z"
    }
   },
   "outputs": [],
   "source": [
    "void print_even(int a) {  \n",
    "    if ( a % 2 == 0){ \n",
    "        cout << a << \" \"; \n",
    "    } \n",
    "}"
   ]
  },
  {
   "cell_type": "code",
   "execution_count": 11,
   "metadata": {
    "ExecuteTime": {
     "end_time": "2019-06-01T18:02:47.495388Z",
     "start_time": "2019-06-01T18:02:47.481800Z"
    }
   },
   "outputs": [
    {
     "name": "stdout",
     "output_type": "stream",
     "text": [
      "6 12 "
     ]
    }
   ],
   "source": [
    "for_each(myvec2.begin(), myvec2.end(), print_even);"
   ]
  },
  {
   "cell_type": "code",
   "execution_count": null,
   "metadata": {},
   "outputs": [],
   "source": []
  }
 ],
 "metadata": {
  "kernelspec": {
   "display_name": "C++11",
   "language": "C++11",
   "name": "xcpp11"
  },
  "language_info": {
   "codemirror_mode": "text/x-c++src",
   "file_extension": ".cpp",
   "mimetype": "text/x-c++src",
   "name": "c++",
   "version": "-std=c++11"
  },
  "toc": {
   "base_numbering": 1,
   "nav_menu": {},
   "number_sections": true,
   "sideBar": true,
   "skip_h1_title": false,
   "title_cell": "Table of Contents",
   "title_sidebar": "Contents",
   "toc_cell": true,
   "toc_position": {},
   "toc_section_display": true,
   "toc_window_display": true
  }
 },
 "nbformat": 4,
 "nbformat_minor": 2
}
