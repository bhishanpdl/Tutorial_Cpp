{
 "cells": [
  {
   "cell_type": "markdown",
   "metadata": {
    "toc": true
   },
   "source": [
    "<h1>Table of Contents<span class=\"tocSkip\"></span></h1>\n",
    "<div class=\"toc\"><ul class=\"toc-item\"></ul></div>"
   ]
  },
  {
   "cell_type": "code",
   "execution_count": 1,
   "metadata": {
    "ExecuteTime": {
     "end_time": "2019-06-02T14:27:02.814098Z",
     "start_time": "2019-06-02T14:27:02.620251Z"
    }
   },
   "outputs": [
    {
     "name": "stderr",
     "output_type": "stream",
     "text": [
      "\u001b[1minput_line_9:3:1: \u001b[0m\u001b[0;1;31merror: \u001b[0m\u001b[1mexpected expression\u001b[0m\n",
      "template <class ForwardIt>\n",
      "\u001b[0;1;32m^\n",
      "\u001b[0m\u001b[1minput_line_9:18:16: \u001b[0m\u001b[0;1;31merror: \u001b[0m\u001b[1muse of undeclared identifier 'v'\u001b[0m\n",
      "for(int elem : v) std::cout << elem << ' ';\n",
      "\u001b[0;1;32m               ^\n",
      "\u001b[0m\u001b[1minput_line_9:19:26: \u001b[0m\u001b[0;1;31merror: \u001b[0m\u001b[1muse of undeclared identifier 'v'\u001b[0m\n",
      "auto it = std::partition(v.begin(), v.end(), [](int i){return i % 2 == 0;});\n",
      "\u001b[0;1;32m                         ^\n",
      "\u001b[0m\u001b[1minput_line_9:19:37: \u001b[0m\u001b[0;1;31merror: \u001b[0m\u001b[1muse of undeclared identifier 'v'\u001b[0m\n",
      "auto it = std::partition(v.begin(), v.end(), [](int i){return i % 2 == 0;});\n",
      "\u001b[0;1;32m                                    ^\n",
      "\u001b[0m\u001b[1minput_line_9:21:22: \u001b[0m\u001b[0;1;31merror: \u001b[0m\u001b[1muse of undeclared identifier 'v'\u001b[0m\n",
      "std::copy(std::begin(v), it, std::ostream_iterator<int>(std::cout, \" \"));\n",
      "\u001b[0;1;32m                     ^\n",
      "\u001b[0m\u001b[1minput_line_9:23:24: \u001b[0m\u001b[0;1;31merror: \u001b[0m\u001b[1muse of undeclared identifier 'v'\u001b[0m\n",
      "std::copy(it, std::end(v), std::ostream_iterator<int>(std::cout, \" \"));\n",
      "\u001b[0;1;32m                       ^\n",
      "\u001b[0m\u001b[1minput_line_9:28:1: \u001b[0m\u001b[0;1;31merror: \u001b[0m\u001b[1muse of undeclared identifier 'quicksort'\u001b[0m\n",
      "quicksort(std::begin(fl), std::end(fl));\n",
      "\u001b[0;1;32m^\n",
      "\u001b[0m"
     ]
    },
    {
     "ename": "Interpreter Error",
     "evalue": "",
     "output_type": "error",
     "traceback": [
      "Interpreter Error: "
     ]
    }
   ],
   "source": [
    "/*\n",
    "Author: Bhishan Poudel\n",
    "Date: Jun 2, 2019\n",
    "Ref: \n",
    "*/\n",
    "#include <iostream>\n",
    "#include <algorithm>\n",
    "#include <iterator>\n",
    "#include <vector>\n",
    "#include <forward_list>\n",
    "\n",
    "using namespace std;\n",
    "\n",
    "template <class ForwardIt>\n",
    " void quicksort(ForwardIt first, ForwardIt last)\n",
    " {\n",
    "    if(first == last) return;\n",
    "    auto pivot = *std::next(first, std::distance(first,last)/2);\n",
    "    ForwardIt middle1 = std::partition(first, last, \n",
    "                         [pivot](const auto& em){ return em < pivot; });\n",
    "    ForwardIt middle2 = std::partition(middle1, last, \n",
    "                         [pivot](const auto& em){ return !(pivot < em); });\n",
    "    quicksort(first, middle1);\n",
    "    quicksort(middle2, last);\n",
    " }\n",
    " \n",
    "\n",
    "std::vector<int> v = {0,1,2,3,4,5,6,7,8,9};\n",
    "std::cout << \"Original vector:\\n    \";\n",
    "for(int elem : v) std::cout << elem << ' ';\n",
    "\n",
    "auto it = std::partition(v.begin(), v.end(), [](int i){return i % 2 == 0;});\n",
    "\n",
    "std::cout << \"\\nPartitioned vector:\\n    \";\n",
    "std::copy(std::begin(v), it, std::ostream_iterator<int>(std::cout, \" \"));\n",
    "std::cout << \" * \";\n",
    "std::copy(it, std::end(v), std::ostream_iterator<int>(std::cout, \" \"));\n",
    "\n",
    "std::forward_list<int> fl = {1, 30, -4, 3, 5, -4, 1, 6, -8, 2, -5, 64, 1, 92};\n",
    "std::cout << \"\\nUnsorted list:\\n    \";\n",
    "for(int n : fl) std::cout << n << ' ';\n",
    "std::cout << '\\n';  \n",
    "\n",
    "quicksort(std::begin(fl), std::end(fl));\n",
    "std::cout << \"Sorted using quicksort:\\n    \";\n",
    "for(int fi : fl) std::cout << fi << ' ';\n",
    "std::cout << '\\n';\n"
   ]
  },
  {
   "cell_type": "code",
   "execution_count": null,
   "metadata": {},
   "outputs": [],
   "source": []
  },
  {
   "cell_type": "code",
   "execution_count": null,
   "metadata": {},
   "outputs": [],
   "source": []
  }
 ],
 "metadata": {
  "kernelspec": {
   "display_name": "C++17",
   "language": "C++17",
   "name": "xcpp17"
  },
  "language_info": {
   "codemirror_mode": "text/x-c++src",
   "file_extension": ".cpp",
   "mimetype": "text/x-c++src",
   "name": "c++",
   "version": "-std=c++17"
  },
  "toc": {
   "base_numbering": 1,
   "nav_menu": {},
   "number_sections": true,
   "sideBar": true,
   "skip_h1_title": false,
   "title_cell": "Table of Contents",
   "title_sidebar": "Contents",
   "toc_cell": true,
   "toc_position": {},
   "toc_section_display": true,
   "toc_window_display": true
  }
 },
 "nbformat": 4,
 "nbformat_minor": 2
}
