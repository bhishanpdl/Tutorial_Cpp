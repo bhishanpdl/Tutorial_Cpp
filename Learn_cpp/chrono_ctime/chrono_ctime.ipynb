{
 "cells": [
  {
   "cell_type": "markdown",
   "metadata": {
    "toc": true
   },
   "source": [
    "<h1>Table of Contents<span class=\"tocSkip\"></span></h1>\n",
    "<div class=\"toc\"><ul class=\"toc-item\"><li><span><a href=\"#Duration\" data-toc-modified-id=\"Duration-1\"><span class=\"toc-item-num\">1&nbsp;&nbsp;</span>Duration</a></span></li><li><span><a href=\"#Clock\" data-toc-modified-id=\"Clock-2\"><span class=\"toc-item-num\">2&nbsp;&nbsp;</span>Clock</a></span></li><li><span><a href=\"#Time-point\" data-toc-modified-id=\"Time-point-3\"><span class=\"toc-item-num\">3&nbsp;&nbsp;</span>Time point</a></span></li></ul></div>"
   ]
  },
  {
   "cell_type": "code",
   "execution_count": 1,
   "metadata": {
    "ExecuteTime": {
     "end_time": "2019-05-31T22:36:30.719790Z",
     "start_time": "2019-05-31T22:36:30.717622Z"
    }
   },
   "outputs": [],
   "source": [
    "/*\n",
    "Author: Bhishan Poudel\n",
    "Date: May 31, 2019\n",
    "Ref: \n",
    "*/\n",
    "#include <iostream>\n",
    "#include <chrono>\n",
    "#include <ctime>\n",
    "\n",
    "using namespace std::chrono; // to use milliseconds"
   ]
  },
  {
   "cell_type": "markdown",
   "metadata": {},
   "source": [
    "# Duration\n",
    "\n",
    "A duration object expresses a time span by means of a count like a minute, two hours, or ten milliseconds. For example, “42 seconds” could be represented by a duration consisting of 42 ticks of a 1-second time unit."
   ]
  },
  {
   "cell_type": "code",
   "execution_count": 2,
   "metadata": {
    "ExecuteTime": {
     "end_time": "2019-05-31T22:36:30.724834Z",
     "start_time": "2019-05-31T22:36:30.723665Z"
    }
   },
   "outputs": [],
   "source": [
    "milliseconds mil(1000);"
   ]
  },
  {
   "cell_type": "code",
   "execution_count": 3,
   "metadata": {
    "ExecuteTime": {
     "end_time": "2019-05-31T22:36:30.739123Z",
     "start_time": "2019-05-31T22:36:30.731806Z"
    }
   },
   "outputs": [],
   "source": [
    "mil = mil*60;"
   ]
  },
  {
   "cell_type": "code",
   "execution_count": 4,
   "metadata": {
    "ExecuteTime": {
     "end_time": "2019-05-31T22:36:30.768981Z",
     "start_time": "2019-05-31T22:36:30.739432Z"
    }
   },
   "outputs": [
    {
     "name": "stdout",
     "output_type": "stream",
     "text": [
      "duration in periods"
     ]
    }
   ],
   "source": [
    "std::cout << \"duration in periods\";"
   ]
  },
  {
   "cell_type": "code",
   "execution_count": 5,
   "metadata": {
    "ExecuteTime": {
     "end_time": "2019-05-31T22:36:30.791960Z",
     "start_time": "2019-05-31T22:36:30.769180Z"
    }
   },
   "outputs": [
    {
     "name": "stdout",
     "output_type": "stream",
     "text": [
      "60000 milliseonds \n"
     ]
    }
   ],
   "source": [
    "std::cout << mil.count() << \" milliseonds \\n\";"
   ]
  },
  {
   "cell_type": "code",
   "execution_count": 6,
   "metadata": {
    "ExecuteTime": {
     "end_time": "2019-05-31T22:36:30.820222Z",
     "start_time": "2019-05-31T22:36:30.792180Z"
    }
   },
   "outputs": [
    {
     "name": "stdout",
     "output_type": "stream",
     "text": [
      " duration in seconds\n"
     ]
    }
   ],
   "source": [
    "std::cout << \" duration in seconds\" << std::endl;"
   ]
  },
  {
   "cell_type": "code",
   "execution_count": 7,
   "metadata": {
    "ExecuteTime": {
     "end_time": "2019-05-31T22:36:30.825932Z",
     "start_time": "2019-05-31T22:36:30.820451Z"
    }
   },
   "outputs": [
    {
     "name": "stdout",
     "output_type": "stream",
     "text": [
      "60\n"
     ]
    }
   ],
   "source": [
    "std::cout << (mil.count()) * milliseconds::period::num /\n",
    "    milliseconds::period::den << std::endl;"
   ]
  },
  {
   "cell_type": "markdown",
   "metadata": {},
   "source": [
    "# Clock\n",
    "\n",
    "A clock consists of a starting point (or epoch) and a tick rate. For example, a clock may have an epoch of February 22, 1996 and tick every second. C++ defines three clock types:\n",
    "\n",
    "- system_clock-It is the current time according to the system (regular clock which we see on the toolbar of the computer). It is written as- `std::chrono::system_clock`\n",
    "- steady_clock-It is a monotonic clock that will never be adjusted.It goes at a uniform rate. It is written as- `std::chrono::steady_clock`\n",
    "- high_resolution_clock– It provides the smallest possible tick period. It is written as-`std::chrono::high_resolution_clock`\n",
    "\n",
    "# Time point\n",
    "\n",
    "A time_point object expresses a point in time relative to a clock’s epoch. Internally, the object stores an object of a duration type, and uses the Clock type as a reference for its epoch."
   ]
  },
  {
   "cell_type": "code",
   "execution_count": 8,
   "metadata": {
    "ExecuteTime": {
     "end_time": "2019-05-31T22:36:30.826683Z",
     "start_time": "2019-05-31T22:36:30.826118Z"
    }
   },
   "outputs": [],
   "source": [
    "// C++ program to illustrate time point \n",
    "// and system clock functions "
   ]
  },
  {
   "cell_type": "code",
   "execution_count": 9,
   "metadata": {
    "ExecuteTime": {
     "end_time": "2019-05-31T22:36:30.827471Z",
     "start_time": "2019-05-31T22:36:30.826924Z"
    }
   },
   "outputs": [],
   "source": [
    "// Function to calculate \n",
    "// Fibonacci series "
   ]
  },
  {
   "cell_type": "code",
   "execution_count": 10,
   "metadata": {
    "ExecuteTime": {
     "end_time": "2019-05-31T22:36:30.829211Z",
     "start_time": "2019-05-31T22:36:30.827670Z"
    }
   },
   "outputs": [],
   "source": [
    "long fibonacci(unsigned n){\n",
    "    if (n<2) return n;\n",
    "    return fibonacci(n-1) + fibonacci(n-2);\n",
    "}"
   ]
  },
  {
   "cell_type": "code",
   "execution_count": 11,
   "metadata": {
    "ExecuteTime": {
     "end_time": "2019-05-31T22:36:30.831938Z",
     "start_time": "2019-05-31T22:36:30.829468Z"
    }
   },
   "outputs": [],
   "source": [
    "std::chrono::time_point<std::chrono::system_clock> start,end;"
   ]
  },
  {
   "cell_type": "code",
   "execution_count": 12,
   "metadata": {
    "ExecuteTime": {
     "end_time": "2019-05-31T22:36:30.834630Z",
     "start_time": "2019-05-31T22:36:30.832215Z"
    }
   },
   "outputs": [],
   "source": [
    "start = std::chrono::system_clock::now();\n",
    "\n",
    "std::cout << \" f(42) = \" << fibonacci(42) <<  std::endl;\n",
    "\n",
    "end = std::chrono::system_clock::now();"
   ]
  },
  {
   "cell_type": "code",
   "execution_count": 15,
   "metadata": {
    "ExecuteTime": {
     "end_time": "2019-05-31T22:36:32.742960Z",
     "start_time": "2019-05-31T22:36:32.728863Z"
    }
   },
   "outputs": [],
   "source": [
    "std::chrono::duration<double> elapsed_seconds = end - start;"
   ]
  },
  {
   "cell_type": "code",
   "execution_count": 16,
   "metadata": {
    "ExecuteTime": {
     "end_time": "2019-05-31T22:36:32.748356Z",
     "start_time": "2019-05-31T22:36:32.743458Z"
    }
   },
   "outputs": [],
   "source": [
    "std::time_t end_time = std::chrono::system_clock::to_time_t(end);"
   ]
  },
  {
   "cell_type": "code",
   "execution_count": 17,
   "metadata": {
    "ExecuteTime": {
     "end_time": "2019-05-31T22:36:33.175963Z",
     "start_time": "2019-05-31T22:36:32.748585Z"
    }
   },
   "outputs": [
    {
     "name": "stdout",
     "output_type": "stream",
     "text": [
      "finished computation at Fri May 31 18:36:32 2019\n",
      "elapsed time: 1.89387s\n"
     ]
    },
    {
     "data": {
      "text/plain": [
       "@0x10a94a010"
      ]
     },
     "execution_count": 17,
     "metadata": {},
     "output_type": "execute_result"
    }
   ],
   "source": [
    "std::cout << \"finished computation at \" << std::ctime(&end_time) \n",
    "          << \"elapsed time: \" << elapsed_seconds.count() << \"s\\n\"; \n",
    "\n"
   ]
  },
  {
   "cell_type": "code",
   "execution_count": null,
   "metadata": {},
   "outputs": [],
   "source": []
  }
 ],
 "metadata": {
  "kernelspec": {
   "display_name": "C++17",
   "language": "C++17",
   "name": "xcpp17"
  },
  "language_info": {
   "codemirror_mode": "text/x-c++src",
   "file_extension": ".cpp",
   "mimetype": "text/x-c++src",
   "name": "c++",
   "version": "-std=c++17"
  },
  "toc": {
   "base_numbering": 1,
   "nav_menu": {},
   "number_sections": true,
   "sideBar": true,
   "skip_h1_title": false,
   "title_cell": "Table of Contents",
   "title_sidebar": "Contents",
   "toc_cell": true,
   "toc_position": {},
   "toc_section_display": true,
   "toc_window_display": true
  }
 },
 "nbformat": 4,
 "nbformat_minor": 2
}
