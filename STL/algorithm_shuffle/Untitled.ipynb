{
 "cells": [
  {
   "cell_type": "markdown",
   "metadata": {
    "toc": true
   },
   "source": [
    "<h1>Table of Contents<span class=\"tocSkip\"></span></h1>\n",
    "<div class=\"toc\"><ul class=\"toc-item\"></ul></div>"
   ]
  },
  {
   "cell_type": "code",
   "execution_count": 1,
   "metadata": {
    "ExecuteTime": {
     "end_time": "2019-06-02T02:34:24.506237Z",
     "start_time": "2019-06-02T02:34:24.400231Z"
    }
   },
   "outputs": [
    {
     "name": "stdout",
     "output_type": "stream",
     "text": [
      "shuffled elements: 2 3 5 4 1\n"
     ]
    }
   ],
   "source": [
    "#include <iostream>     // std::cout\n",
    "#include <algorithm>    // std::shuffle\n",
    "#include <array>        // std::array\n",
    "#include <random>       // std::default_random_engine\n",
    "#include <chrono>       // std::chrono::system_clock\n",
    "\n",
    "\n",
    "std::array<int,5> foo {1,2,3,4,5};\n",
    "\n",
    "// obtain a time-based seed:\n",
    "unsigned seed = std::chrono::system_clock::now().time_since_epoch().count();\n",
    "\n",
    "shuffle (foo.begin(), foo.end(), std::default_random_engine(seed));\n",
    "\n",
    "std::cout << \"shuffled elements:\";\n",
    "for (int& x: foo) std::cout << ' ' << x;\n",
    "std::cout << '\\n';"
   ]
  },
  {
   "cell_type": "code",
   "execution_count": 2,
   "metadata": {
    "ExecuteTime": {
     "end_time": "2019-06-02T02:35:01.966000Z",
     "start_time": "2019-06-02T02:35:01.95606Z"
    }
   },
   "outputs": [],
   "source": [
    "int arr[] = {1,2,3,4,5};"
   ]
  },
  {
   "cell_type": "code",
   "execution_count": 3,
   "metadata": {
    "ExecuteTime": {
     "end_time": "2019-06-02T02:35:21.195072Z",
     "start_time": "2019-06-02T02:35:21.187315Z"
    }
   },
   "outputs": [],
   "source": [
    "shuffle (arr, arr+5, std::default_random_engine(seed));"
   ]
  },
  {
   "cell_type": "code",
   "execution_count": 4,
   "metadata": {
    "ExecuteTime": {
     "end_time": "2019-06-02T02:35:24.839541Z",
     "start_time": "2019-06-02T02:35:24.523087Z"
    }
   },
   "outputs": [
    {
     "data": {
      "text/plain": [
       "{ 2, 3, 5, 4, 1 }"
      ]
     },
     "execution_count": 4,
     "metadata": {},
     "output_type": "execute_result"
    }
   ],
   "source": [
    "arr"
   ]
  },
  {
   "cell_type": "code",
   "execution_count": null,
   "metadata": {},
   "outputs": [],
   "source": []
  }
 ],
 "metadata": {
  "kernelspec": {
   "display_name": "C++17",
   "language": "C++17",
   "name": "xcpp17"
  },
  "language_info": {
   "codemirror_mode": "text/x-c++src",
   "file_extension": ".cpp",
   "mimetype": "text/x-c++src",
   "name": "c++",
   "version": "-std=c++17"
  },
  "toc": {
   "base_numbering": 1,
   "nav_menu": {},
   "number_sections": true,
   "sideBar": true,
   "skip_h1_title": false,
   "title_cell": "Table of Contents",
   "title_sidebar": "Contents",
   "toc_cell": true,
   "toc_position": {},
   "toc_section_display": true,
   "toc_window_display": true
  }
 },
 "nbformat": 4,
 "nbformat_minor": 2
}
