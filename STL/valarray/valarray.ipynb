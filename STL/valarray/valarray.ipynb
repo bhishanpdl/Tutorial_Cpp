{
 "cells": [
  {
   "cell_type": "markdown",
   "metadata": {
    "toc": true
   },
   "source": [
    "<h1>Table of Contents<span class=\"tocSkip\"></span></h1>\n",
    "<div class=\"toc\"><ul class=\"toc-item\"></ul></div>"
   ]
  },
  {
   "cell_type": "code",
   "execution_count": 1,
   "metadata": {
    "ExecuteTime": {
     "end_time": "2019-05-31T22:01:59.438235Z",
     "start_time": "2019-05-31T22:01:59.436222Z"
    }
   },
   "outputs": [],
   "source": [
    "/*\n",
    "Author: Bhishan Poudel\n",
    "Date: May 31, 2019\n",
    "Ref: https://www.geeksforgeeks.org/std-valarray-class-c/\n",
    "*/\n",
    "#include <iostream>\n",
    "#include <vector>\n",
    "#include <valarray>\n",
    "#include <string>\n",
    "#include <sstream>\n",
    "\n",
    "using namespace std;"
   ]
  },
  {
   "cell_type": "code",
   "execution_count": 2,
   "metadata": {
    "ExecuteTime": {
     "end_time": "2019-05-31T22:02:00.802495Z",
     "start_time": "2019-05-31T22:02:00.794663Z"
    }
   },
   "outputs": [],
   "source": [
    "valarray<int> varr = {1,2,3,4,5};"
   ]
  },
  {
   "cell_type": "code",
   "execution_count": 3,
   "metadata": {
    "ExecuteTime": {
     "end_time": "2019-05-31T22:02:02.351671Z",
     "start_time": "2019-05-31T22:02:02.347427Z"
    }
   },
   "outputs": [],
   "source": [
    "valarray<int> varr1;"
   ]
  },
  {
   "cell_type": "code",
   "execution_count": 4,
   "metadata": {
    "ExecuteTime": {
     "end_time": "2019-05-31T22:02:03.370228Z",
     "start_time": "2019-05-31T22:02:03.361902Z"
    }
   },
   "outputs": [],
   "source": [
    "varr1 = varr.apply([] (int x) {return x=x*10;});"
   ]
  },
  {
   "cell_type": "code",
   "execution_count": 5,
   "metadata": {
    "ExecuteTime": {
     "end_time": "2019-05-31T22:02:04.531819Z",
     "start_time": "2019-05-31T22:02:04.508467Z"
    }
   },
   "outputs": [
    {
     "name": "stdout",
     "output_type": "stream",
     "text": [
      "10 20 30 40 50 "
     ]
    }
   ],
   "source": [
    "for (int i=0; i<varr1.size(); i++)\n",
    "    cout << varr1[i] << \" \";"
   ]
  },
  {
   "cell_type": "code",
   "execution_count": 6,
   "metadata": {
    "ExecuteTime": {
     "end_time": "2019-05-31T22:02:06.446030Z",
     "start_time": "2019-05-31T22:02:06.19662Z"
    }
   },
   "outputs": [
    {
     "name": "stdout",
     "output_type": "stream",
     "text": [
      "10 20 30 40 50 \n"
     ]
    }
   ],
   "source": [
    "for (int &x: varr1)\n",
    "    cout << x << \" \";\n",
    "cout << endl;"
   ]
  },
  {
   "cell_type": "code",
   "execution_count": 7,
   "metadata": {
    "ExecuteTime": {
     "end_time": "2019-05-31T22:02:09.844436Z",
     "start_time": "2019-05-31T22:02:09.500522Z"
    }
   },
   "outputs": [
    {
     "data": {
      "text/plain": [
       "150"
      ]
     },
     "execution_count": 7,
     "metadata": {},
     "output_type": "execute_result"
    }
   ],
   "source": [
    "varr1.sum()"
   ]
  },
  {
   "cell_type": "code",
   "execution_count": 8,
   "metadata": {
    "ExecuteTime": {
     "end_time": "2019-05-31T22:02:10.992625Z",
     "start_time": "2019-05-31T22:02:10.706640Z"
    }
   },
   "outputs": [
    {
     "data": {
      "text/plain": [
       "10"
      ]
     },
     "execution_count": 8,
     "metadata": {},
     "output_type": "execute_result"
    }
   ],
   "source": [
    "varr1.min()"
   ]
  },
  {
   "cell_type": "code",
   "execution_count": 9,
   "metadata": {
    "ExecuteTime": {
     "end_time": "2019-05-31T22:02:11.818484Z",
     "start_time": "2019-05-31T22:02:11.793948Z"
    }
   },
   "outputs": [
    {
     "name": "stdout",
     "output_type": "stream",
     "text": [
      "1 2 3 4 5 \n"
     ]
    }
   ],
   "source": [
    "for (int &x: varr)\n",
    "    cout << x << \" \";\n",
    "cout << endl;"
   ]
  },
  {
   "cell_type": "code",
   "execution_count": 10,
   "metadata": {
    "ExecuteTime": {
     "end_time": "2019-05-31T22:02:12.523721Z",
     "start_time": "2019-05-31T22:02:12.516168Z"
    }
   },
   "outputs": [],
   "source": [
    "varr1 = varr.shift(2);"
   ]
  },
  {
   "cell_type": "code",
   "execution_count": 11,
   "metadata": {
    "ExecuteTime": {
     "end_time": "2019-05-31T22:02:13.188358Z",
     "start_time": "2019-05-31T22:02:13.165068Z"
    }
   },
   "outputs": [
    {
     "name": "stdout",
     "output_type": "stream",
     "text": [
      "3 4 5 0 0 \n"
     ]
    }
   ],
   "source": [
    "for (int &x: varr1)\n",
    "    cout << x << \" \";\n",
    "cout << endl;"
   ]
  },
  {
   "cell_type": "code",
   "execution_count": 12,
   "metadata": {
    "ExecuteTime": {
     "end_time": "2019-05-31T22:02:15.833997Z",
     "start_time": "2019-05-31T22:02:15.827483Z"
    }
   },
   "outputs": [],
   "source": [
    "varr1 = varr.cshift(-3);"
   ]
  },
  {
   "cell_type": "code",
   "execution_count": 13,
   "metadata": {
    "ExecuteTime": {
     "end_time": "2019-05-31T22:02:17.124361Z",
     "start_time": "2019-05-31T22:02:17.99828Z"
    }
   },
   "outputs": [
    {
     "name": "stdout",
     "output_type": "stream",
     "text": [
      "3 4 5 1 2 \n"
     ]
    }
   ],
   "source": [
    "for (int &x: varr1)\n",
    "    cout << x << \" \";\n",
    "cout << endl;"
   ]
  },
  {
   "cell_type": "code",
   "execution_count": 14,
   "metadata": {
    "ExecuteTime": {
     "end_time": "2019-05-31T22:02:43.690472Z",
     "start_time": "2019-05-31T22:02:43.685387Z"
    }
   },
   "outputs": [],
   "source": [
    "varr1.swap(varr);"
   ]
  },
  {
   "cell_type": "code",
   "execution_count": 15,
   "metadata": {
    "ExecuteTime": {
     "end_time": "2019-05-31T22:03:07.305207Z",
     "start_time": "2019-05-31T22:03:07.285336Z"
    }
   },
   "outputs": [
    {
     "name": "stdout",
     "output_type": "stream",
     "text": [
      "3 4 5 1 2 \n"
     ]
    }
   ],
   "source": [
    "for (int &x: varr)\n",
    "    cout << x << \" \";\n",
    "cout << endl;"
   ]
  },
  {
   "cell_type": "code",
   "execution_count": null,
   "metadata": {},
   "outputs": [],
   "source": []
  }
 ],
 "metadata": {
  "kernelspec": {
   "display_name": "C++17",
   "language": "C++17",
   "name": "xcpp17"
  },
  "language_info": {
   "codemirror_mode": "text/x-c++src",
   "file_extension": ".cpp",
   "mimetype": "text/x-c++src",
   "name": "c++",
   "version": "-std=c++17"
  },
  "toc": {
   "base_numbering": 1,
   "nav_menu": {},
   "number_sections": true,
   "sideBar": true,
   "skip_h1_title": false,
   "title_cell": "Table of Contents",
   "title_sidebar": "Contents",
   "toc_cell": true,
   "toc_position": {},
   "toc_section_display": true,
   "toc_window_display": true
  }
 },
 "nbformat": 4,
 "nbformat_minor": 2
}
