{
 "cells": [
  {
   "cell_type": "markdown",
   "metadata": {
    "toc": true
   },
   "source": [
    "<h1>Table of Contents<span class=\"tocSkip\"></span></h1>\n",
    "<div class=\"toc\"><ul class=\"toc-item\"><li><span><a href=\"#partition-print-two-parts\" data-toc-modified-id=\"partition-print-two-parts-1\"><span class=\"toc-item-num\">1&nbsp;&nbsp;</span>partition print two parts</a></span></li><li><span><a href=\"#partition-to-two-parts-no-sorting\" data-toc-modified-id=\"partition-to-two-parts-no-sorting-2\"><span class=\"toc-item-num\">2&nbsp;&nbsp;</span>partition to two parts no sorting</a></span></li><li><span><a href=\"#partition-and-sorting\" data-toc-modified-id=\"partition-and-sorting-3\"><span class=\"toc-item-num\">3&nbsp;&nbsp;</span>partition and sorting</a></span></li></ul></div>"
   ]
  },
  {
   "cell_type": "code",
   "execution_count": 12,
   "metadata": {
    "ExecuteTime": {
     "end_time": "2019-06-02T03:33:44.878582Z",
     "start_time": "2019-06-02T03:33:44.877736Z"
    }
   },
   "outputs": [],
   "source": [
    "#include <algorithm>\n",
    "#include <array>\n",
    "#include <iostream>\n",
    "#include <iterator>"
   ]
  },
  {
   "cell_type": "markdown",
   "metadata": {},
   "source": [
    "# partition print two parts"
   ]
  },
  {
   "cell_type": "code",
   "execution_count": 1,
   "metadata": {
    "ExecuteTime": {
     "end_time": "2019-06-02T03:09:14.762482Z",
     "start_time": "2019-06-02T03:09:14.722446Z"
    }
   },
   "outputs": [
    {
     "name": "stdout",
     "output_type": "stream",
     "text": [
      "Before partition:\n",
      "    8 2 6 4 \n",
      "After partition:\n",
      "    5 3 7 1 9 "
     ]
    }
   ],
   "source": [
    "std::array<int, 9> v = { 1, 2, 3, 4, 5, 6, 7, 8, 9 };\n",
    "// std::vector<int> v = { 1, 2, 3, 4, 5, 6, 7, 8, 9 };\n",
    "\n",
    "auto is_even = [](int i){ return i % 2 == 0; };\n",
    "std::partition(v.begin(), v.end(), is_even);\n",
    "\n",
    "auto p = std::partition_point(v.begin(), v.end(), is_even);\n",
    "\n",
    "std::cout << \"Before partition:\\n    \";\n",
    "std::copy(v.begin(), p, std::ostream_iterator<int>(std::cout, \" \"));\n",
    "std::cout << \"\\nAfter partition:\\n    \";\n",
    "std::copy(p, v.end(), std::ostream_iterator<int>(std::cout, \" \"));"
   ]
  },
  {
   "cell_type": "markdown",
   "metadata": {},
   "source": [
    "# partition to two parts no sorting"
   ]
  },
  {
   "cell_type": "code",
   "execution_count": 9,
   "metadata": {
    "ExecuteTime": {
     "end_time": "2019-06-02T03:28:50.477094Z",
     "start_time": "2019-06-02T03:28:50.404963Z"
    }
   },
   "outputs": [
    {
     "name": "stdout",
     "output_type": "stream",
     "text": [
      "2 1 5 4 \n",
      "8 9 10 15 20 "
     ]
    }
   ],
   "source": [
    "int pivot = 8;\n",
    "int arr [9] = {2,1,5,8,9,4,10,15,20};\n",
    "\n",
    "// get partition point  \n",
    "int *pt = std::stable_partition(arr, std::end(arr), [&](int n) {return n < pivot;});\n",
    "\n",
    "// create two vectors consisting of left and right hand side\n",
    "// of partition\n",
    "std::vector<int> a1(arr, pt);\n",
    "std::vector<int> a2(pt, std::end(arr));\n",
    "\n",
    "// output results\n",
    "for (auto& i : a1)\n",
    "    std::cout << i << \" \";\n",
    "std::cout << '\\n';\n",
    "\n",
    "for (auto& i : a2)\n",
    "    std::cout << i << \" \";"
   ]
  },
  {
   "cell_type": "code",
   "execution_count": 10,
   "metadata": {
    "ExecuteTime": {
     "end_time": "2019-06-02T03:29:04.296388Z",
     "start_time": "2019-06-02T03:29:04.5820Z"
    }
   },
   "outputs": [
    {
     "data": {
      "text/plain": [
       "{ 2, 1, 5, 4 }"
      ]
     },
     "execution_count": 10,
     "metadata": {},
     "output_type": "execute_result"
    }
   ],
   "source": [
    "a1"
   ]
  },
  {
   "cell_type": "markdown",
   "metadata": {},
   "source": [
    "# partition and sorting"
   ]
  },
  {
   "cell_type": "code",
   "execution_count": 11,
   "metadata": {
    "ExecuteTime": {
     "end_time": "2019-06-02T03:33:05.209812Z",
     "start_time": "2019-06-02T03:33:05.156489Z"
    }
   },
   "outputs": [
    {
     "name": "stdout",
     "output_type": "stream",
     "text": [
      "Before partition:\n",
      "    1 2 4 5 \n",
      "After partition:\n",
      "    8 9 10 15 20 "
     ]
    }
   ],
   "source": [
    "std::vector<int> vec = {2,1,5,8,9,4,10,15,20};\n",
    "\n",
    "auto is_lower_than_8 = [](int i){ return i < 8; };\n",
    "\n",
    "std::partition(vec.begin(), vec.end(), is_lower_than_8 );\n",
    "\n",
    "auto par = std::partition_point(vec.begin(), vec.end(), is_lower_than_8 );\n",
    "\n",
    "std::cout << \"Before partition:\\n    \";\n",
    "std::vector<int> p1(vec.begin(), par);\n",
    "std::sort(p1.begin(), p1.end());\n",
    "std::copy(p1.begin(), p1.end(), std::ostream_iterator<int>(std::cout, \" \"));\n",
    "\n",
    "std::cout << \"\\nAfter partition:\\n    \";\n",
    "std::vector<int> p2(par, vec.end());\n",
    "std::sort(p2.begin(), p2.end());\n",
    "std::copy(p2.begin(), p2.end(), std::ostream_iterator<int>(std::cout, \" \"));"
   ]
  },
  {
   "cell_type": "code",
   "execution_count": null,
   "metadata": {},
   "outputs": [],
   "source": []
  }
 ],
 "metadata": {
  "kernelspec": {
   "display_name": "C++17",
   "language": "C++17",
   "name": "xcpp17"
  },
  "language_info": {
   "codemirror_mode": "text/x-c++src",
   "file_extension": ".cpp",
   "mimetype": "text/x-c++src",
   "name": "c++",
   "version": "-std=c++17"
  },
  "toc": {
   "base_numbering": 1,
   "nav_menu": {},
   "number_sections": true,
   "sideBar": true,
   "skip_h1_title": false,
   "title_cell": "Table of Contents",
   "title_sidebar": "Contents",
   "toc_cell": true,
   "toc_position": {},
   "toc_section_display": true,
   "toc_window_display": true
  }
 },
 "nbformat": 4,
 "nbformat_minor": 2
}
