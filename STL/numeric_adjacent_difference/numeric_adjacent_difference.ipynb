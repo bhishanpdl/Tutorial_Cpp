{
 "cells": [
  {
   "cell_type": "markdown",
   "metadata": {
    "toc": true
   },
   "source": [
    "<h1>Table of Contents<span class=\"tocSkip\"></span></h1>\n",
    "<div class=\"toc\"><ul class=\"toc-item\"><li><span><a href=\"#numeric:-adjacent_difference\" data-toc-modified-id=\"numeric:-adjacent_difference-1\"><span class=\"toc-item-num\">1&nbsp;&nbsp;</span>numeric: adjacent_difference</a></span></li><li><span><a href=\"#numeric:-inner_product\" data-toc-modified-id=\"numeric:-inner_product-2\"><span class=\"toc-item-num\">2&nbsp;&nbsp;</span>numeric: inner_product</a></span></li><li><span><a href=\"#numeric:-inner_product\" data-toc-modified-id=\"numeric:-inner_product-3\"><span class=\"toc-item-num\">3&nbsp;&nbsp;</span>numeric: inner_product</a></span></li><li><span><a href=\"#numeric:-accumulate\" data-toc-modified-id=\"numeric:-accumulate-4\"><span class=\"toc-item-num\">4&nbsp;&nbsp;</span>numeric: accumulate</a></span></li></ul></div>"
   ]
  },
  {
   "cell_type": "code",
   "execution_count": 1,
   "metadata": {
    "ExecuteTime": {
     "end_time": "2019-06-01T14:53:32.784891Z",
     "start_time": "2019-06-01T14:53:32.782589Z"
    }
   },
   "outputs": [],
   "source": [
    "/*\n",
    "Author: Bhishan Poudel\n",
    "Date: Jun 1, 2019\n",
    "Ref: https://www.geeksforgeeks.org/numeric-header-in-c-stl-set-2-adjacent_difference-inner_product-and-iota/\n",
    "*/\n",
    "#include <iostream>  \n",
    "#include <functional> // for multiplies function \n",
    "#include <numeric>   //for adjacent_difference \n",
    "\n",
    "using namespace std;"
   ]
  },
  {
   "cell_type": "markdown",
   "metadata": {},
   "source": [
    "# numeric: adjacent_difference"
   ]
  },
  {
   "cell_type": "code",
   "execution_count": 2,
   "metadata": {
    "ExecuteTime": {
     "end_time": "2019-06-01T14:53:32.791265Z",
     "start_time": "2019-06-01T14:53:32.790053Z"
    }
   },
   "outputs": [],
   "source": [
    "int myfun(int x, int y) {return x+y;}"
   ]
  },
  {
   "cell_type": "code",
   "execution_count": 3,
   "metadata": {
    "ExecuteTime": {
     "end_time": "2019-06-01T14:53:32.792789Z",
     "start_time": "2019-06-01T14:53:32.791610Z"
    }
   },
   "outputs": [],
   "source": [
    "int a[] = {1,2,3,4,5};\n",
    "int b[5];"
   ]
  },
  {
   "cell_type": "code",
   "execution_count": 4,
   "metadata": {
    "ExecuteTime": {
     "end_time": "2019-06-01T14:53:32.829647Z",
     "start_time": "2019-06-01T14:53:32.801657Z"
    }
   },
   "outputs": [
    {
     "name": "stdout",
     "output_type": "stream",
     "text": [
      "1 1 1 1 1 "
     ]
    }
   ],
   "source": [
    "adjacent_difference(a,a+5,b);\n",
    "\n",
    "for (int &x: b) cout << x << \" \";"
   ]
  },
  {
   "cell_type": "code",
   "execution_count": 5,
   "metadata": {
    "ExecuteTime": {
     "end_time": "2019-06-01T14:53:33.185797Z",
     "start_time": "2019-06-01T14:53:32.829915Z"
    }
   },
   "outputs": [
    {
     "data": {
      "text/plain": [
       "{ 1, 3, 5, 7, 9 }"
      ]
     },
     "execution_count": 5,
     "metadata": {},
     "output_type": "execute_result"
    }
   ],
   "source": [
    "adjacent_difference(a,a+5,b, myfun);\n",
    "b"
   ]
  },
  {
   "cell_type": "code",
   "execution_count": 6,
   "metadata": {
    "ExecuteTime": {
     "end_time": "2019-06-01T14:53:33.463216Z",
     "start_time": "2019-06-01T14:53:33.185965Z"
    }
   },
   "outputs": [
    {
     "data": {
      "text/plain": [
       "{ 1, 2, 6, 12, 20 }"
      ]
     },
     "execution_count": 6,
     "metadata": {},
     "output_type": "execute_result"
    }
   ],
   "source": [
    "// using multiplies function from functional header\n",
    "adjacent_difference(a,a+5,b,multiplies<int>());\n",
    "b   "
   ]
  },
  {
   "cell_type": "code",
   "execution_count": 7,
   "metadata": {
    "ExecuteTime": {
     "end_time": "2019-06-01T14:53:33.753161Z",
     "start_time": "2019-06-01T14:53:33.463516Z"
    }
   },
   "outputs": [
    {
     "data": {
      "text/plain": [
       "{ 1, 2, 3, 4, 5 }"
      ]
     },
     "execution_count": 7,
     "metadata": {},
     "output_type": "execute_result"
    }
   ],
   "source": [
    "a"
   ]
  },
  {
   "cell_type": "markdown",
   "metadata": {},
   "source": [
    "# numeric: inner_product\n",
    "```\n",
    "Parameters  \n",
    "first1, last1\t-\tthe first range of elements  \n",
    "first2\t-\tthe beginning of the second range of elements  \n",
    "init\t-\tinitial value of the sum of the products\n",
    "op1\t-\tbinary operation function object that will be applied. This \"sum\" function takes a value returned by op2 and the current value of the accumulator and produces a new value to be stored in the accumulator. \n",
    "The signature of the function should be equivalent to the following:\n",
    "\n",
    " Ret fun(const Type1 &a, const Type2 &b);\n",
    "\n",
    "The signature does not need to have const &. \n",
    "The types Type1 and Type2 must be such that objects of types T and Type3 can be implicitly converted to Type1 and Type2 respectively. The type Ret must be such that an object of type T can be assigned a value of type Ret. ​\n",
    "\n",
    "op2\t-\tbinary operation function object that will be applied. This \"product\" function takes one value from each range and produces a new value. \n",
    "The signature of the function should be equivalent to the following:\n",
    "\n",
    " Ret fun(const Type1 &a, const Type2 &b);\n",
    "\n",
    "The signature does not need to have const &. \n",
    "The types Type1 and Type2 must be such that objects of types InputIt1 and InputIt2 can be dereferenced and then implicitly converted to Type1 and Type2 respectively. The type Ret must be such that an object of type Type3 can be assigned a value of type Ret. ​\n",
    "\n",
    "Type requirements\n",
    "-InputIt1, InputIt2 must meet the requirements of LegacyInputIterator.\n",
    "-ForwardIt1, ForwardIt2 must meet the requirements of LegacyForwardIterator.\n",
    "-T must meet the requirements of CopyAssignable and CopyConstructible.\n",
    "```"
   ]
  },
  {
   "cell_type": "code",
   "execution_count": 8,
   "metadata": {
    "ExecuteTime": {
     "end_time": "2019-06-01T14:53:33.753923Z",
     "start_time": "2019-06-01T14:53:33.753336Z"
    }
   },
   "outputs": [],
   "source": [
    "#include <iostream>   \n",
    "#include <functional> // for subtraction, std::divides \n",
    "#include <numeric>   // for inner_product "
   ]
  },
  {
   "cell_type": "code",
   "execution_count": 9,
   "metadata": {
    "ExecuteTime": {
     "end_time": "2019-06-01T14:53:33.754775Z",
     "start_time": "2019-06-01T14:53:33.754128Z"
    }
   },
   "outputs": [],
   "source": [
    "int fun1(int x, int y) {return x-y;}"
   ]
  },
  {
   "cell_type": "code",
   "execution_count": 10,
   "metadata": {
    "ExecuteTime": {
     "end_time": "2019-06-01T14:53:33.755666Z",
     "start_time": "2019-06-01T14:53:33.755035Z"
    }
   },
   "outputs": [],
   "source": [
    "int fun2(int x, int y) {return x+7;}"
   ]
  },
  {
   "cell_type": "code",
   "execution_count": 11,
   "metadata": {
    "ExecuteTime": {
     "end_time": "2019-06-01T14:53:33.756505Z",
     "start_time": "2019-06-01T14:53:33.755847Z"
    }
   },
   "outputs": [],
   "source": [
    "int var = 100;\n",
    "int a3[] = {10,20,30};\n",
    "int b3[] = {1,2,3}; // 10 + 40 + 90 == 140"
   ]
  },
  {
   "cell_type": "code",
   "execution_count": 12,
   "metadata": {
    "ExecuteTime": {
     "end_time": "2019-06-01T14:53:33.759684Z",
     "start_time": "2019-06-01T14:53:33.756707Z"
    }
   },
   "outputs": [
    {
     "name": "stdout",
     "output_type": "stream",
     "text": [
      "240"
     ]
    }
   ],
   "source": [
    "// inner_product with default method \n",
    "cout << inner_product(a3,a3+3,b3,var);\n"
   ]
  },
  {
   "cell_type": "code",
   "execution_count": 13,
   "metadata": {
    "ExecuteTime": {
     "end_time": "2019-06-01T14:53:33.760467Z",
     "start_time": "2019-06-01T14:53:33.759865Z"
    }
   },
   "outputs": [],
   "source": [
    "int ans;"
   ]
  },
  {
   "cell_type": "code",
   "execution_count": 14,
   "metadata": {
    "ExecuteTime": {
     "end_time": "2019-06-01T14:53:34.165010Z",
     "start_time": "2019-06-01T14:53:33.760655Z"
    }
   },
   "outputs": [
    {
     "data": {
      "text/plain": [
       "240"
      ]
     },
     "execution_count": 14,
     "metadata": {},
     "output_type": "execute_result"
    }
   ],
   "source": [
    "ans = inner_product(a3,a3+3,b3,var);\n",
    "ans"
   ]
  },
  {
   "cell_type": "code",
   "execution_count": 15,
   "metadata": {
    "ExecuteTime": {
     "end_time": "2019-06-01T14:53:34.352260Z",
     "start_time": "2019-06-01T14:53:34.16683Z"
    }
   },
   "outputs": [
    {
     "name": "stdout",
     "output_type": "stream",
     "text": [
      "\n",
      "Result using inner_product with pre-defined function: 70"
     ]
    }
   ],
   "source": [
    "// inner_product with pre-defined function \n",
    "cout << \"\\nResult using inner_product with pre-defined function: \"; \n",
    "cout << inner_product(a3, a3+3, b3, var, minus<int>(), divides<int>()); "
   ]
  },
  {
   "cell_type": "code",
   "execution_count": 16,
   "metadata": {
    "ExecuteTime": {
     "end_time": "2019-06-01T14:53:34.359340Z",
     "start_time": "2019-06-01T14:53:34.35425Z"
    }
   },
   "outputs": [],
   "source": [
    "/*\n",
    "product function is divides   10/1 20/2 30/3 = 10 10 10\n",
    "sum function is minus -10-10-10 = -30\n",
    "init sum is 100\n",
    "ans = 100 -30 = 70\n",
    "\n",
    "*/"
   ]
  },
  {
   "cell_type": "markdown",
   "metadata": {},
   "source": [
    "# numeric: inner_product"
   ]
  },
  {
   "cell_type": "code",
   "execution_count": 17,
   "metadata": {
    "ExecuteTime": {
     "end_time": "2019-06-01T14:53:34.366850Z",
     "start_time": "2019-06-01T14:53:34.36126Z"
    }
   },
   "outputs": [],
   "source": [
    "#include <numeric>\n",
    "#include <iostream>\n",
    "#include <vector>\n",
    "#include <functional> // plus<>()  equal_to<>()"
   ]
  },
  {
   "cell_type": "code",
   "execution_count": 18,
   "metadata": {
    "ExecuteTime": {
     "end_time": "2019-06-01T14:53:34.662780Z",
     "start_time": "2019-06-01T14:53:34.36907Z"
    }
   },
   "outputs": [],
   "source": [
    "std::vector<int> aa3{0, 1, 2, 3, 4};\n",
    "std::vector<int> bb3{5, 4, 2, 3, 2};"
   ]
  },
  {
   "cell_type": "code",
   "execution_count": 19,
   "metadata": {
    "ExecuteTime": {
     "end_time": "2019-06-01T14:53:34.987780Z",
     "start_time": "2019-06-01T14:53:34.66480Z"
    }
   },
   "outputs": [
    {
     "name": "stdout",
     "output_type": "stream",
     "text": [
      "Inner product of a and b: 25\n"
     ]
    }
   ],
   "source": [
    "int r1 = std::inner_product(aa3.begin(), aa3.end(), bb3.begin(), 0);\n",
    "std::cout << \"Inner product of a and b: \" << r1 << '\\n';"
   ]
  },
  {
   "cell_type": "code",
   "execution_count": 20,
   "metadata": {
    "ExecuteTime": {
     "end_time": "2019-06-01T14:53:34.124481Z",
     "start_time": "2019-06-01T14:53:34.99159Z"
    }
   },
   "outputs": [
    {
     "name": "stdout",
     "output_type": "stream",
     "text": [
      "Number of pairwise matches between a and b: 2\n"
     ]
    }
   ],
   "source": [
    "int r2 = std::inner_product(aa3.begin(), aa3.end(), bb3.begin(), 0,\n",
    "                            std::plus<>(), std::equal_to<>());\n",
    "std::cout << \"Number of pairwise matches between a and b: \" <<  r2 << '\\n';"
   ]
  },
  {
   "cell_type": "code",
   "execution_count": 21,
   "metadata": {
    "ExecuteTime": {
     "end_time": "2019-06-01T14:53:34.125206Z",
     "start_time": "2019-06-01T14:53:34.124675Z"
    }
   },
   "outputs": [],
   "source": [
    "/*\n",
    "product function is equal_to   0==5 1==4  etc gives boolean\n",
    "sum function is plus 0+0+1+1+0 = 2\n",
    "init sum is 0\n",
    "ans = 0 + 2 = 2\n",
    "\n",
    "*/"
   ]
  },
  {
   "cell_type": "markdown",
   "metadata": {},
   "source": [
    "# numeric: accumulate\n",
    "https://en.cppreference.com/w/cpp/algorithm/accumulate"
   ]
  },
  {
   "cell_type": "code",
   "execution_count": 22,
   "metadata": {
    "ExecuteTime": {
     "end_time": "2019-06-01T14:53:34.126271Z",
     "start_time": "2019-06-01T14:53:34.125401Z"
    }
   },
   "outputs": [],
   "source": [
    "#include <iostream>\n",
    "#include <vector>\n",
    "#include <numeric>\n",
    "#include <string>\n",
    "#include <functional> // multliplies<int>()\n",
    "\n",
    "using namespace std;"
   ]
  },
  {
   "cell_type": "code",
   "execution_count": 23,
   "metadata": {
    "ExecuteTime": {
     "end_time": "2019-06-01T14:53:34.221211Z",
     "start_time": "2019-06-01T14:53:34.126486Z"
    }
   },
   "outputs": [
    {
     "name": "stdout",
     "output_type": "stream",
     "text": [
      "sum: 10\n",
      "product: 24\n",
      "dash-separated string: 1-2-3-4\n",
      "dash-separated string (right-folded): 4-3-2-1\n"
     ]
    }
   ],
   "source": [
    "vector<int> v{1, 2, 3, 4};\n",
    "\n",
    "int mysum = accumulate(v.begin(), v.end(), 0);\n",
    "\n",
    "int myproduct = accumulate(v.begin(), v.end(), 1, multiplies<int>());\n",
    "\n",
    "auto dash_fold = [](string a, int b) {\n",
    "                     return move(a) + '-' + to_string(b);\n",
    "                 };\n",
    "\n",
    "string s = accumulate(next(v.begin()), v.end(),\n",
    "                                to_string(v[0]), // start with first element\n",
    "                                dash_fold);\n",
    "\n",
    "// Right fold using reverse iterators\n",
    "string rs = accumulate(next(v.rbegin()), v.rend(),\n",
    "                                 to_string(v.back()), // start with last element\n",
    "                                 dash_fold);\n",
    "\n",
    "cout << \"sum: \" << mysum << '\\n'\n",
    "     << \"product: \" << myproduct << '\\n'\n",
    "     << \"dash-separated string: \" << s << '\\n'\n",
    "     << \"dash-separated string (right-folded): \" << rs << '\\n';"
   ]
  },
  {
   "cell_type": "code",
   "execution_count": null,
   "metadata": {},
   "outputs": [],
   "source": []
  }
 ],
 "metadata": {
  "kernelspec": {
   "display_name": "C++17",
   "language": "C++17",
   "name": "xcpp17"
  },
  "language_info": {
   "codemirror_mode": "text/x-c++src",
   "file_extension": ".cpp",
   "mimetype": "text/x-c++src",
   "name": "c++",
   "version": "-std=c++17"
  },
  "toc": {
   "base_numbering": 1,
   "nav_menu": {},
   "number_sections": true,
   "sideBar": true,
   "skip_h1_title": false,
   "title_cell": "Table of Contents",
   "title_sidebar": "Contents",
   "toc_cell": true,
   "toc_position": {},
   "toc_section_display": true,
   "toc_window_display": true
  }
 },
 "nbformat": 4,
 "nbformat_minor": 2
}
